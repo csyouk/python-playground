{
 "metadata": {
  "name": "",
  "signature": "sha256:3f7ad1cd7fed0edac516682399b1413cfd99c44376a0425101a309dbe0e0adf2"
 },
 "nbformat": 3,
 "nbformat_minor": 0,
 "worksheets": [
  {
   "cells": [
    {
     "cell_type": "code",
     "collapsed": false,
     "input": [
      "f = lambda x, y : x+y"
     ],
     "language": "python",
     "metadata": {},
     "outputs": [],
     "prompt_number": 1
    },
    {
     "cell_type": "code",
     "collapsed": false,
     "input": [
      "f(1,1)"
     ],
     "language": "python",
     "metadata": {},
     "outputs": [
      {
       "metadata": {},
       "output_type": "pyout",
       "prompt_number": 2,
       "text": [
        "2"
       ]
      }
     ],
     "prompt_number": 2
    },
    {
     "cell_type": "code",
     "collapsed": false,
     "input": [
      "def fahrenheit(T):\n",
      "    return ((float(9)/5)*T + 32)\n",
      "def celsius(T):\n",
      "    return (float(5)/9)*(T-32)\n",
      "\n",
      "temp = (36.5,37,37.5)\n",
      "\n",
      "F = map(fahrenheit, temp)\n",
      "C = map(celsius, F)\n",
      "print(F)\n",
      "print(C)"
     ],
     "language": "python",
     "metadata": {},
     "outputs": [
      {
       "output_type": "stream",
       "stream": "stdout",
       "text": [
        "<map object at 0x103f16080>\n",
        "<map object at 0x103f160b8>\n"
       ]
      }
     ],
     "prompt_number": 4
    },
    {
     "cell_type": "code",
     "collapsed": false,
     "input": [],
     "language": "python",
     "metadata": {},
     "outputs": []
    }
   ],
   "metadata": {}
  }
 ]
}