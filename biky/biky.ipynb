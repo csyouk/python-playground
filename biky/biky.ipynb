{
 "metadata": {
  "name": "",
  "signature": "sha256:a45cd85bd2c2d2a06696994bc47e3102fbce5c4ef5ebb55993e8c914f3e98359"
 },
 "nbformat": 3,
 "nbformat_minor": 0,
 "worksheets": [
  {
   "cells": [
    {
     "cell_type": "markdown",
     "metadata": {},
     "source": [
      "(v) \uc131\ubcc4\n",
      "\n",
      "(v) \ub098\uc774\n",
      "\n",
      "(v) \uad00\ub78c\uc601\ud654\ubaa9\ub85d / \uad00\ub78c\uc601\ud654\uac2f\uc218\n",
      "\n",
      "(v) \ubc29\uba85\ub85d\uac2f\uc218 \n",
      "\n",
      "(v) \ud68d\ub4dd\ub2e4\ub984\uce74\ub4dc\ubaa9\ub85d / \ub2e4\ub984\uce74\ub4dc\ud68d\ub4dd\uc22b\uc790\n",
      "\n",
      "(v) \uac8c\uc784\ud50c\ub808\uc774\ubaa9\ub85d / \uac8c\uc784\ubcc4 \ud50c\ub808\uc774 \uc22b\uc790\n",
      "\n",
      "(v) \ub2e4\ub984\uce74\ub4dc \ucd9c\ub825\uc22b\uc790\n",
      "\n",
      "(v) \uc77c\uc790\ubcc4 \ub4f1\ub85d\uc778\uc6d0\n",
      "\n"
     ]
    },
    {
     "cell_type": "code",
     "collapsed": false,
     "input": [
      "import os\n",
      "import xlsxwriter\n",
      "from subprocess import call\n",
      "\n",
      "db_name = 'biky'"
     ],
     "language": "python",
     "metadata": {},
     "outputs": [],
     "prompt_number": 24
    },
    {
     "cell_type": "code",
     "collapsed": false,
     "input": [
      "import os\n",
      "import json\n",
      "import datetime\n",
      "import matplotlib.pyplot as plt\n",
      "from pymongo import MongoClient\n",
      "from bson.objectid import ObjectId\n",
      "\n",
      "\n",
      "client = MongoClient('175.126.74.17', 27017)\n",
      "db = client[db_name]\n",
      "cards = [i for i in db.cards.find()]\n",
      "director_cards = [i for i in db.director_cards.find()]\n",
      "floors = [i for i in db.floors.find()]\n",
      "movies = [i for i in db.movies.find()]\n",
      "players = [i for i in db.players.find()]\n",
      "activities = [i for i in db.players_activities.find()]\n",
      "client.disconnect()\n",
      "\n",
      "category = str(datetime.date.today().month) + \"\uc6d4 \" + str(datetime.date.today().day) + \"\uc77c \uae4c\uc9c0 \ucc38\uc5ec\ud55c \ud50c\ub808\uc774\uc5b4 \uc218 : \"\n",
      "involve_player =  len(players)\n",
      "print(category, involve_player)\n",
      "\n",
      "\n"
     ],
     "language": "python",
     "metadata": {},
     "outputs": [
      {
       "output_type": "stream",
       "stream": "stdout",
       "text": [
        "8\uc6d4 7\uc77c \uae4c\uc9c0 \ucc38\uc5ec\ud55c \ud50c\ub808\uc774\uc5b4 \uc218 :  1153\n"
       ]
      }
     ],
     "prompt_number": 25
    },
    {
     "cell_type": "code",
     "collapsed": false,
     "input": [
      "print(datetime.date.today().year)\n",
      "current_year = int(datetime.date.today().year)"
     ],
     "language": "python",
     "metadata": {},
     "outputs": [
      {
       "output_type": "stream",
       "stream": "stdout",
       "text": [
        "2015\n"
       ]
      }
     ],
     "prompt_number": 26
    },
    {
     "cell_type": "code",
     "collapsed": false,
     "input": [
      "%matplotlib inline\n",
      "\n",
      "more_than_three_activity = []\n",
      "ages = []\n",
      "male_count = 0\n",
      "female_count = 0\n",
      "\n",
      "pairs = []\n",
      "\n",
      "age_dist = [0]*60\n",
      "\n",
      "for player in players:\n",
      "    count = 0\n",
      "    for activity in activities:\n",
      "        if (player[\"_id\"] == activity[\"player_id\"]) and activity[\"print\"]:\n",
      "            count += 1\n",
      "    player[\"count\"] = count\n",
      "    player[\"age\"] = current_year - int(player[\"birthyear\"])\n",
      "    if count > 0:        \n",
      "        more_than_three_activity.append(player)\n",
      "\n",
      "    if player[\"sex\"] == \"Male\":\n",
      "        male_count += 1\n",
      "    else:\n",
      "        female_count += 1\n",
      "    ages.append(current_year - int(player[\"birthyear\"]))\n",
      "    pairs.append((player[\"age\"], player[\"count\"]))\n",
      "\n",
      "\n",
      "for pair in pairs:\n",
      "    age_dist[pair[0]] += pair[1]\n",
      "    \n",
      "print('1\ubc88 \uc774\uc0c1 \ucd9c\ub825\ud55c \uc0ac\ub78c : ', len(more_than_three_activity))\n",
      "print(\"\ub0a8\uc790 : \", male_count)\n",
      "print(\"\uc5ec\uc790 : \", female_count)\n",
      "\n",
      "import numpy as np\n",
      "x = np.array(ages)\n",
      "y = np.bincount(x)\n",
      "\n",
      "for i, v in enumerate(y):\n",
      "    print(i,\"\uc138 / \", v, \" \uba85 \ucc38\uc5ec\", age_dist[i], \" \ubc88 \ud65c\ub3d9 \ucc38\uc5ec\")\n",
      "\n",
      "print(sum(y))\n",
      "    \n",
      "def show_inflow_visitor(data_array):\n",
      "    fig = plt.figure()\n",
      "    ax = fig.add_subplot(111)\n",
      "    x = data_array\n",
      "    numBins = sum(data_array)\n",
      "    ax.hist(x,15,color='green',alpha=0.8)\n",
      "    plt.xlabel(\"Age\", fontsize=20)\n",
      "    plt.ylabel(\"Count\", fontsize=20)\n",
      "    plt.show()\n",
      "\n",
      "show_inflow_visitor(x)"
     ],
     "language": "python",
     "metadata": {},
     "outputs": [
      {
       "output_type": "stream",
       "stream": "stdout",
       "text": [
        "1\ubc88 \uc774\uc0c1 \ucd9c\ub825\ud55c \uc0ac\ub78c :  604\n",
        "\ub0a8\uc790 :  493\n",
        "\uc5ec\uc790 :  660\n",
        "0 \uc138 /  0  \uba85 \ucc38\uc5ec 0  \ubc88 \ud65c\ub3d9 \ucc38\uc5ec\n",
        "1 \uc138 /  0  \uba85 \ucc38\uc5ec 0  \ubc88 \ud65c\ub3d9 \ucc38\uc5ec\n",
        "2 \uc138 /  10  \uba85 \ucc38\uc5ec 6  \ubc88 \ud65c\ub3d9 \ucc38\uc5ec\n",
        "3 \uc138 /  20  \uba85 \ucc38\uc5ec 15  \ubc88 \ud65c\ub3d9 \ucc38\uc5ec\n",
        "4 \uc138 /  54  \uba85 \ucc38\uc5ec 86  \ubc88 \ud65c\ub3d9 \ucc38\uc5ec\n",
        "5 \uc138 /  76  \uba85 \ucc38\uc5ec 220  \ubc88 \ud65c\ub3d9 \ucc38\uc5ec\n",
        "6 \uc138 /  94  \uba85 \ucc38\uc5ec 269  \ubc88 \ud65c\ub3d9 \ucc38\uc5ec\n",
        "7 \uc138 /  140  \uba85 \ucc38\uc5ec 356  \ubc88 \ud65c\ub3d9 \ucc38\uc5ec\n",
        "8 \uc138 /  158  \uba85 \ucc38\uc5ec 554  \ubc88 \ud65c\ub3d9 \ucc38\uc5ec\n",
        "9 \uc138 /  130  \uba85 \ucc38\uc5ec 402  \ubc88 \ud65c\ub3d9 \ucc38\uc5ec\n",
        "10 \uc138 /  122  \uba85 \ucc38\uc5ec 363  \ubc88 \ud65c\ub3d9 \ucc38\uc5ec\n",
        "11 \uc138 /  126  \uba85 \ucc38\uc5ec 355  \ubc88 \ud65c\ub3d9 \ucc38\uc5ec\n",
        "12 \uc138 /  124  \uba85 \ucc38\uc5ec 185  \ubc88 \ud65c\ub3d9 \ucc38\uc5ec\n",
        "13 \uc138 /  22  \uba85 \ucc38\uc5ec 55  \ubc88 \ud65c\ub3d9 \ucc38\uc5ec\n",
        "14 \uc138 /  6  \uba85 \ucc38\uc5ec 9  \ubc88 \ud65c\ub3d9 \ucc38\uc5ec\n",
        "15 \uc138 /  8  \uba85 \ucc38\uc5ec 34  \ubc88 \ud65c\ub3d9 \ucc38\uc5ec\n",
        "16 \uc138 /  2  \uba85 \ucc38\uc5ec 3  \ubc88 \ud65c\ub3d9 \ucc38\uc5ec\n",
        "17 \uc138 /  4  \uba85 \ucc38\uc5ec 19  \ubc88 \ud65c\ub3d9 \ucc38\uc5ec\n",
        "18 \uc138 /  1  \uba85 \ucc38\uc5ec 3  \ubc88 \ud65c\ub3d9 \ucc38\uc5ec\n",
        "19 \uc138 /  3  \uba85 \ucc38\uc5ec 2  \ubc88 \ud65c\ub3d9 \ucc38\uc5ec\n",
        "20 \uc138 /  7  \uba85 \ucc38\uc5ec 5  \ubc88 \ud65c\ub3d9 \ucc38\uc5ec\n",
        "21 \uc138 /  1  \uba85 \ucc38\uc5ec 0  \ubc88 \ud65c\ub3d9 \ucc38\uc5ec\n",
        "22 \uc138 /  1  \uba85 \ucc38\uc5ec 2  \ubc88 \ud65c\ub3d9 \ucc38\uc5ec\n",
        "23 \uc138 /  6  \uba85 \ucc38\uc5ec 1  \ubc88 \ud65c\ub3d9 \ucc38\uc5ec\n",
        "24 \uc138 /  3  \uba85 \ucc38\uc5ec 0  \ubc88 \ud65c\ub3d9 \ucc38\uc5ec\n",
        "25 \uc138 /  2  \uba85 \ucc38\uc5ec 1  \ubc88 \ud65c\ub3d9 \ucc38\uc5ec\n",
        "26 \uc138 /  3  \uba85 \ucc38\uc5ec 0  \ubc88 \ud65c\ub3d9 \ucc38\uc5ec\n",
        "27 \uc138 /  2  \uba85 \ucc38\uc5ec 0  \ubc88 \ud65c\ub3d9 \ucc38\uc5ec\n",
        "28 \uc138 /  1  \uba85 \ucc38\uc5ec 13  \ubc88 \ud65c\ub3d9 \ucc38\uc5ec\n",
        "29 \uc138 /  2  \uba85 \ucc38\uc5ec 12  \ubc88 \ud65c\ub3d9 \ucc38\uc5ec\n",
        "30 \uc138 /  2  \uba85 \ucc38\uc5ec 0  \ubc88 \ud65c\ub3d9 \ucc38\uc5ec\n",
        "31 \uc138 /  1  \uba85 \ucc38\uc5ec 0  \ubc88 \ud65c\ub3d9 \ucc38\uc5ec\n",
        "32 \uc138 /  2  \uba85 \ucc38\uc5ec 0  \ubc88 \ud65c\ub3d9 \ucc38\uc5ec\n",
        "33 \uc138 /  0  \uba85 \ucc38\uc5ec 0  \ubc88 \ud65c\ub3d9 \ucc38\uc5ec\n",
        "34 \uc138 /  1  \uba85 \ucc38\uc5ec 0  \ubc88 \ud65c\ub3d9 \ucc38\uc5ec\n",
        "35 \uc138 /  2  \uba85 \ucc38\uc5ec 0  \ubc88 \ud65c\ub3d9 \ucc38\uc5ec\n",
        "36 \uc138 /  0  \uba85 \ucc38\uc5ec 0  \ubc88 \ud65c\ub3d9 \ucc38\uc5ec\n",
        "37 \uc138 /  1  \uba85 \ucc38\uc5ec 0  \ubc88 \ud65c\ub3d9 \ucc38\uc5ec\n",
        "38 \uc138 /  2  \uba85 \ucc38\uc5ec 5  \ubc88 \ud65c\ub3d9 \ucc38\uc5ec\n",
        "39 \uc138 /  3  \uba85 \ucc38\uc5ec 0  \ubc88 \ud65c\ub3d9 \ucc38\uc5ec\n",
        "40 \uc138 /  0  \uba85 \ucc38\uc5ec 0  \ubc88 \ud65c\ub3d9 \ucc38\uc5ec\n",
        "41 \uc138 /  1  \uba85 \ucc38\uc5ec 0  \ubc88 \ud65c\ub3d9 \ucc38\uc5ec\n",
        "42 \uc138 /  1  \uba85 \ucc38\uc5ec 0  \ubc88 \ud65c\ub3d9 \ucc38\uc5ec\n",
        "43 \uc138 /  4  \uba85 \ucc38\uc5ec 0  \ubc88 \ud65c\ub3d9 \ucc38\uc5ec\n",
        "44 \uc138 /  0  \uba85 \ucc38\uc5ec 0  \ubc88 \ud65c\ub3d9 \ucc38\uc5ec\n",
        "45 \uc138 /  0  \uba85 \ucc38\uc5ec 0  \ubc88 \ud65c\ub3d9 \ucc38\uc5ec\n",
        "46 \uc138 /  1  \uba85 \ucc38\uc5ec 0  \ubc88 \ud65c\ub3d9 \ucc38\uc5ec\n",
        "47 \uc138 /  2  \uba85 \ucc38\uc5ec 0  \ubc88 \ud65c\ub3d9 \ucc38\uc5ec\n",
        "48 \uc138 /  1  \uba85 \ucc38\uc5ec 0  \ubc88 \ud65c\ub3d9 \ucc38\uc5ec\n",
        "49 \uc138 /  0  \uba85 \ucc38\uc5ec 0  \ubc88 \ud65c\ub3d9 \ucc38\uc5ec\n",
        "50 \uc138 /  0  \uba85 \ucc38\uc5ec 0  \ubc88 \ud65c\ub3d9 \ucc38\uc5ec\n",
        "51 \uc138 /  0  \uba85 \ucc38\uc5ec 0  \ubc88 \ud65c\ub3d9 \ucc38\uc5ec\n",
        "52 \uc138 /  0  \uba85 \ucc38\uc5ec 0  \ubc88 \ud65c\ub3d9 \ucc38\uc5ec\n",
        "53 \uc138 /  0  \uba85 \ucc38\uc5ec 0  \ubc88 \ud65c\ub3d9 \ucc38\uc5ec\n",
        "54 \uc138 /  0  \uba85 \ucc38\uc5ec 0  \ubc88 \ud65c\ub3d9 \ucc38\uc5ec\n",
        "55 \uc138 /  0  \uba85 \ucc38\uc5ec 0  \ubc88 \ud65c\ub3d9 \ucc38\uc5ec\n",
        "56 \uc138 /  0  \uba85 \ucc38\uc5ec 0  \ubc88 \ud65c\ub3d9 \ucc38\uc5ec\n",
        "57 \uc138 /  0  \uba85 \ucc38\uc5ec 0  \ubc88 \ud65c\ub3d9 \ucc38\uc5ec\n",
        "58 \uc138 /  0  \uba85 \ucc38\uc5ec 0  \ubc88 \ud65c\ub3d9 \ucc38\uc5ec\n",
        "59 \uc138 /  1  \uba85 \ucc38\uc5ec 4  \ubc88 \ud65c\ub3d9 \ucc38\uc5ec\n",
        "1153\n"
       ]
      },
      {
       "metadata": {},
       "output_type": "display_data",
       "png": "[encoded data removed]",
       "text": [
        "<matplotlib.figure.Figure at 0x1067cadd8>"
       ]
      }
     ],
     "prompt_number": 27
    },
    {
     "cell_type": "code",
     "collapsed": false,
     "input": [
      "sort_by_count = []\n",
      "count_array = []\n",
      "from array import array\n",
      "\n",
      "for player in players:\n",
      "    count = 0\n",
      "    for activity in activities:\n",
      "        if player[\"_id\"] == activity[\"player_id\"]:\n",
      "            count += 1\n",
      "    player[\"count\"]=count\n",
      "    sort_by_count.append(player)\n",
      "    count_array.append(count)\n",
      "\n",
      "# count_array = array('l', count_array)\n",
      "\n",
      "from operator import itemgetter\n",
      "sort_by_count = sorted(sort_by_count, key=itemgetter('count'), reverse=True)\n",
      "\n",
      "for player in sort_by_count[0:10]:\n",
      "    print(player[\"name\"], player[\"count\"])\n",
      "\n",
      "import numpy\n",
      "print(\"1 \uc778\ub2f9 \ud3c9\uade0 \ucd9c\ub825 \ud69f\uc218 : \", numpy.mean(count_array))\n",
      "print(\"1 \uc778\ub2f9 \ucd9c\ub825 \ud69f\uc218\uc758 \ubd84\uc0b0 : \", numpy.var(count_array))\n",
      "print(\"1 \uc778\ub2f9 \ucd9c\ub825 \ud69f\uc218\uc758 \ud45c\uc900\ud3b8\ucc28 : \", numpy.std(count_array))"
     ],
     "language": "python",
     "metadata": {},
     "outputs": [
      {
       "output_type": "stream",
       "stream": "stdout",
       "text": [
        "\uae40\uc218\uc6d0 44\n",
        "\uc774\uac00\uc778 41\n",
        "\ub958\uc11c\uc815 27\n",
        "\uc774\uc8fc\uc5f0 24\n",
        "\uad8c\uc11c\uc724 23\n",
        "\uc624\uc218\uc5f0 22\n",
        "\uc548\uc8fc\uc5f0 22\n",
        "\uae40\ub2e4\uc778 22\n",
        "\uc774\ucc44\uc6d0 21\n",
        "\uc804\ud6a8\uc6d0 20\n",
        "1 \uc778\ub2f9 \ud3c9\uade0 \ucd9c\ub825 \ud69f\uc218 :  4.02775368604\n",
        "1 \uc778\ub2f9 \ucd9c\ub825 \ud69f\uc218\uc758 \ubd84\uc0b0 :  16.9740779549\n",
        "1 \uc778\ub2f9 \ucd9c\ub825 \ud69f\uc218\uc758 \ud45c\uc900\ud3b8\ucc28 :  4.11996091668\n"
       ]
      }
     ],
     "prompt_number": 28
    },
    {
     "cell_type": "code",
     "collapsed": false,
     "input": [
      "for movie in movies:\n",
      "    movie[\"count\"] = 0\n",
      "    for activity in activities:\n",
      "        if movie[\"_id\"] == activity[\"movie_id\"]:\n",
      "            movie[\"count\"] += 1\n",
      "movies = sorted(movies, key=itemgetter('count'), reverse=True)\n",
      "\n"
     ],
     "language": "python",
     "metadata": {},
     "outputs": [],
     "prompt_number": 29
    },
    {
     "cell_type": "code",
     "collapsed": false,
     "input": [
      "guest_count = 0\n",
      "for activity in activities:\n",
      "    if activity[\"guestbook_img\"] is not None:\n",
      "        guest_count += 1\n",
      "print(\"\ubc29\uba85\ub85d \ucc38\uc5ec \ud68c\uc218 : \", guest_count)\n",
      "\n"
     ],
     "language": "python",
     "metadata": {},
     "outputs": [
      {
       "output_type": "stream",
       "stream": "stdout",
       "text": [
        "\ubc29\uba85\ub85d \ucc38\uc5ec \ud68c\uc218 :  131\n"
       ]
      }
     ],
     "prompt_number": 30
    },
    {
     "cell_type": "code",
     "collapsed": false,
     "input": [
      "%matplotlib inline\n",
      "\n",
      "fig = plt.figure()\n",
      "ax = fig.add_subplot(111)\n",
      "\n",
      "x = count_array\n",
      "numBins = len(players)\n",
      "ax.hist(x,30,color='green',alpha=0.8)\n",
      "plt.show()"
     ],
     "language": "python",
     "metadata": {},
     "outputs": [
      {
       "metadata": {},
       "output_type": "display_data",
       "png": "[encoded data removed]",
       "text": [
        "<matplotlib.figure.Figure at 0x1085a56d8>"
       ]
      }
     ],
     "prompt_number": 31
    },
    {
     "cell_type": "code",
     "collapsed": false,
     "input": [
      "floor_plays = [i for i in db.floors.find()]\n",
      "\n",
      "for floor in floor_plays:\n",
      "    count = 0\n",
      "    for activity in activities:\n",
      "        if floor[\"_id\"] == activity[\"floor_id\"]:\n",
      "            count += 1\n",
      "    floor[\"count\"] = count\n",
      "\n",
      "from operator import itemgetter\n",
      "floor_plays = sorted(floor_plays, key=itemgetter('count'), reverse=True)    \n",
      "for i in floor_plays:\n",
      "    print(i[\"count\"], i[\"name_ko\"])\n",
      "    \n",
      "    \n"
     ],
     "language": "python",
     "metadata": {},
     "outputs": [
      {
       "output_type": "stream",
       "stream": "stdout",
       "text": [
        "620 \uac1c\ub97c \ud6d4\uce58\ub294 \uc644\ubcbd\ud55c \ubc29\ubc95\n",
        "615 \ud0c0\ub85c\uc758 \uae30\ub2e4\ub9bc\n",
        "603 \ud2b8\ub798\uc26c\n",
        "478 \uad11\ub780\uc758 \ud06c\ub9ac\uc2a4\ub9c8\uc2a4 \uc774\ube0c\n",
        "426 \uc2a4\ud0c0\ud2b8\ub799\n",
        "379 \uc5b8\ud2b8 \ud790\ub2e4!\n",
        "351 \ub9c8\uc57c\n",
        "325 \uc5b4\uba54\uc774\uc9d5 \uc704\ud50c\ub784\ub77c\n"
       ]
      }
     ],
     "prompt_number": 32
    },
    {
     "cell_type": "code",
     "collapsed": false,
     "input": [
      "date30 = 0\n",
      "date31 = 0\n",
      "date1 = 0\n",
      "date2 = 0\n",
      "date3 = 0\n",
      "date4 = 0\n",
      "\n",
      "for activity in activities:\n",
      "    if activity[\"date\"] == 30:\n",
      "        date30 += 1\n",
      "    if activity[\"date\"] == 31:\n",
      "        date31 += 1\n",
      "    if activity[\"date\"] == 1:\n",
      "        date1 += 1\n",
      "    if activity[\"date\"] == 2:\n",
      "        date2 += 1\n",
      "    if activity[\"date\"] == 3:\n",
      "        date3 += 1\n",
      "    if activity[\"date\"] == 4:\n",
      "        date4 += 1\n",
      "\n",
      "print(date30, date31, date1, date2, date3, date4)\n",
      "print(int(date30/4), int(date31/4), int(date1/4), int(date2/4), int(date3/4), int(date4/4))\n",
      "print(int(date30/4) + int(date31/4) + int(date1/4) + int(date2/4) + int(date3/4) + int(date4/4))\n",
      "\n",
      "\n",
      "    \n"
     ],
     "language": "python",
     "metadata": {},
     "outputs": [
      {
       "output_type": "stream",
       "stream": "stdout",
       "text": [
        "245 1229 961 1085 875 282\n",
        "61 307 240 271 218 70\n",
        "1167\n"
       ]
      }
     ],
     "prompt_number": 33
    },
    {
     "cell_type": "code",
     "collapsed": false,
     "input": [
      "output_dir = \"/Users/\" + os.getlogin() + \"/Desktop\"\n",
      "xlfile_name = db_name + '.xlsx'\n",
      "\n",
      "print(output_dir)\n",
      "\n",
      "wb = xlsxwriter.Workbook(xlfile_name)\n",
      "\n",
      "print(category)\n",
      "\n",
      "ws1 = wb.add_worksheet(\"\uc804\uccb4_\ud1b5\uacc4\")\n",
      "ws1.write(0,0,category)\n",
      "ws1.write(1,0,involve_player)\n",
      "\n",
      "\n",
      "ws2 = wb.add_worksheet(\"\ub098\uc774\ubcc4_\ucc38\uc5ec\uc778\uc6d0\")\n",
      "ws2.write(0,0,\"\ub098\uc774\")\n",
      "ws2.write(0,1,\"\ucc38\uc5ec\uc778\uc6d0\")\n",
      "ws2.write(0,1,\"\ud65c\ub3d9_\ud69f\uc218(\uac8c\uc784+\ubc14\ub2e5\ub180\uc774+\ubc29\uba85\ub85d)\")\n",
      "\n",
      "# for index, value in enumerate(ii):\n",
      "#     ws2.write(index+1,0,value)\n",
      "#     ws2.write(index+1,1,y[index])\n",
      "for i, v in enumerate(y):\n",
      "    ws2.write(i+1,0,i)\n",
      "    ws2.write(i+1,1,v)\n",
      "    ws2.write(i+1,2,age_dist[i])\n",
      "#     print(i,\"\uc138 / \", v, \" \uba85 \ucc38\uc5ec\", age_dist[i], \" \ubc88 \ud65c\ub3d9 \ucc38\uc5ec\")\n",
      "    \n",
      "ws3 = wb.add_worksheet(\"\ud50c\ub808\uc774\uc5b4\ubcc4_\uac8c\uc784\ud68c\uc218\")\n",
      "ws3.write(0,0,\"\uc774\ub984\")\n",
      "ws3.write(0,1,\"\ud69f\uc218\")\n",
      "\n",
      "for index, value in enumerate(sort_by_count):\n",
      "    ws3.write(index+1,0,value[\"name\"])\n",
      "    ws3.write(index+1,1,value[\"count\"])    \n",
      "    \n",
      "    \n",
      "ws4 = wb.add_worksheet(\"\uc601\ud654\ubcc4_\uad00\ub78c\ud68c\uc218\")\n",
      "ws4.write(0,0,\"\ud69f\uc218\")\n",
      "ws4.write(0,1,\"\uc601\ud654\")\n",
      "\n",
      "for index, value in enumerate(movies):\n",
      "    ws4.write(index+1,0,value[\"count\"])\n",
      "    ws4.write(index+1,1,value[\"movie_ko\"])    \n",
      "        \n",
      "ws5 = wb.add_worksheet(\"\ubc29\uba85\ub85d_\ucc38\uc5ec\ud68c\uc218\") \n",
      "ws5.write(0,0,\"\ucc38\uc5ec\ud68c\uc218\")\n",
      "ws5.write(0,1,guest_count)\n",
      "\n",
      "\n",
      "ws6 = wb.add_worksheet(\"\ubc14\ub2e5\ub180\uc774\")\n",
      "ws6.write(0,0,\"\ud68c\uc218\")\n",
      "ws6.write(0,1,\"\ubc14\ub2e5\ub180\uc774\")\n",
      "\n",
      "for index, value in enumerate(floor_plays):\n",
      "    ws6.write(index+1,0,value[\"count\"])\n",
      "    ws6.write(index+1,1,value[\"name_ko\"])    \n",
      "\n",
      "\n",
      "ws7 = wb.add_worksheet(\"\uc77c\uc790\ubcc4_\ub4f1\ub85d\uc778\uc6d0\")\n",
      "ws7.write(0,0,\"\uc77c\uc790\")\n",
      "ws7.write(1,0,30)\n",
      "ws7.write(2,0,31)\n",
      "ws7.write(3,0,1)\n",
      "ws7.write(4,0,2)\n",
      "ws7.write(5,0,3)\n",
      "ws7.write(6,0,4)\n",
      "ws7.write(0,1,\"\ub4f1\ub85d\uc778\uc6d0\")\n",
      "ws7.write(1,1,int(date30/4))\n",
      "ws7.write(2,1,int(date31/4))\n",
      "ws7.write(3,1,int(date1/4))\n",
      "ws7.write(4,1,int(date2/4))\n",
      "ws7.write(5,1,int(date3/4))\n",
      "ws7.write(6,1,int(date4/4))\n",
      "\n",
      "\n",
      "wb.close()\n",
      "\n",
      "call([\"mv\", xlfile_name, output_dir])"
     ],
     "language": "python",
     "metadata": {},
     "outputs": [
      {
       "output_type": "stream",
       "stream": "stdout",
       "text": [
        "/Users/changsuyouk/Desktop\n",
        "8\uc6d4 7\uc77c \uae4c\uc9c0 \ucc38\uc5ec\ud55c \ud50c\ub808\uc774\uc5b4 \uc218 : \n"
       ]
      },
      {
       "metadata": {},
       "output_type": "pyout",
       "prompt_number": 34,
       "text": [
        "0"
       ]
      }
     ],
     "prompt_number": 34
    },
    {
     "cell_type": "code",
     "collapsed": false,
     "input": [
      "%matplotlib inline\n",
      "\n",
      "import numpy as np\n",
      "\n",
      "# activities = sorted(activities, key=itemgetter('time_stamp'))\n",
      "\n",
      "date30 = []\n",
      "date31 = []\n",
      "date1 = []\n",
      "date2 = []\n",
      "date3 = []\n",
      "date4 = []\n",
      "total = []\n",
      "for activity in activities:\n",
      "    total.append(activity[\"hour\"])\n",
      "    if activity[\"date\"] == 30:\n",
      "        date30.append(activity[\"hour\"])\n",
      "    if activity[\"date\"] == 31:\n",
      "        date31.append(activity[\"hour\"])\n",
      "    if activity[\"date\"] == 1:\n",
      "        date1.append(activity[\"hour\"])\n",
      "    if activity[\"date\"] == 2:\n",
      "        date2.append(activity[\"hour\"])\n",
      "    if activity[\"date\"] == 3:\n",
      "        date3.append(activity[\"hour\"])\n",
      "    if activity[\"date\"] == 4:\n",
      "        date4.append(activity[\"hour\"])\n",
      "\n",
      "def show_inflow_visitor(data_array,date):\n",
      "    fig = plt.figure()\n",
      "    ax = fig.add_subplot(111)\n",
      "    x = data_array\n",
      "    numBins = sum(data_array)\n",
      "    ax.hist(x,15,color='green',alpha=0.8)\n",
      "    plt.xlabel(\"Time\"+\" / Day\"+str(date), fontsize=20)\n",
      "    plt.ylabel(\"Activity\", fontsize=20)\n",
      "\n",
      "    plt.savefig(str(date)+\".png\", format='png')\n",
      "    plt.show()\n",
      "#     plt.close()\n",
      "\n",
      "show_inflow_visitor(total,\"total\")\n",
      "\n",
      "show_inflow_visitor(date30,30)\n",
      "\n",
      "show_inflow_visitor(date31,31)\n",
      "\n",
      "show_inflow_visitor(date1,1)\n",
      "\n",
      "show_inflow_visitor(date2,2)\n",
      "\n",
      "show_inflow_visitor(date3,3)\n",
      "\n",
      "show_inflow_visitor(date4,4)"
     ],
     "language": "python",
     "metadata": {},
     "outputs": [
      {
       "metadata": {},
       "output_type": "display_data",
       "png": "[encoded data removed]",
       "text": [
        "<matplotlib.figure.Figure at 0x1084acd68>"
       ]
      },
      {
       "metadata": {},
       "output_type": "display_data",
       "png": "[encoded data removed]",
       "text": [
        "<matplotlib.figure.Figure at 0x1084acf98>"
       ]
      },
      {
       "metadata": {},
       "output_type": "display_data",
       "png": "[encoded data removed]",
       "text": [
        "<matplotlib.figure.Figure at 0x1067cae80>"
       ]
      },
      {
       "metadata": {},
       "output_type": "display_data",
       "png": "[encoded data removed]",
       "text": [
        "<matplotlib.figure.Figure at 0x102742f98>"
       ]
      },
      {
       "metadata": {},
       "output_type": "display_data",
       "png": "[encoded data removed]",
       "text": [
        "<matplotlib.figure.Figure at 0x10632ddd8>"
       ]
      },
      {
       "metadata": {},
       "output_type": "display_data",
       "png": "[encoded data removed]",
       "text": [
        "<matplotlib.figure.Figure at 0x106b45f28>"
       ]
      },
      {
       "metadata": {},
       "output_type": "display_data",
       "png": "[encoded data removed]",
       "text": [
        "<matplotlib.figure.Figure at 0x106b84748>"
       ]
      }
     ],
     "prompt_number": 35
    },
    {
     "cell_type": "code",
     "collapsed": false,
     "input": [],
     "language": "python",
     "metadata": {},
     "outputs": [],
     "prompt_number": 35
    }
   ],
   "metadata": {}
  }
 ]
}