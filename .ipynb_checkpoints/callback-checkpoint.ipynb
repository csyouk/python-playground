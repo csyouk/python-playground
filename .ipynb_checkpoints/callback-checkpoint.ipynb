{
 "metadata": {
  "name": "",
  "signature": "sha256:ff152a6c45ab2ce7c313528523020c04adf8b5b9271a345c77ef13c799f45890"
 },
 "nbformat": 3,
 "nbformat_minor": 0,
 "worksheets": [
  {
   "cells": [
    {
     "cell_type": "code",
     "collapsed": false,
     "input": [
      "import time\n",
      "from multiprocessing.dummy import Pool\n",
      "pool = Pool(processes=1)\n",
      "\n",
      "def async_function(name):\n",
      "    time.sleep(1)\n",
      "    return name"
     ],
     "language": "python",
     "metadata": {},
     "outputs": []
    }
   ],
   "metadata": {}
  }
 ]
}