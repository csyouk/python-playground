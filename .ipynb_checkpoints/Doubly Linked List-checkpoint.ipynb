{
 "metadata": {
  "name": "",
  "signature": "sha256:730f1478bd8bea59cfe491ad636cfbbc9d698ba6e37f04b811828e66f3713815"
 },
 "nbformat": 3,
 "nbformat_minor": 0,
 "worksheets": [
  {
   "cells": [
    {
     "cell_type": "code",
     "collapsed": false,
     "input": [
      "class DNode:\n",
      "    def __init__(self, data, prev=None, next=None):\n",
      "        self.data = data\n",
      "        self.prev = prev\n",
      "        self.next = next"
     ],
     "language": "python",
     "metadata": {},
     "outputs": [],
     "prompt_number": 2
    },
    {
     "cell_type": "code",
     "collapsed": false,
     "input": [
      "def delete_dnode(del_data):\n",
      "    global dnode1\n",
      "    dnode = dnode1\n",
      "    while dnode:\n",
      "        if dnode.data == del_data:\n",
      "            dnode.prev.next = dnode.next\n",
      "            dnode.next.prev = dnode.prev\n",
      "            del dnode\n",
      "            break\n",
      "        dnode = dnode.next"
     ],
     "language": "python",
     "metadata": {},
     "outputs": [],
     "prompt_number": 3
    },
    {
     "cell_type": "code",
     "collapsed": false,
     "input": [
      "# \uc774 \uc608\uc81c\ub294 \ub178\ub4dc\uc758 \uccab\ubc88\uc9f8\uc5d0 \uc0bd\uc785\uc744 \ud558\ub294 \uc608\uc81c\uc774\ub2e4.\n",
      "def insert_dnode(ins_data):\n",
      "    global dnode1\n",
      "    new_dnode = DNode(ins_data)\n",
      "    new_dnode.next = dnode1\n",
      "    dnode1.prev = new_dnode\n",
      "    dnode1 = new_dnode"
     ],
     "language": "python",
     "metadata": {},
     "outputs": []
    }
   ],
   "metadata": {}
  }
 ]
}