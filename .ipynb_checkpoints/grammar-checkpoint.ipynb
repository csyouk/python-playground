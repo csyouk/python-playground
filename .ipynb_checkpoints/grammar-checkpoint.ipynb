{
 "metadata": {
  "name": "",
  "signature": "sha256:d627ffd1c46d4e30882bf72d8560e35c694b7bedb2666d6ab91603139bf38549"
 },
 "nbformat": 3,
 "nbformat_minor": 0,
 "worksheets": [
  {
   "cells": [
    {
     "cell_type": "code",
     "collapsed": false,
     "input": [
      "from random import randint\n",
      "from math import ceil\n",
      "\n",
      "def creat_id():\n",
      "    digits = []\n",
      "    number = randint(100000,999999)\n",
      "    print(\"input\", number)\n",
      "    while number:\n",
      "        digit = number%10\n",
      "        digits.append(digit)\n",
      "        number = number - digit\n",
      "        number /=10\n",
      "        number = int(number)\n",
      "        if not number:\n",
      "            if len(set(digits)) != 6: return creat_id()\n",
      "            else: return int(''.join(map(str, digits[::-1])))\n",
      "# L[::-1]\n",
      "# num = int(''.join(map(str,numList)))\n",
      "\n",
      "a = creat_id()\n",
      "print(\"a : \", a , type(a))"
     ],
     "language": "python",
     "metadata": {},
     "outputs": [
      {
       "output_type": "stream",
       "stream": "stdout",
       "text": [
        "input 662070\n",
        "input 448151\n",
        "input 523006\n",
        "input 413345\n",
        "input 776058\n",
        "input 801877\n",
        "input 459884\n",
        "input 320859\n",
        "a :  320859 <class 'int'>\n"
       ]
      }
     ],
     "prompt_number": 4
    },
    {
     "cell_type": "code",
     "collapsed": false,
     "input": [
      "print(dir(list))\n"
     ],
     "language": "python",
     "metadata": {},
     "outputs": [
      {
       "output_type": "stream",
       "stream": "stdout",
       "text": [
        "['__add__', '__class__', '__contains__', '__delattr__', '__delitem__', '__dir__', '__doc__', '__eq__', '__format__', '__ge__', '__getattribute__', '__getitem__', '__gt__', '__hash__', '__iadd__', '__imul__', '__init__', '__iter__', '__le__', '__len__', '__lt__', '__mul__', '__ne__', '__new__', '__reduce__', '__reduce_ex__', '__repr__', '__reversed__', '__rmul__', '__setattr__', '__setitem__', '__sizeof__', '__str__', '__subclasshook__', 'append', 'clear', 'copy', 'count', 'extend', 'index', 'insert', 'pop', 'remove', 'reverse', 'sort']\n"
       ]
      }
     ],
     "prompt_number": 137
    },
    {
     "cell_type": "code",
     "collapsed": false,
     "input": [
      "bottom(3.14)"
     ],
     "language": "python",
     "metadata": {},
     "outputs": [
      {
       "ename": "NameError",
       "evalue": "name 'bottom' is not defined",
       "output_type": "pyerr",
       "traceback": [
        "\u001b[0;31m---------------------------------------------------------------------------\u001b[0m\n\u001b[0;31mNameError\u001b[0m                                 Traceback (most recent call last)",
        "\u001b[0;32m<ipython-input-79-b50024d02e42>\u001b[0m in \u001b[0;36m<module>\u001b[0;34m()\u001b[0m\n\u001b[0;32m----> 1\u001b[0;31m \u001b[0mbottom\u001b[0m\u001b[0;34m(\u001b[0m\u001b[0;36m3.14\u001b[0m\u001b[0;34m)\u001b[0m\u001b[0;34m\u001b[0m\u001b[0m\n\u001b[0m",
        "\u001b[0;31mNameError\u001b[0m: name 'bottom' is not defined"
       ]
      }
     ],
     "prompt_number": 79
    },
    {
     "cell_type": "code",
     "collapsed": false,
     "input": [
      "'T' if not 0 else 'F'"
     ],
     "language": "python",
     "metadata": {},
     "outputs": [
      {
       "metadata": {},
       "output_type": "pyout",
       "prompt_number": 51,
       "text": [
        "'T'"
       ]
      }
     ],
     "prompt_number": 51
    },
    {
     "cell_type": "code",
     "collapsed": false,
     "input": [
      "len({5,3,2,2})"
     ],
     "language": "python",
     "metadata": {},
     "outputs": [
      {
       "metadata": {},
       "output_type": "pyout",
       "prompt_number": 61,
       "text": [
        "3"
       ]
      }
     ],
     "prompt_number": 61
    },
    {
     "cell_type": "code",
     "collapsed": false,
     "input": [
      "print(dir(set))"
     ],
     "language": "python",
     "metadata": {},
     "outputs": [
      {
       "output_type": "stream",
       "stream": "stdout",
       "text": [
        "['__and__', '__class__', '__contains__', '__delattr__', '__dir__', '__doc__', '__eq__', '__format__', '__ge__', '__getattribute__', '__gt__', '__hash__', '__iand__', '__init__', '__ior__', '__isub__', '__iter__', '__ixor__', '__le__', '__len__', '__lt__', '__ne__', '__new__', '__or__', '__rand__', '__reduce__', '__reduce_ex__', '__repr__', '__ror__', '__rsub__', '__rxor__', '__setattr__', '__sizeof__', '__str__', '__sub__', '__subclasshook__', '__xor__', 'add', 'clear', 'copy', 'difference', 'difference_update', 'discard', 'intersection', 'intersection_update', 'isdisjoint', 'issubset', 'issuperset', 'pop', 'remove', 'symmetric_difference', 'symmetric_difference_update', 'union', 'update']\n"
       ]
      }
     ],
     "prompt_number": 60
    },
    {
     "cell_type": "code",
     "collapsed": false,
     "input": [
      "import datetime\n",
      "datetime.datetime.now()\n",
      "datetime.datetime.now().strftime(\"%Y:%m:%d-%H:%M:%S\")\n",
      "# .strftime(\"%H:%M:%S\")"
     ],
     "language": "python",
     "metadata": {},
     "outputs": [
      {
       "metadata": {},
       "output_type": "pyout",
       "prompt_number": 176,
       "text": [
        "'2015:06:24-17:31:10'"
       ]
      }
     ],
     "prompt_number": 176
    },
    {
     "cell_type": "code",
     "collapsed": false,
     "input": [
      "1 in [1,2,3]\n",
      "[i[\"u\"] for i in [{\"a\":1, \"u\":2},{\"a\":1, \"u\":3},{\"a\":1, \"u\":4},{\"a\":1, \"u\":5},{\"a\":1, \"u\":6}]]"
     ],
     "language": "python",
     "metadata": {},
     "outputs": [
      {
       "metadata": {},
       "output_type": "pyout",
       "prompt_number": 179,
       "text": [
        "[2, 3, 4, 5, 6]"
       ]
      }
     ],
     "prompt_number": 179
    },
    {
     "cell_type": "code",
     "collapsed": false,
     "input": [
      "number = 12345678900987654321\n",
      "\n",
      "odd_digits = []\n",
      "while number:\n",
      "    digit = number%10\n",
      "    if digit%2 != 0: odd_digits.append(digit)\n",
      "    number = number - digit\n",
      "    print(\"---\", number/10)\n",
      "    number = int(number/10)\n",
      "    print(\"--\", number)\n",
      "print(odd_digits)\n",
      "result = 0\n",
      "while odd_digits:\n",
      "    result += odd_digits.pop()\n",
      "print(result)"
     ],
     "language": "python",
     "metadata": {},
     "outputs": [
      {
       "output_type": "stream",
       "stream": "stdout",
       "text": [
        "--- 1.2345678900987653e+18\n",
        "-- 1234567890098765312\n",
        "--- 1.2345678900987653e+17\n",
        "-- 123456789009876528\n",
        "--- 1.2345678900987652e+16\n",
        "-- 12345678900987652\n",
        "--- 1234567890098765.0\n",
        "-- 1234567890098765\n",
        "--- 123456789009876.0\n",
        "-- 123456789009876\n",
        "--- 12345678900987.0\n",
        "-- 12345678900987\n",
        "--- 1234567890098.0\n",
        "-- 1234567890098\n",
        "--- 123456789009.0\n",
        "-- 123456789009\n",
        "--- 12345678900.0\n",
        "-- 12345678900\n",
        "--- 1234567890.0\n",
        "-- 1234567890\n",
        "--- 123456789.0\n",
        "-- 123456789\n",
        "--- 12345678.0\n",
        "-- 12345678\n",
        "--- 1234567.0\n",
        "-- 1234567\n",
        "--- 123456.0\n",
        "-- 123456\n",
        "--- 12345.0\n",
        "-- 12345\n",
        "--- 1234.0\n",
        "-- 1234\n",
        "--- 123.0\n",
        "-- 123\n",
        "--- 12.0\n",
        "-- 12\n",
        "--- 1.0\n",
        "-- 1\n",
        "--- 0.0\n",
        "-- 0\n",
        "[1, 5, 7, 9, 9, 7, 5, 3, 1]\n",
        "47\n"
       ]
      }
     ],
     "prompt_number": 37
    },
    {
     "cell_type": "code",
     "collapsed": false,
     "input": [
      "number = 12345678900987654321\n",
      "odd_digits = [int(i) for i in str(number) if int(i)%2 !=0]\n",
      "odd_sum = sum(odd_digits)"
     ],
     "language": "python",
     "metadata": {},
     "outputs": [
      {
       "output_type": "stream",
       "stream": "stdout",
       "text": [
        "[1, 3, 5, 7, 9, 9, 7, 5, 3, 1]\n",
        "50\n"
       ]
      }
     ],
     "prompt_number": 29
    },
    {
     "cell_type": "code",
     "collapsed": false,
     "input": [
      "number = 12345678900987654321\n",
      "figures=1\n",
      "number_figure = len(str(number))\n"
     ],
     "language": "python",
     "metadata": {},
     "outputs": [],
     "prompt_number": 5
    },
    {
     "cell_type": "code",
     "collapsed": false,
     "input": [
      "keys = [\"a\",\"b\",\"c\",\"d\"]\n",
      "print(keys.index(\"a\"))\n",
      "(lambda x:keys.index(x))(keys)\n"
     ],
     "language": "python",
     "metadata": {},
     "outputs": [
      {
       "ename": "SyntaxError",
       "evalue": "invalid syntax (<ipython-input-7-d498189fe523>, line 4)",
       "output_type": "pyerr",
       "traceback": [
        "\u001b[0;36m  File \u001b[0;32m\"<ipython-input-7-d498189fe523>\"\u001b[0;36m, line \u001b[0;32m4\u001b[0m\n\u001b[0;31m    for i.lambda x:x**2 in range(10):\u001b[0m\n\u001b[0m               ^\u001b[0m\n\u001b[0;31mSyntaxError\u001b[0m\u001b[0;31m:\u001b[0m invalid syntax\n"
       ]
      }
     ],
     "prompt_number": 7
    },
    {
     "cell_type": "code",
     "collapsed": false,
     "input": [],
     "language": "python",
     "metadata": {},
     "outputs": []
    }
   ],
   "metadata": {}
  }
 ]
}