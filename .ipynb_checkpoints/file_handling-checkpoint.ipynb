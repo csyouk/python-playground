{
 "cells": [
  {
   "cell_type": "code",
   "execution_count": 12,
   "metadata": {
    "collapsed": false
   },
   "outputs": [
    {
     "name": "stdout",
     "output_type": "stream",
     "text": [
      "12.3[1, 2, 3, 4]\n",
      "\n",
      "\n",
      "\n",
      "enter===\n",
      "\n",
      "\n",
      "enter===\n",
      "hello world\n",
      "\n",
      "\n",
      "\n",
      "enter===\n",
      "this is not a\"\n",
      "\n",
      "godgodgod\n",
      "\n"
     ]
    }
   ],
   "source": [
    "with open(\"test.txt\",'r', encoding='utf-8') as f:\n",
    "    lines = f.readlines()\n",
    "#     print(lines)\n",
    "    \n",
    "    for line in lines:\n",
    "        print(line)\n",
    "        if line == \"\\n\":\n",
    "            print(\"enter===\")\n",
    "#     print(data)"
   ]
  },
  {
   "cell_type": "code",
   "execution_count": null,
   "metadata": {
    "collapsed": true
   },
   "outputs": [],
   "source": []
  }
 ],
 "metadata": {
  "kernelspec": {
   "display_name": "Python 3",
   "language": "python",
   "name": "python3"
  },
  "language_info": {
   "codemirror_mode": {
    "name": "ipython",
    "version": 3
   },
   "file_extension": ".py",
   "mimetype": "text/x-python",
   "name": "python",
   "nbconvert_exporter": "python",
   "pygments_lexer": "ipython3",
   "version": "3.4.1"
  }
 },
 "nbformat": 4,
 "nbformat_minor": 0
}
