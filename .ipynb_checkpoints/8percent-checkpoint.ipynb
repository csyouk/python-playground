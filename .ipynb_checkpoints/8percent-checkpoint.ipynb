{
 "cells": [
  {
   "cell_type": "markdown",
   "metadata": {},
   "source": [
    "# pingpong함수 스펙\n",
    "1. 7의 배수\n",
    "2. index에 7이 들어가 있을 경우. \n",
    "3. for loop X\n",
    "4. Array X\n",
    "5. assignment X\n",
    "6. string X\n",
    "\n",
    "일련의 숫자가 있고, 이 숫자는 1씩 증가, 또는 감소한다. n번째의 숫자가 있을 시에, 이 숫자가 7의 배수(7, 14, 21,...)거나 7이란 숫자를 포함할 시에 (7, 17, 27,...) 방향을 바꾼다.\n",
    "\n",
    "즉, 1, 2, 3, 4, 5, 6, [7], 6, 5, 4, 3, 2, 1, [0], 1, 2, [3], 2, 1, 0, [-1], 0, 1\n",
    "\n",
    "과 같이 숫자는 진행한다. (첫 번째 7은 7번째, 두 번째 0은 14번째, 세 번째 3은 17번째, 네 번째 -1은 21번째)\n",
    "\n",
    "다음의 제약 하에 pingpong(x)의 함수를 작성하라. 예시의 인풋과 아웃풋은 다음과 같다.\n",
    "\n",
    "pingpong(8) = 6\n",
    "\n",
    "pingpong(22) = 0\n",
    "\n",
    "pingpong(68) = 2\n",
    "\n",
    "pingpong(100) = 2"
   ]
  },
  {
   "cell_type": "code",
   "execution_count": 27,
   "metadata": {
    "collapsed": true
   },
   "outputs": [],
   "source": [
    "# 대략 이런 식들이 쓰일 것 같다.\n",
    "\n",
    "increase = lambda x:x+1\n",
    "decrease = lambda x:x-1\n",
    "multipleOfSeven = lambda x:x%7\n",
    "arthmeticProgression = lambda index: (index-7)%10\n"
   ]
  },
  {
   "cell_type": "code",
   "execution_count": 29,
   "metadata": {
    "collapsed": false
   },
   "outputs": [
    {
     "name": "stdout",
     "output_type": "stream",
     "text": [
      "4\n",
      "2\n",
      "0\n",
      "7\n"
     ]
    }
   ],
   "source": [
    "a = increase(3)\n",
    "print(a)\n",
    "b = decrease(3)\n",
    "print(b)\n",
    "c = multipleOfSeven(7)\n",
    "print(c)\n",
    "d = remainderIsSeven(137)\n",
    "print(d)"
   ]
  },
  {
   "cell_type": "code",
   "execution_count": 38,
   "metadata": {
    "collapsed": false,
    "scrolled": false
   },
   "outputs": [
    {
     "name": "stdout",
     "output_type": "stream",
     "text": [
      "['__class__', '__delattr__', '__dir__', '__doc__', '__eq__', '__format__', '__ge__', '__getattribute__', '__gt__', '__hash__', '__init__', '__iter__', '__le__', '__length_hint__', '__lt__', '__ne__', '__new__', '__next__', '__reduce__', '__reduce_ex__', '__repr__', '__setattr__', '__setstate__', '__sizeof__', '__str__', '__subclasshook__']\n",
      "<range_iterator object at 0x103e72bd0>\n",
      "1\n",
      "2\n",
      "3\n",
      "4\n",
      "5\n",
      "6\n",
      "7\n",
      "8\n",
      "9\n",
      "10\n",
      "11\n",
      "12\n",
      "13\n",
      "14\n",
      "15\n",
      "16\n",
      "17\n",
      "18\n",
      "19\n"
     ]
    },
    {
     "ename": "StopIteration",
     "evalue": "",
     "output_type": "error",
     "traceback": [
      "\u001b[0;31m---------------------------------------------------------------------------\u001b[0m",
      "\u001b[0;31mStopIteration\u001b[0m                             Traceback (most recent call last)",
      "\u001b[0;32m<ipython-input-38-e2cf1974c6d0>\u001b[0m in \u001b[0;36m<module>\u001b[0;34m()\u001b[0m\n\u001b[1;32m      3\u001b[0m \u001b[0mprint\u001b[0m\u001b[0;34m(\u001b[0m\u001b[0me\u001b[0m\u001b[0;34m)\u001b[0m\u001b[0;34m\u001b[0m\u001b[0m\n\u001b[1;32m      4\u001b[0m \u001b[0;32mwhile\u001b[0m \u001b[0;32mTrue\u001b[0m\u001b[0;34m:\u001b[0m\u001b[0;34m\u001b[0m\u001b[0m\n\u001b[0;32m----> 5\u001b[0;31m     \u001b[0mprint\u001b[0m\u001b[0;34m(\u001b[0m\u001b[0me\u001b[0m\u001b[0;34m.\u001b[0m\u001b[0m__next__\u001b[0m\u001b[0;34m(\u001b[0m\u001b[0;34m)\u001b[0m\u001b[0;34m)\u001b[0m\u001b[0;34m\u001b[0m\u001b[0m\n\u001b[0m",
      "\u001b[0;31mStopIteration\u001b[0m: "
     ]
    }
   ],
   "source": [
    "# iter에 등록된 메소드와 프로퍼티들을 살펴보자.\n",
    "e = iter(range(1,21))\n",
    "print(dir(e))\n",
    "print(e)\n",
    "while True:\n",
    "    print(e.__next__())"
   ]
  },
  {
   "cell_type": "code",
   "execution_count": 2,
   "metadata": {
    "collapsed": false
   },
   "outputs": [
    {
     "name": "stdout",
     "output_type": "stream",
     "text": [
      "10\n",
      "9\n",
      "8\n",
      "7\n",
      "6\n",
      "5\n",
      "4\n",
      "3\n",
      "2\n",
      "1\n",
      "stop\n"
     ]
    }
   ],
   "source": [
    "# 재귀문은 작성하면 이런식일것이다.\n",
    "def pingpong(i):\n",
    "    if not i:\n",
    "        print(\"stop\")\n",
    "    else:\n",
    "        print(i)\n",
    "        pingpong(i-1)\n",
    "        \n",
    "pingpong(10)"
   ]
  },
  {
   "cell_type": "code",
   "execution_count": 8,
   "metadata": {
    "collapsed": false,
    "scrolled": false
   },
   "outputs": [
    {
     "name": "stdout",
     "output_type": "stream",
     "text": [
      "<generator object <genexpr> at 0x10407fc60>\n",
      "0\n",
      "10\n"
     ]
    }
   ],
   "source": [
    "# tuple로 generator를 만들어보면\n",
    "a = (i for i in range(20) if not i%10 )\n",
    "print(a)\n",
    "for i in a:\n",
    "    print(i)"
   ]
  },
  {
   "cell_type": "code",
   "execution_count": 9,
   "metadata": {
    "collapsed": false
   },
   "outputs": [
    {
     "name": "stdout",
     "output_type": "stream",
     "text": [
      "['__annotations__', '__call__', '__class__', '__closure__', '__code__', '__defaults__', '__delattr__', '__dict__', '__dir__', '__doc__', '__eq__', '__format__', '__ge__', '__get__', '__getattribute__', '__globals__', '__gt__', '__hash__', '__init__', '__kwdefaults__', '__le__', '__lt__', '__module__', '__name__', '__ne__', '__new__', '__qualname__', '__reduce__', '__reduce_ex__', '__repr__', '__setattr__', '__sizeof__', '__str__', '__subclasshook__']\n"
     ]
    }
   ],
   "source": [
    "# 함수에 등록된 내부 메소드들은 다음과 같다. 딱히 쓸만한건 없다. \n",
    "def func(): return\n",
    "print(dir(func))"
   ]
  },
  {
   "cell_type": "code",
   "execution_count": 10,
   "metadata": {
    "collapsed": true
   },
   "outputs": [],
   "source": [
    "# 역시 재귀문 밖에 없나.\n",
    "# input argument는 pingpong함수의 input값, output은 output에 해당되어야 한다. \n",
    "\n",
    "def pingpong(i):\n",
    "    # fixed point는 재귀문의 반복 회수가 input값과 동일할 때 멈추게 된다. \n",
    "    # 하지만, 재귀문의 반복회수를 counting하는 방법은 없다.\n",
    "    return\n",
    "\n"
   ]
  },
  {
   "cell_type": "code",
   "execution_count": 19,
   "metadata": {
    "collapsed": false
   },
   "outputs": [
    {
     "name": "stdout",
     "output_type": "stream",
     "text": [
      "10\n"
     ]
    }
   ],
   "source": [
    "# 재귀문을 활용해서 함수가 호출될때마다 return value를 1씩 올리는 함수를 작성한다. 시작은 여기부터다.\n",
    "# 인수를 2개로 만들었다. iter_count 는 반복횟수, index는 pingpong 수열의 index를 가리킨다. \n",
    "def pingpong(iter_count, index=1):\n",
    "    if not (iter_count-1):\n",
    "        return index\n",
    "    else:\n",
    "        return pingpong(iter_count-1, index+1)\n",
    "\n",
    "print(pingpong(10))"
   ]
  },
  {
   "cell_type": "code",
   "execution_count": 20,
   "metadata": {
    "collapsed": false
   },
   "outputs": [
    {
     "ename": "SyntaxError",
     "evalue": "invalid syntax (<ipython-input-20-0dca09ffadcc>, line 8)",
     "output_type": "error",
     "traceback": [
      "\u001b[0;36m  File \u001b[0;32m\"<ipython-input-20-0dca09ffadcc>\"\u001b[0;36m, line \u001b[0;32m8\u001b[0m\n\u001b[0;31m    reflex = lambda x:\u001b[0m\n\u001b[0m                       ^\u001b[0m\n\u001b[0;31mSyntaxError\u001b[0m\u001b[0;31m:\u001b[0m invalid syntax\n"
     ]
    }
   ],
   "source": [
    "# 위 함수에서 이제 index가 7의 배수이거나 \n",
    "multipleOfSeven = lambda x:x%7\n",
    "\n",
    "# 혹은 index가 10x + 7 (x>0, x in Natural Number) 에 속할 때.\n",
    "arthmeticProgression = lambda index: (index-7)%10\n",
    "\n",
    "# 그 다음 index 에서 수열의 진행방향을 reflex 시킨다.\n",
    "# reflex = lambda x: "
   ]
  },
  {
   "cell_type": "markdown",
   "metadata": {},
   "source": [
    "##### 이 방법보다 더 좋은 방법은 해당 수열의 일반항(general term)의 존재 여부이다. \n",
    "- 일단 먼저 7의 배수와 등차수열(10x+7)의 교차점이 몇번이나 있는지 확인한다.\n",
    "- 둘다 1차 방정식의 형태이기 때문에, 만나는 점은 1번 밖에 없다. \n",
    "\n",
    "- 그 다음으로 확인해볼 사항은 reflex(반전)이 input argument에 대해서 몇 번이나 일어났는지 여부이다.\n",
    "- 짝수 번 일어났다면, ( 상승 -> 하락, 하락 -> 상승 ) 의 반전이 쌍을 이룰 것이다.\n",
    "- 홀수 번 일어났다면, ( 상승 -> 하락, 하락 -> 상승, ) 상승 -> 하락 .. 이런식으로 반전이 쌍을 이루고, 상승 -> 하락의 반전이 한번 남게 된다.\n",
    "\n",
    "- input number = 상승/하강의 횟수의 총 합이다. \n",
    "- case A : input number // 7 \n",
    "- case B : input number // (10x+7) \n",
    "- A + B = 반전 횟수. \n",
    "\n",
    "- 하지만 반전횟수를 안다고, 하강의 횟수를 알수는 없다. 왜냐하면 하강의 횟수는 단지 등차수열의 횟수가 아니라, 하강 -> 상승 의 반전이 일어나기 전까지 진행된 수열의 흐름이기 때문이다.\n",
    "- 알아야 하는 것은 총 하강횟수를 알아야 한다. 복잡해 보이지 않는데, 과연 일반항이 존재할까? \n",
    "\n",
    "- 머리아프다 재귀로 짜자. \n"
   ]
  },
  {
   "cell_type": "code",
   "execution_count": 61,
   "metadata": {
    "collapsed": false
   },
   "outputs": [
    {
     "name": "stdout",
     "output_type": "stream",
     "text": [
      "index ------ :  1  >>  100 1 1\n",
      "index ------ :  2  >>  99 2 1\n",
      "index ------ :  3  >>  98 3 1\n",
      "index ------ :  4  >>  97 4 1\n",
      "index ------ :  5  >>  96 5 1\n",
      "index ------ :  6  >>  95 6 1\n",
      "index reflex :  7  >>  94 7 1\n",
      "index ------ :  8  >>  93 6 -1\n",
      "index ------ :  9  >>  92 5 -1\n",
      "index ------ :  10  >>  91 4 -1\n",
      "index ------ :  11  >>  90 3 -1\n",
      "index ------ :  12  >>  89 2 -1\n",
      "index ------ :  13  >>  88 1 -1\n",
      "index reflex :  14  >>  87 0 -1\n",
      "index ------ :  15  >>  86 1 1\n",
      "index ------ :  16  >>  85 2 1\n",
      "index reflex :  17  >>  84 3 1\n",
      "index ------ :  18  >>  83 2 -1\n",
      "index ------ :  19  >>  82 1 -1\n",
      "index ------ :  20  >>  81 0 -1\n",
      "index reflex :  21  >>  80 -1 -1\n",
      "index ------ :  22  >>  79 0 1\n",
      "index ------ :  23  >>  78 1 1\n",
      "index ------ :  24  >>  77 2 1\n",
      "index ------ :  25  >>  76 3 1\n",
      "index ------ :  26  >>  75 4 1\n",
      "index reflex :  27  >>  74 5 1\n",
      "index reflex :  28  >>  73 4 -1\n",
      "index ------ :  29  >>  72 5 1\n",
      "index ------ :  30  >>  71 6 1\n",
      "index ------ :  31  >>  70 7 1\n",
      "index ------ :  32  >>  69 8 1\n",
      "index ------ :  33  >>  68 9 1\n",
      "index ------ :  34  >>  67 10 1\n",
      "index reflex :  35  >>  66 11 1\n",
      "index ------ :  36  >>  65 10 -1\n",
      "index reflex :  37  >>  64 9 -1\n",
      "index ------ :  38  >>  63 10 1\n",
      "index ------ :  39  >>  62 11 1\n",
      "index ------ :  40  >>  61 12 1\n",
      "index ------ :  41  >>  60 13 1\n",
      "index reflex :  42  >>  59 14 1\n",
      "index ------ :  43  >>  58 13 -1\n",
      "index ------ :  44  >>  57 12 -1\n",
      "index ------ :  45  >>  56 11 -1\n",
      "index ------ :  46  >>  55 10 -1\n",
      "index reflex :  47  >>  54 9 -1\n",
      "index ------ :  48  >>  53 10 1\n",
      "index reflex :  49  >>  52 11 1\n",
      "index ------ :  50  >>  51 10 -1\n",
      "index ------ :  51  >>  50 9 -1\n",
      "index ------ :  52  >>  49 8 -1\n",
      "index ------ :  53  >>  48 7 -1\n",
      "index ------ :  54  >>  47 6 -1\n",
      "index ------ :  55  >>  46 5 -1\n",
      "index reflex :  56  >>  45 4 -1\n",
      "index reflex :  57  >>  44 5 1\n",
      "index ------ :  58  >>  43 4 -1\n",
      "index ------ :  59  >>  42 3 -1\n",
      "index ------ :  60  >>  41 2 -1\n",
      "index ------ :  61  >>  40 1 -1\n",
      "index ------ :  62  >>  39 0 -1\n",
      "index reflex :  63  >>  38 -1 -1\n",
      "index ------ :  64  >>  37 0 1\n",
      "index ------ :  65  >>  36 1 1\n",
      "index ------ :  66  >>  35 2 1\n",
      "index reflex :  67  >>  34 3 1\n",
      "index ------ :  68  >>  33 2 -1\n",
      "index ------ :  69  >>  32 1 -1\n",
      "index reflex :  70  >>  31 0 -1\n",
      "index ------ :  71  >>  30 1 1\n",
      "index ------ :  72  >>  29 2 1\n",
      "index ------ :  73  >>  28 3 1\n",
      "index ------ :  74  >>  27 4 1\n",
      "index ------ :  75  >>  26 5 1\n",
      "index ------ :  76  >>  25 6 1\n",
      "index reflex :  77  >>  24 7 1\n",
      "index ------ :  78  >>  23 6 -1\n",
      "index ------ :  79  >>  22 5 -1\n",
      "index ------ :  80  >>  21 4 -1\n",
      "index ------ :  81  >>  20 3 -1\n",
      "index ------ :  82  >>  19 2 -1\n",
      "index ------ :  83  >>  18 1 -1\n",
      "index reflex :  84  >>  17 0 -1\n",
      "index ------ :  85  >>  16 1 1\n",
      "index ------ :  86  >>  15 2 1\n",
      "index reflex :  87  >>  14 3 1\n",
      "index ------ :  88  >>  13 2 -1\n",
      "index ------ :  89  >>  12 1 -1\n",
      "index ------ :  90  >>  11 0 -1\n",
      "index reflex :  91  >>  10 -1 -1\n",
      "index ------ :  92  >>  9 0 1\n",
      "index ------ :  93  >>  8 1 1\n",
      "index ------ :  94  >>  7 2 1\n",
      "index ------ :  95  >>  6 3 1\n",
      "index ------ :  96  >>  5 4 1\n",
      "index reflex :  97  >>  4 5 1\n",
      "index reflex :  98  >>  3 4 -1\n",
      "index ------ :  99  >>  2 5 1\n",
      "index final- :  100  >>  1 6 1\n",
      "6\n"
     ]
    }
   ],
   "source": [
    "def pingpong(iter_count, index, result, direction):\n",
    "    if not (iter_count-1):\n",
    "        print(\"index final- : \", index, \" >> \", iter_count, result, direction)        \n",
    "        return result\n",
    "    elif not (index%7) or not ((index-7)%10):\n",
    "        print(\"index reflex : \", index, \" >> \", iter_count, result, direction)\n",
    "        return pingpong(iter_count-1, index+1, result-1*direction, direction*-1)\n",
    "    else:\n",
    "        print(\"index ------ : \", index, \" >> \", iter_count, result, direction)\n",
    "        return pingpong(iter_count-1, index+1, result+1*direction, direction)\n",
    "\n",
    "print(pingpong(100, 1, 1, 1))"
   ]
  },
  {
   "cell_type": "code",
   "execution_count": 35,
   "metadata": {
    "collapsed": false
   },
   "outputs": [
    {
     "data": {
      "text/plain": [
       "1"
      ]
     },
     "execution_count": 35,
     "metadata": {},
     "output_type": "execute_result"
    }
   ],
   "source": [
    "a = (lambda x:(-1)**x)(2)\n",
    "a"
   ]
  },
  {
   "cell_type": "code",
   "execution_count": 29,
   "metadata": {
    "collapsed": false
   },
   "outputs": [
    {
     "ename": "NameError",
     "evalue": "name 'index' is not defined",
     "output_type": "error",
     "traceback": [
      "\u001b[0;31m---------------------------------------------------------------------------\u001b[0m",
      "\u001b[0;31mNameError\u001b[0m                                 Traceback (most recent call last)",
      "\u001b[0;32m<ipython-input-29-794972685e21>\u001b[0m in \u001b[0;36m<module>\u001b[0;34m()\u001b[0m\n\u001b[0;32m----> 1\u001b[0;31m \u001b[0ma\u001b[0m \u001b[0;34m=\u001b[0m \u001b[0;34m(\u001b[0m\u001b[0;32mnot\u001b[0m \u001b[0mindex\u001b[0m\u001b[0;34m%\u001b[0m\u001b[0;36m7\u001b[0m\u001b[0;34m)\u001b[0m \u001b[0;32mor\u001b[0m \u001b[0;34m(\u001b[0m\u001b[0;32mnot\u001b[0m \u001b[0;34m(\u001b[0m\u001b[0mindex\u001b[0m\u001b[0;34m-\u001b[0m\u001b[0;36m7\u001b[0m\u001b[0;34m)\u001b[0m\u001b[0;34m%\u001b[0m\u001b[0;36m10\u001b[0m\u001b[0;34m)\u001b[0m\u001b[0;34m\u001b[0m\u001b[0m\n\u001b[0m",
      "\u001b[0;31mNameError\u001b[0m: name 'index' is not defined"
     ]
    }
   ],
   "source": [
    "a = (not index%7) or (not (index-7)%10)"
   ]
  },
  {
   "cell_type": "code",
   "execution_count": null,
   "metadata": {
    "collapsed": true
   },
   "outputs": [],
   "source": [
    "def pingpong1(n):\n",
    "    if n==1:\n",
    "        return 1\n",
    "    else:\n",
    "        if(n-1)%7 != 0 and (n-1)%10 != 7 and int((n-1) / 10) %10 != 7 and int((n-1) / 100)%10 !=7:\n",
    "            return pingpong1(n-1)\n",
    "        else:\n",
    "            return -pingpong1(n-1)\n",
    "        "
   ]
  }
 ],
 "metadata": {
  "kernelspec": {
   "display_name": "Python 3",
   "language": "python",
   "name": "python3"
  },
  "language_info": {
   "codemirror_mode": {
    "name": "ipython",
    "version": 3
   },
   "file_extension": ".py",
   "mimetype": "text/x-python",
   "name": "python",
   "nbconvert_exporter": "python",
   "pygments_lexer": "ipython3",
   "version": "3.4.1"
  }
 },
 "nbformat": 4,
 "nbformat_minor": 0
}
