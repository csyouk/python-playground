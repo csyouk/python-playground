{
 "metadata": {
  "name": "",
  "signature": "sha256:b1c9adbca8343abf6de3dc61904d45e7c40631ba6d8a725ba7147a6300d47ef1"
 },
 "nbformat": 3,
 "nbformat_minor": 0,
 "worksheets": [
  {
   "cells": [
    {
     "cell_type": "code",
     "collapsed": false,
     "input": [
      "def Main():\n",
      "    queue = []\n",
      "    queue.append(1)\n",
      "    queue.append(2)\n",
      "    queue.append(3)\n",
      "    queue.append(4)\n",
      "    print(queue)\n",
      "    \n",
      "    while queue:\n",
      "        print(\"GET > \", queue.pop(0))\n",
      "        \n",
      "Main()"
     ],
     "language": "python",
     "metadata": {},
     "outputs": [
      {
       "output_type": "stream",
       "stream": "stdout",
       "text": [
        "[1, 2, 3, 4]\n",
        "GET >  1\n",
        "GET >  2\n",
        "GET >  3\n",
        "GET >  4\n"
       ]
      }
     ],
     "prompt_number": 2
    },
    {
     "cell_type": "code",
     "collapsed": false,
     "input": [],
     "language": "python",
     "metadata": {},
     "outputs": []
    }
   ],
   "metadata": {}
  }
 ]
}