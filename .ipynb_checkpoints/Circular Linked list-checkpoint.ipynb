{
 "metadata": {
  "name": "",
  "signature": "sha256:5897aa22634af5e7820bf3173729537977d1a53ab7dc8d8d115c5d3fe5881d5c"
 },
 "nbformat": 3,
 "nbformat_minor": 0,
 "worksheets": [
  {
   "cells": [
    {
     "cell_type": "code",
     "collapsed": false,
     "input": [
      "class Node:\n",
      "    def __init__(self, data, next=None):\n",
      "        self.data = data\n",
      "        self.next = next"
     ],
     "language": "python",
     "metadata": {},
     "outputs": [],
     "prompt_number": 1
    },
    {
     "cell_type": "code",
     "collapsed": false,
     "input": [
      "def init_circlelist():\n",
      "    global node1, node2, node3, node4\n",
      "    node1 = Node(1)\n",
      "    node2 = Node(2)\n",
      "    node3 = Node(3)\n",
      "    node4 = Node(4)\n",
      "    node1.next = node2\n",
      "    node2.next = node3\n",
      "    node3.next = node4\n",
      "    node4.next = node1"
     ],
     "language": "python",
     "metadata": {},
     "outputs": []
    }
   ],
   "metadata": {}
  }
 ]
}