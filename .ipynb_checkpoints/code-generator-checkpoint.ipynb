{
 "cells": [
  {
   "cell_type": "code",
   "execution_count": 4,
   "metadata": {
    "collapsed": false
   },
   "outputs": [],
   "source": [
    "from random import randint\n",
    "\n",
    "\n",
    "class ID:\n",
    "    ids = []\n",
    "    \n",
    "    @classmethod\n",
    "    def create_id(cls, minimum, maximum):\n",
    "        digits = []\n",
    "        number = randint(minimum, maximum)\n",
    "        while number:\n",
    "            digit = number%10\n",
    "            digits.append(digit)\n",
    "            number = number - digit\n",
    "            number /=10\n",
    "            number = int(number)\n",
    "            if not number:\n",
    "                if len(set(digits)) != len(str(minimum)):\n",
    "                    return ID.create_id(minimum, maximum)\n",
    "                else:\n",
    "                    new = int(''.join(map(str, digits[::-1])))\n",
    "                    ID.ids.append(new)\n",
    "                    return new\n",
    "                \n",
    "    @classmethod\n",
    "    def check_duplicate_id(cls, new):\n",
    "        if new in generated_ids():\n",
    "            new = create_id()\n",
    "            return check_duplicate_id(new)\n",
    "        else:\n",
    "            return new\n",
    "\n",
    "    @classmethod\n",
    "    def generated_ids(cls):\n",
    "        return ID.ids\n",
    "    \n",
    "    @classmethod\n",
    "    def flush_ids(cls):\n",
    "        ID.ids = []\n",
    "\n",
    "    @classmethod\n",
    "    def create_codes(cls, count, minimum, maximum):\n",
    "        for _ in range(count):\n",
    "            ID.create_id(minimum, maximum)\n",
    "    \n",
    "    @classmethod\n",
    "    def check_n_quarter_pool(cls, n, minimum, maximum, linear_list):\n",
    "        ranges = maximum - (minimum - 1)\n",
    "        quarted = ranges / n\n",
    "        \"\"\"\n",
    "            linear_list에 들어있는 code set들의 분포에 대해서 알아보고 싶다. \n",
    "            quarter 마다 몇 개의 code들이 있는지 알아낸다.\n",
    "        \"\"\"\n",
    "        quarterset = [0*n]\n",
    "        for element in linear_list.sort():\n",
    "            \n",
    "        \n",
    "        \n",
    "            "
   ]
  },
  {
   "cell_type": "code",
   "execution_count": 7,
   "metadata": {
    "collapsed": false,
    "scrolled": false
   },
   "outputs": [
    {
     "name": "stdout",
     "output_type": "stream",
     "text": [
      "[105, 106, 123, 124, 126, 126, 130, 134, 136, 137, 137, 142, 142, 145, 146, 146, 153, 156, 157, 157, 158, 159, 173, 174, 174, 179, 182, 185, 189, 189, 190, 192, 193, 194, 195, 198, 204, 206, 207, 209, 215, 219, 230, 237, 245, 246, 250, 251, 253, 253, 254, 256, 268, 270, 273, 273, 275, 275, 279, 279, 280, 281, 283, 283, 286, 289, 294, 294, 301, 301, 302, 304, 304, 305, 309, 310, 317, 320, 327, 327, 328, 329, 329, 340, 340, 342, 342, 342, 345, 347, 347, 348, 354, 360, 360, 362, 368, 376, 376, 379, 381, 385, 387, 389, 390, 394, 395, 396, 397, 401, 401, 405, 406, 406, 408, 409, 413, 415, 417, 419, 421, 426, 429, 432, 435, 436, 450, 450, 459, 459, 460, 470, 480, 480, 481, 482, 483, 485, 486, 486, 501, 502, 503, 503, 503, 510, 514, 519, 519, 520, 521, 527, 530, 530, 534, 536, 547, 560, 562, 567, 569, 572, 572, 578, 580, 584, 586, 590, 593, 594, 598, 604, 607, 608, 608, 613, 613, 615, 615, 618, 618, 620, 623, 623, 624, 627, 629, 634, 638, 638, 638, 639, 639, 643, 645, 645, 650, 651, 658, 672, 674, 675, 678, 680, 681, 683, 684, 685, 697, 704, 708, 708, 712, 714, 716, 720, 721, 724, 725, 726, 735, 736, 741, 746, 748, 748, 748, 753, 754, 768, 768, 785, 789, 789, 790, 791, 801, 804, 805, 805, 806, 810, 814, 819, 820, 824, 824, 829, 830, 831, 832, 846, 852, 854, 862, 864, 864, 874, 876, 890, 890, 891, 892, 893, 896, 905, 906, 914, 916, 925, 925, 926, 927, 928, 938, 941, 943, 945, 950, 950, 950, 952, 957, 957, 958, 960, 960, 962, 962, 964, 967, 971, 972, 975, 980, 980, 981, 983, 987, 987]\n"
     ]
    }
   ],
   "source": [
    "ID.create_codes(100, 100, 999)\n",
    "\n",
    "# for i in range(len(ID.ids)):\n",
    "#     print(ID.ids[i])\n",
    "ID.ids.sort()\n",
    "print(ID.ids)"
   ]
  },
  {
   "cell_type": "code",
   "execution_count": 3,
   "metadata": {
    "collapsed": false
   },
   "outputs": [
    {
     "name": "stdout",
     "output_type": "stream",
     "text": [
      "[3421, 1876, 8532, 8659, 6384, 6917, 3984, 4906, 5378, 6208, 4031, 2718, 7324, 1034, 3826, 3059, 4275, 2150, 3209, 6820, 9645, 5284, 7931, 9743, 5176, 7801, 6283, 1932, 7536, 2670, 5024, 6450, 1725, 2043, 5967, 1035, 6801, 2760, 6817, 2716, 8597, 2409, 4513, 5263, 7512, 7692, 2710, 5409, 2731, 5618, 1387, 9176, 7048, 1284, 3029, 1645, 2864, 8603, 9526, 7521, 7192, 1025, 6894, 2154, 1792, 4758, 5610, 5273, 4710, 5891, 8032, 5471, 4807, 7548, 5870, 9415, 2154, 5021, 4637, 5297, 4285, 7241, 4857, 2581, 9615, 2736, 1089, 9130, 6327, 2783, 9231, 8067, 9453, 9401, 6319, 5967, 6239, 3620, 4362, 6325]\n"
     ]
    }
   ],
   "source": [
    "ID.flush_ids()\n",
    "ID.create_codes(100, 1000, 9999)\n",
    "print(ID.ids)"
   ]
  },
  {
   "cell_type": "code",
   "execution_count": null,
   "metadata": {
    "collapsed": true
   },
   "outputs": [],
   "source": []
  }
 ],
 "metadata": {
  "kernelspec": {
   "display_name": "Python 3",
   "language": "python",
   "name": "python3"
  },
  "language_info": {
   "codemirror_mode": {
    "name": "ipython",
    "version": 3
   },
   "file_extension": ".py",
   "mimetype": "text/x-python",
   "name": "python",
   "nbconvert_exporter": "python",
   "pygments_lexer": "ipython3",
   "version": "3.4.1"
  }
 },
 "nbformat": 4,
 "nbformat_minor": 0
}
