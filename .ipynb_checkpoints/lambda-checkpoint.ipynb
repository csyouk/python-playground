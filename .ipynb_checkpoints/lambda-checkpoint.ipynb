{
 "metadata": {
  "name": "",
  "signature": "sha256:7702747c3303a671375230a6dcbb9c61da3d92f25839220c4b49bd3202486afa"
 },
 "nbformat": 3,
 "nbformat_minor": 0,
 "worksheets": []
}