{
 "metadata": {
  "name": "",
  "signature": "sha256:b8aebdac80f9357224d8a70d2dbfc5aee90a125c9125fb1da48e9f035eae4e0c"
 },
 "nbformat": 3,
 "nbformat_minor": 0,
 "worksheets": [
  {
   "cells": [
    {
     "cell_type": "code",
     "collapsed": false,
     "input": [
      "# coding:utf-8\n",
      "class Node:\n",
      "    def __init__(self, data, next=None):\n",
      "        self.data = data\n",
      "        self.next = next"
     ],
     "language": "python",
     "metadata": {},
     "outputs": [],
     "prompt_number": 1
    },
    {
     "cell_type": "code",
     "collapsed": false,
     "input": [
      "def init_list():\n",
      "    global node1, node2, node3, node4\n",
      "    node1 = Node(1)\n",
      "    node2 = Node(2)\n",
      "    node3 = Node(3.333)\n",
      "    node4 = Node(\"four\")\n",
      "    node1.next = node2\n",
      "    node2.next = node3\n",
      "    node3.next = node4"
     ],
     "language": "python",
     "metadata": {},
     "outputs": [],
     "prompt_number": 2
    },
    {
     "cell_type": "code",
     "collapsed": false,
     "input": [
      "def Main():\n",
      "    init_list()\n",
      "    node = node1\n",
      "    while node:\n",
      "        print(node.data)\n",
      "        node = node.next\n",
      "\n",
      "Main()"
     ],
     "language": "python",
     "metadata": {},
     "outputs": [
      {
       "output_type": "stream",
       "stream": "stdout",
       "text": [
        "1\n",
        "2\n",
        "3.333\n",
        "four\n"
       ]
      }
     ],
     "prompt_number": 3
    },
    {
     "cell_type": "code",
     "collapsed": false,
     "input": [
      "def delete_node(del_data):\n",
      "    global node1\n",
      "    pre_node = node1\n",
      "    next_node = pre_node.next\n",
      "    \n",
      "    # \uc9c0\uc6b0\uace0\uc790 \ud558\ub294 \ub370\uc774\ud130\uac00 \ub9ac\uc2a4\ud2b8\uc758 \uccab\ubc88\uc9f8 \uc694\uc18c\uc77c \uacbd\uc6b0\uc5d0 \ub300\ud55c \ucc98\ub9ac\n",
      "    if pre_node.data == del_data:\n",
      "        node1 = next_node\n",
      "        del pre_node\n",
      "        return\n",
      "    \n",
      "    # \uc9c0\uc6b0\uace0\uc790 \ud558\ub294 \ub370\uc774\ud130\uac00 \uccab \ubc88\uc9f8 \ub178\ub4dc\uac00 \uc544\ub2d0 \uacbd\uc6b0\uc5d0 \ub300\ud55c \ucc98\ub9ac\ub2e4. \n",
      "    while next_node:\n",
      "        # \uc9c0\uc6b0\uace0\uc790 \ud558\ub294 \ub178\ub4dc \ubc1c\uacac\uc2dc,\n",
      "        if next_node.data == del_data:\n",
      "            # \uc9c0\uc6b0\uace0\uc790 \ud558\ub294 \ub178\ub4dc\uc758 \ub2e4\uc74c\uc744 \uac00\ub974\ud0a4\ub294 \ub9c1\ud06c\ub97c, \uc774\uc804 \ub178\ub4dc\uc758 \ub9c1\ud06c\ub85c \ub300\uccb4\ud6c4\uc5d0, \uc9c0\uc6b4\ub2e4.\n",
      "            pre_node.next = next_node.next\n",
      "            del next_node\n",
      "            break\n",
      "        # \uc9c0\uc6b0\uace0\uc790 \ud558\ub294 \ub178\ub4dc\ub97c \ubc1c\uacac\ud558\uc9c0 \ubabb\ud588\uc744 \uc2dc\uc5d0\ub294, \uc5f0\uacb0\ub41c \ub2e4\uc74c \ub178\ub4dc\ub85c \uc774\ub3d9\ud574\uc11c \uc791\uc5c5\uc744 \uc9c4\ud589\ud55c\ub2e4.\n",
      "        pre_node = next_node\n",
      "        next_node = next_node.next"
     ],
     "language": "python",
     "metadata": {},
     "outputs": [],
     "prompt_number": 4
    },
    {
     "cell_type": "code",
     "collapsed": false,
     "input": [
      "def insert_node(ins_data):\n",
      "    global node1\n",
      "    new_node = Node(ins_data)\n",
      "    new_node.next = node1\n",
      "    node1 = new_node"
     ],
     "language": "python",
     "metadata": {},
     "outputs": []
    }
   ],
   "metadata": {}
  }
 ]
}