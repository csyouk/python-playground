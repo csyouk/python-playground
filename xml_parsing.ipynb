{
 "metadata": {
  "name": "",
  "signature": "sha256:aa1995d968bc0ff65058cfade278616d793178eb9d4d4ca9fb25f4f5c0e6420f"
 },
 "nbformat": 3,
 "nbformat_minor": 0,
 "worksheets": [
  {
   "cells": [
    {
     "cell_type": "code",
     "collapsed": false,
     "input": [
      "from xml.etree.ElementTree import Element, dump\n",
      "\n",
      "note = Element(\"note\")\n",
      "to = Element(\"to\")\n",
      "to.text = \"Tove\"\n",
      "\n",
      "note.append(to)\n",
      "dump(note)"
     ],
     "language": "python",
     "metadata": {},
     "outputs": [
      {
       "output_type": "stream",
       "stream": "stdout",
       "text": [
        "<note><to>Tove</to></note>\n"
       ]
      }
     ],
     "prompt_number": 2
    },
    {
     "cell_type": "code",
     "collapsed": false,
     "input": [
      "from xml.etree.ElementTree import Element, SubElement, dump, ElementTree\n",
      "\n",
      "note = Element(\"note\")\n",
      "note.attrib[\"date\"] = \"20120104\"\n",
      "\n",
      "to = Element(\"to\")\n",
      "to.text = \"Tove\"\n",
      "note.append(to)\n",
      "\n",
      "SubElement(note, \"from\").text = \"Jani\"\n",
      "SubElement(note, \"heading\").text = \"Reminder\"\n",
      "SubElement(note, \"body\").text = \"Don't forget me this weekend!\"\n",
      "\n",
      "def indent(elem, level=0):\n",
      "    i = \"\\n\" + level*\"  \"\n",
      "    if len(elem):\n",
      "        if not elem.text or not elem.text.strip():\n",
      "            elem.text = i + \"  \"\n",
      "        if not elem.tail or not elem.tail.strip():\n",
      "            elem.tail = i\n",
      "        for elem in elem:\n",
      "            indent(elem, level+1)\n",
      "        if not elem.tail or not elem.tail.strip():\n",
      "            elem.tail = i\n",
      "    else:\n",
      "        if level and (not elem.tail or not elem.tail.strip()):\n",
      "            elem.tail = i\n",
      "\n",
      "indent(note)\n",
      "dump(note)\n",
      "\n",
      "ElementTree(note).write(\"note.xml\")"
     ],
     "language": "python",
     "metadata": {},
     "outputs": [
      {
       "output_type": "stream",
       "stream": "stdout",
       "text": [
        "<note date=\"20120104\">\n",
        "  <to>Tove</to>\n",
        "  <from>Jani</from>\n",
        "  <heading>Reminder</heading>\n",
        "  <body>Don't forget me this weekend!</body>\n",
        "</note>\n"
       ]
      }
     ],
     "prompt_number": 6
    },
    {
     "cell_type": "code",
     "collapsed": false,
     "input": [
      "from xml.etree.ElementTree import parse\n",
      "tree = parse(\"note.xml\")\n",
      "note = tree.getroot()\n",
      "print(note)"
     ],
     "language": "python",
     "metadata": {},
     "outputs": [
      {
       "output_type": "stream",
       "stream": "stdout",
       "text": [
        "<Element 'note' at 0x104891458>\n"
       ]
      }
     ],
     "prompt_number": 8
    },
    {
     "cell_type": "code",
     "collapsed": false,
     "input": [],
     "language": "python",
     "metadata": {},
     "outputs": []
    }
   ],
   "metadata": {}
  }
 ]
}