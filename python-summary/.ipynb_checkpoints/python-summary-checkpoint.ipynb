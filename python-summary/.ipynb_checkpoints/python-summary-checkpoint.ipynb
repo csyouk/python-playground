{
 "cells": [
  {
   "cell_type": "code",
   "execution_count": 1,
   "metadata": {
    "collapsed": false
   },
   "outputs": [
    {
     "data": {
      "text/plain": [
       "'type'"
      ]
     },
     "execution_count": 1,
     "metadata": {},
     "output_type": "execute_result"
    }
   ],
   "source": [
    "int.__class__.__name__"
   ]
  },
  {
   "cell_type": "code",
   "execution_count": 2,
   "metadata": {
    "collapsed": false
   },
   "outputs": [
    {
     "data": {
      "text/plain": [
       "'type'"
      ]
     },
     "execution_count": 2,
     "metadata": {},
     "output_type": "execute_result"
    }
   ],
   "source": [
    "str.__class__.__name__"
   ]
  },
  {
   "cell_type": "code",
   "execution_count": 3,
   "metadata": {
    "collapsed": false
   },
   "outputs": [
    {
     "data": {
      "text/plain": [
       "'type'"
      ]
     },
     "execution_count": 3,
     "metadata": {},
     "output_type": "execute_result"
    }
   ],
   "source": [
    "list.__class__.__name__"
   ]
  },
  {
   "cell_type": "code",
   "execution_count": 4,
   "metadata": {
    "collapsed": false
   },
   "outputs": [
    {
     "data": {
      "text/plain": [
       "'type'"
      ]
     },
     "execution_count": 4,
     "metadata": {},
     "output_type": "execute_result"
    }
   ],
   "source": [
    "dict.__class__.__name__"
   ]
  },
  {
   "cell_type": "code",
   "execution_count": 6,
   "metadata": {
    "collapsed": false
   },
   "outputs": [
    {
     "data": {
      "text/plain": [
       "'int'"
      ]
     },
     "execution_count": 6,
     "metadata": {},
     "output_type": "execute_result"
    }
   ],
   "source": [
    "intobj = 1\n",
    "intobj.__class__.__name__"
   ]
  },
  {
   "cell_type": "code",
   "execution_count": 7,
   "metadata": {
    "collapsed": false
   },
   "outputs": [
    {
     "data": {
      "text/plain": [
       "True"
      ]
     },
     "execution_count": 7,
     "metadata": {},
     "output_type": "execute_result"
    }
   ],
   "source": [
    "isinstance(intobj.__class__, type)"
   ]
  },
  {
   "cell_type": "code",
   "execution_count": 9,
   "metadata": {
    "collapsed": false
   },
   "outputs": [
    {
     "data": {
      "text/plain": [
       "True"
      ]
     },
     "execution_count": 9,
     "metadata": {},
     "output_type": "execute_result"
    }
   ],
   "source": [
    "isinstance(\"string object\".__class__, type)"
   ]
  },
  {
   "cell_type": "code",
   "execution_count": 10,
   "metadata": {
    "collapsed": false
   },
   "outputs": [
    {
     "data": {
      "text/plain": [
       "'type'"
      ]
     },
     "execution_count": 10,
     "metadata": {},
     "output_type": "execute_result"
    }
   ],
   "source": [
    "type.__class__.__name__"
   ]
  },
  {
   "cell_type": "code",
   "execution_count": 11,
   "metadata": {
    "collapsed": false
   },
   "outputs": [
    {
     "data": {
      "text/plain": [
       "'type'"
      ]
     },
     "execution_count": 11,
     "metadata": {},
     "output_type": "execute_result"
    }
   ],
   "source": [
    "float.__class__.__name__"
   ]
  },
  {
   "cell_type": "code",
   "execution_count": 17,
   "metadata": {
    "collapsed": false
   },
   "outputs": [
    {
     "name": "stdout",
     "output_type": "stream",
     "text": [
      "<class 'int'>\n",
      "1\n",
      "====================\n",
      "<class 'float'>\n",
      "1.1\n"
     ]
    }
   ],
   "source": [
    "def typeof(obj):\n",
    "    return obj.__class__\n",
    "\n",
    "def valueof(obj):\n",
    "    if obj.__class__ == type(obj):\n",
    "        return eval(obj.__class__.__name__ + \"(obj)\")\n",
    "    \n",
    "print(typeof(1))\n",
    "print(valueof(1))\n",
    "print(\"=\"*20)\n",
    "print(typeof(1.1))\n",
    "print(valueof(1.1))"
   ]
  },
  {
   "cell_type": "markdown",
   "metadata": {},
   "source": [
    "**타입은 데이터를 관리하는 기준. **\n",
    "파이썬에서는 최상위 타입을 Object로 선정해서 모든 것을 object instance로 처리한다. "
   ]
  },
  {
   "cell_type": "code",
   "execution_count": 19,
   "metadata": {
    "collapsed": false
   },
   "outputs": [
    {
     "data": {
      "text/plain": [
       "type"
      ]
     },
     "execution_count": 19,
     "metadata": {},
     "output_type": "execute_result"
    }
   ],
   "source": [
    "type(object)"
   ]
  },
  {
   "cell_type": "code",
   "execution_count": 20,
   "metadata": {
    "collapsed": false
   },
   "outputs": [
    {
     "data": {
      "text/plain": [
       "True"
      ]
     },
     "execution_count": 20,
     "metadata": {},
     "output_type": "execute_result"
    }
   ],
   "source": [
    "isinstance(1, object)"
   ]
  },
  {
   "cell_type": "markdown",
   "metadata": {},
   "source": [
    "객체 내부에 정해진 값이 변경이 가능한지 구분.\n",
    "\n",
    "=> 컨테이너 타입 중 실제 값이 정해지지 않은 경우 요소들을 변경이 가능\n",
    "\n",
    "** immutable : int, float, complex, str, unicode bytes, tuple, frozenset **\n",
    "\n",
    "** mutable : list, set, dict, bytes-array **\n"
   ]
  },
  {
   "cell_type": "code",
   "execution_count": 29,
   "metadata": {
    "collapsed": false
   },
   "outputs": [
    {
     "name": "stdout",
     "output_type": "stream",
     "text": [
      "1\n",
      "1.0\n",
      "1\n",
      "str\n",
      "int\n"
     ]
    }
   ],
   "source": [
    "v = 1\n",
    "print(str(v))\n",
    "print(float(str(v)))\n",
    "print(int(str(v)))\n",
    "\n",
    "vv = \"1\"\n",
    "print(vv.__class__.__name__)\n",
    "vv = int(vv)\n",
    "print(vv.__class__.__name__)"
   ]
  },
  {
   "cell_type": "code",
   "execution_count": 31,
   "metadata": {
    "collapsed": false
   },
   "outputs": [
    {
     "name": "stdout",
     "output_type": "stream",
     "text": [
      "0  0.0\n"
     ]
    }
   ],
   "source": [
    "x = int()\n",
    "y = str()\n",
    "z = float()\n",
    "print(x, y, z)"
   ]
  },
  {
   "cell_type": "code",
   "execution_count": null,
   "metadata": {
    "collapsed": true
   },
   "outputs": [],
   "source": [
    "int()\n",
    "float()\n",
    "str()\n",
    "list()\n",
    "dict()\n",
    "tuple()\n",
    "set()\n",
    "\n",
    "함수지만 객체를 생성하는 것과 같은 역할을 한다.\n"
   ]
  },
  {
   "cell_type": "code",
   "execution_count": 34,
   "metadata": {
    "collapsed": false
   },
   "outputs": [
    {
     "name": "stdout",
     "output_type": "stream",
     "text": [
      "4297370080\n",
      "<class 'int'>\n",
      "4297370080\n",
      "====================\n",
      "4360399816\n",
      "4297370080\n"
     ]
    }
   ],
   "source": [
    "# 숫자에 대한 객체를 관리하는 데이터 타입. \n",
    "# 숫자타입도 하나의 객체이므로 1이 생성되면 같은 context 내에서는 동일한 객체 id를 사용한다. \n",
    "print(id(1))\n",
    "v = 1\n",
    "print(type(v))\n",
    "print(id(v))\n",
    "print(\"=\"*20)\n",
    "v = str(v)\n",
    "print(id(v))\n",
    "\n",
    "def change_context():\n",
    "    vv = 1\n",
    "    print(id(vv))\n",
    "change_context()"
   ]
  },
  {
   "cell_type": "code",
   "execution_count": 44,
   "metadata": {
    "collapsed": false
   },
   "outputs": [
    {
     "data": {
      "text/plain": [
       "(1-1j)"
      ]
     },
     "execution_count": 44,
     "metadata": {},
     "output_type": "execute_result"
    }
   ],
   "source": [
    "vvv = 1+1j\n",
    "vvv.conjugate()"
   ]
  },
  {
   "cell_type": "markdown",
   "metadata": {},
   "source": [
    "values 내부의 값을 변경이 가능한지 점검하여 값을 변경.\n",
    "\n",
    "특히 변수들(variables) 함수 파라미터에 복사할 경우 실제 값 객체가 변경가능여부에 따라 다른 경우가 발생한다.\n",
    "\n",
    "Mutable은 주로 리스트, 딕셔너리 타입으로 내부 값인 요소에 추가하는 것이므로 변수나 함수 파라미터로 사용해도 변경이 된다.\n",
    "즉, swallow copy를 사용한다는 말과 같다.\n",
    "\n",
    "Mutable 처리할 경우 처음의 값이 변경되지 않으려면 참조만 복사하지 말고 전체 값을 복사해야 별도의 참조가 생겨 다른 값 객체로 인식한다. 즉, deepcopy를 써야 한다는 말과 같다.\n",
    "\n",
    "위의 문장을 기초로 아래 예제를 만들어 보자. "
   ]
  },
  {
   "cell_type": "code",
   "execution_count": 53,
   "metadata": {
    "collapsed": false
   },
   "outputs": [
    {
     "name": "stdout",
     "output_type": "stream",
     "text": [
      "4360809288\n",
      "4360809288\n",
      "====================\n",
      "4360809288\n",
      "4360776008\n",
      "====================\n",
      "4360809288\n",
      "4360776008\n"
     ]
    }
   ],
   "source": [
    "\n",
    "\n",
    "aa = [1,2,3]\n",
    "print(id(aa))\n",
    "\n",
    "def append_sth(l, no):\n",
    "    l.append(no)\n",
    "    print(id(l))\n",
    "\n",
    "# aa가 복사되서 함수의 파라미터로 넘어가는 것이 아니라,(새로운 객체가 함수 내부로 들어가는게 아니다) \n",
    "# 원본 aa는 그대로 있고 참조값만 있는 상태로 넘어가게 되는 것이다.\n",
    "append_sth(aa, 4)\n",
    "\n",
    "\n",
    "print(\"=\"*20)\n",
    "def append_sth_using_deepcopy(l, no):\n",
    "    l.append(no)\n",
    "    print(id(l))\n",
    "\n",
    "    \n",
    "print(id(aa))\n",
    "append_sth_using_deepcopy(aa[:], 4) # 주소 값이 변경되었음을 알 수 있다. deepcopy가 일어났다.\n",
    "\n",
    "print(\"=\"*20)\n",
    "from copy import deepcopy\n",
    "print(id(aa))\n",
    "append_sth_using_deepcopy(deepcopy(aa), 4) # 주소 값이 변경되었음을 알 수 있다. deepcopy가 일어났다."
   ]
  },
  {
   "cell_type": "code",
   "execution_count": 54,
   "metadata": {
    "collapsed": false
   },
   "outputs": [
    {
     "data": {
      "text/plain": [
       "['__abs__',\n",
       " '__add__',\n",
       " '__and__',\n",
       " '__bool__',\n",
       " '__ceil__',\n",
       " '__class__',\n",
       " '__delattr__',\n",
       " '__dir__',\n",
       " '__divmod__',\n",
       " '__doc__',\n",
       " '__eq__',\n",
       " '__float__',\n",
       " '__floor__',\n",
       " '__floordiv__',\n",
       " '__format__',\n",
       " '__ge__',\n",
       " '__getattribute__',\n",
       " '__getnewargs__',\n",
       " '__gt__',\n",
       " '__hash__',\n",
       " '__index__',\n",
       " '__init__',\n",
       " '__int__',\n",
       " '__invert__',\n",
       " '__le__',\n",
       " '__lshift__',\n",
       " '__lt__',\n",
       " '__mod__',\n",
       " '__mul__',\n",
       " '__ne__',\n",
       " '__neg__',\n",
       " '__new__',\n",
       " '__or__',\n",
       " '__pos__',\n",
       " '__pow__',\n",
       " '__radd__',\n",
       " '__rand__',\n",
       " '__rdivmod__',\n",
       " '__reduce__',\n",
       " '__reduce_ex__',\n",
       " '__repr__',\n",
       " '__rfloordiv__',\n",
       " '__rlshift__',\n",
       " '__rmod__',\n",
       " '__rmul__',\n",
       " '__ror__',\n",
       " '__round__',\n",
       " '__rpow__',\n",
       " '__rrshift__',\n",
       " '__rshift__',\n",
       " '__rsub__',\n",
       " '__rtruediv__',\n",
       " '__rxor__',\n",
       " '__setattr__',\n",
       " '__sizeof__',\n",
       " '__str__',\n",
       " '__sub__',\n",
       " '__subclasshook__',\n",
       " '__truediv__',\n",
       " '__trunc__',\n",
       " '__xor__',\n",
       " 'bit_length',\n",
       " 'conjugate',\n",
       " 'denominator',\n",
       " 'from_bytes',\n",
       " 'imag',\n",
       " 'numerator',\n",
       " 'real',\n",
       " 'to_bytes']"
      ]
     },
     "execution_count": 54,
     "metadata": {},
     "output_type": "execute_result"
    }
   ],
   "source": [
    "dir(1)"
   ]
  },
  {
   "cell_type": "code",
   "execution_count": 66,
   "metadata": {
    "collapsed": false
   },
   "outputs": [
    {
     "name": "stdout",
     "output_type": "stream",
     "text": [
      "아이가 태어났습니다.\n",
      "아이가 죽었습니다.\n"
     ]
    }
   ],
   "source": [
    "class Baby:\n",
    "    def __init__(self):\n",
    "        print(\"아이가 태어났습니다.\")\n",
    "    def __del__(self):\n",
    "        print(\"아이가 죽었습니다.\")\n",
    "        \n",
    "b = Baby()\n",
    "del b # 아이가 죽었다고 2번 나오는데 이건 ipython이 마지막 출력물을 console에 보여주는 특성 때문이다."
   ]
  },
  {
   "cell_type": "code",
   "execution_count": 70,
   "metadata": {
    "collapsed": false
   },
   "outputs": [
    {
     "name": "stdout",
     "output_type": "stream",
     "text": [
      "4361015240\n",
      "4361013448\n",
      "4361015048\n"
     ]
    }
   ],
   "source": [
    "a = [\"a\",\"b\",\"c\"]\n",
    "print(id(a))\n",
    "print(id(a*3))\n",
    "\n",
    "b = a*3\n",
    "print(id(b))\n"
   ]
  },
  {
   "cell_type": "code",
   "execution_count": 74,
   "metadata": {
    "collapsed": false
   },
   "outputs": [
    {
     "name": "stdout",
     "output_type": "stream",
     "text": [
      "3-9-12-4\n",
      "90-3-1\n"
     ]
    }
   ],
   "source": [
    "# string formatting\n",
    "print(\"{0}-{1}-{2}-{3}\".format(3,9,12,4))\n",
    "\n",
    "print(\"{first}-{angular}-{tornado}\".format(first=90, tornado=1, angular=3))"
   ]
  },
  {
   "cell_type": "code",
   "execution_count": 76,
   "metadata": {
    "collapsed": false
   },
   "outputs": [
    {
     "data": {
      "text/plain": [
       "'left:         hi right:[1:>10] centre:    1     '"
      ]
     },
     "execution_count": 76,
     "metadata": {},
     "output_type": "execute_result"
    }
   ],
   "source": [
    "\"left: {0:>10} right:[1:>10] centre:{2:^10}\".format(\"hi\", \"world\",\"1\")\n",
    "# {위치:[공백부호][정렬방법부호] 정렬될 공간}.format(파라미터)\n",
    "# <: 좌측 정렬\n",
    "# >: 우측 정렬\n",
    "# ^: 가운데 정렬\n"
   ]
  },
  {
   "cell_type": "code",
   "execution_count": 78,
   "metadata": {
    "collapsed": false
   },
   "outputs": [
    {
     "data": {
      "text/plain": [
       "['__class__',\n",
       " '__delattr__',\n",
       " '__dir__',\n",
       " '__doc__',\n",
       " '__eq__',\n",
       " '__format__',\n",
       " '__ge__',\n",
       " '__getattribute__',\n",
       " '__gt__',\n",
       " '__hash__',\n",
       " '__init__',\n",
       " '__le__',\n",
       " '__lt__',\n",
       " '__ne__',\n",
       " '__new__',\n",
       " '__reduce__',\n",
       " '__reduce_ex__',\n",
       " '__repr__',\n",
       " '__setattr__',\n",
       " '__sizeof__',\n",
       " '__str__',\n",
       " '__subclasshook__']"
      ]
     },
     "execution_count": 78,
     "metadata": {},
     "output_type": "execute_result"
    }
   ],
   "source": [
    "dir(object)"
   ]
  },
  {
   "cell_type": "code",
   "execution_count": 79,
   "metadata": {
    "collapsed": false
   },
   "outputs": [
    {
     "name": "stdout",
     "output_type": "stream",
     "text": [
      "0\n",
      "s\n",
      "0\n"
     ]
    }
   ],
   "source": [
    "# Sequence Accessing Values\n",
    "# Sequcne Type(String, list, Tuple)은 변수명[index]로 값을 접근해서 가지고 온다.\n",
    "# 변수에는 Sequence Instance가 참조를 가지고 있고 index를 이용하여 값들의 위치를 검색한다.\n",
    "l = [0,1,2,3]\n",
    "print(l[0])\n",
    "\n",
    "s = \"string\"\n",
    "print(s[0])\n",
    "\n",
    "t = (0,1,2,3)\n",
    "print(t[0])"
   ]
  },
  {
   "cell_type": "code",
   "execution_count": 82,
   "metadata": {
    "collapsed": false
   },
   "outputs": [
    {
     "name": "stdout",
     "output_type": "stream",
     "text": [
      "[100, 1, 2, 3]\n"
     ]
    }
   ],
   "source": [
    "# Sequence Updating Values\n",
    "# Mutable 객체인 list만 기존 값을 변경할 수 있음.\n",
    "lll = [0,1,2,3]\n",
    "lll[0] = 100\n",
    "print(lll)"
   ]
  },
  {
   "cell_type": "code",
   "execution_count": 83,
   "metadata": {
    "collapsed": false
   },
   "outputs": [
    {
     "ename": "TypeError",
     "evalue": "'tuple' object does not support item assignment",
     "output_type": "error",
     "traceback": [
      "\u001b[0;31m---------------------------------------------------------------------------\u001b[0m",
      "\u001b[0;31mTypeError\u001b[0m                                 Traceback (most recent call last)",
      "\u001b[0;32m<ipython-input-83-26cf304dc469>\u001b[0m in \u001b[0;36m<module>\u001b[0;34m()\u001b[0m\n\u001b[1;32m      1\u001b[0m \u001b[0mt\u001b[0m \u001b[0;34m=\u001b[0m \u001b[0;34m(\u001b[0m\u001b[0;36m0\u001b[0m\u001b[0;34m,\u001b[0m\u001b[0;36m1\u001b[0m\u001b[0;34m,\u001b[0m\u001b[0;36m2\u001b[0m\u001b[0;34m,\u001b[0m\u001b[0;36m3\u001b[0m\u001b[0;34m)\u001b[0m\u001b[0;34m\u001b[0m\u001b[0m\n\u001b[0;32m----> 2\u001b[0;31m \u001b[0mt\u001b[0m\u001b[0;34m[\u001b[0m\u001b[0;36m0\u001b[0m\u001b[0;34m]\u001b[0m \u001b[0;34m=\u001b[0m \u001b[0;36m100\u001b[0m\u001b[0;34m\u001b[0m\u001b[0m\n\u001b[0m",
      "\u001b[0;31mTypeError\u001b[0m: 'tuple' object does not support item assignment"
     ]
    }
   ],
   "source": [
    "t = (0,1,2,3)\n",
    "t[0] = 100"
   ]
  },
  {
   "cell_type": "code",
   "execution_count": 84,
   "metadata": {
    "collapsed": false
   },
   "outputs": [
    {
     "ename": "TypeError",
     "evalue": "'str' object does not support item assignment",
     "output_type": "error",
     "traceback": [
      "\u001b[0;31m---------------------------------------------------------------------------\u001b[0m",
      "\u001b[0;31mTypeError\u001b[0m                                 Traceback (most recent call last)",
      "\u001b[0;32m<ipython-input-84-f03e4f4e04ed>\u001b[0m in \u001b[0;36m<module>\u001b[0;34m()\u001b[0m\n\u001b[1;32m      1\u001b[0m \u001b[0ms\u001b[0m \u001b[0;34m=\u001b[0m \u001b[0;34m\"sttt\"\u001b[0m\u001b[0;34m\u001b[0m\u001b[0m\n\u001b[0;32m----> 2\u001b[0;31m \u001b[0ms\u001b[0m\u001b[0;34m[\u001b[0m\u001b[0;36m0\u001b[0m\u001b[0;34m]\u001b[0m \u001b[0;34m=\u001b[0m \u001b[0;34m\"t\"\u001b[0m\u001b[0;34m\u001b[0m\u001b[0m\n\u001b[0m",
      "\u001b[0;31mTypeError\u001b[0m: 'str' object does not support item assignment"
     ]
    }
   ],
   "source": [
    "s = \"sttt\"\n",
    "s[0] = \"t\""
   ]
  },
  {
   "cell_type": "code",
   "execution_count": 85,
   "metadata": {
    "collapsed": false
   },
   "outputs": [
    {
     "data": {
      "text/plain": [
       "4361025160"
      ]
     },
     "execution_count": 85,
     "metadata": {},
     "output_type": "execute_result"
    }
   ],
   "source": [
    "id(s)"
   ]
  },
  {
   "cell_type": "code",
   "execution_count": 86,
   "metadata": {
    "collapsed": false
   },
   "outputs": [
    {
     "name": "stdout",
     "output_type": "stream",
     "text": [
      "4361030000\n"
     ]
    }
   ],
   "source": [
    "v = \"updating\" + s\n",
    "print(id(v))"
   ]
  },
  {
   "cell_type": "code",
   "execution_count": 87,
   "metadata": {
    "collapsed": false
   },
   "outputs": [
    {
     "ename": "NameError",
     "evalue": "name 'cmp' is not defined",
     "output_type": "error",
     "traceback": [
      "\u001b[0;31m---------------------------------------------------------------------------\u001b[0m",
      "\u001b[0;31mNameError\u001b[0m                                 Traceback (most recent call last)",
      "\u001b[0;32m<ipython-input-87-3e3c8a6e0647>\u001b[0m in \u001b[0;36m<module>\u001b[0;34m()\u001b[0m\n\u001b[1;32m      1\u001b[0m \u001b[0ml1\u001b[0m \u001b[0;34m=\u001b[0m \u001b[0;34m[\u001b[0m\u001b[0;36m0\u001b[0m\u001b[0;34m,\u001b[0m\u001b[0;36m1\u001b[0m\u001b[0;34m,\u001b[0m\u001b[0;36m2\u001b[0m\u001b[0;34m,\u001b[0m\u001b[0;36m3\u001b[0m\u001b[0;34m,\u001b[0m\u001b[0;36m4\u001b[0m\u001b[0;34m]\u001b[0m\u001b[0;34m\u001b[0m\u001b[0m\n\u001b[1;32m      2\u001b[0m \u001b[0ml2\u001b[0m \u001b[0;34m=\u001b[0m \u001b[0;34m[\u001b[0m\u001b[0;36m3\u001b[0m\u001b[0;34m,\u001b[0m\u001b[0;36m4\u001b[0m\u001b[0;34m,\u001b[0m\u001b[0;36m5\u001b[0m\u001b[0;34m,\u001b[0m\u001b[0;36m6\u001b[0m\u001b[0;34m,\u001b[0m\u001b[0;36m7\u001b[0m\u001b[0;34m]\u001b[0m\u001b[0;34m\u001b[0m\u001b[0m\n\u001b[0;32m----> 3\u001b[0;31m \u001b[0mcmp\u001b[0m\u001b[0;34m(\u001b[0m\u001b[0ml1\u001b[0m\u001b[0;34m,\u001b[0m\u001b[0ml2\u001b[0m\u001b[0;34m)\u001b[0m\u001b[0;34m\u001b[0m\u001b[0m\n\u001b[0m",
      "\u001b[0;31mNameError\u001b[0m: name 'cmp' is not defined"
     ]
    }
   ],
   "source": [
    "l1 = [0,1,2,3,4]\n",
    "l2 = [3,4,5,6,7]\n",
    "cmp(l1,l2)"
   ]
  },
  {
   "cell_type": "markdown",
   "metadata": {},
   "source": [
    "** map type **\n",
    "\n",
    "dictionary\n",
    "- accessing\n",
    "- updating\n",
    "- deleting"
   ]
  },
  {
   "cell_type": "markdown",
   "metadata": {},
   "source": [
    "** None **\n",
    "\n",
    "정의 된 것이 없는 타입을 세팅할때 표시\n",
    "- 존재하지 않음\n",
    "- 정의되지 않음\n",
    "- 값이 없음\n",
    "- 초기값.\n"
   ]
  },
  {
   "cell_type": "code",
   "execution_count": null,
   "metadata": {
    "collapsed": true
   },
   "outputs": [],
   "source": [
    "built-in method"
   ]
  },
  {
   "cell_type": "code",
   "execution_count": 88,
   "metadata": {
    "collapsed": false
   },
   "outputs": [
    {
     "data": {
      "text/plain": [
       "2"
      ]
     },
     "execution_count": 88,
     "metadata": {},
     "output_type": "execute_result"
    }
   ],
   "source": [
    "1+1"
   ]
  },
  {
   "cell_type": "code",
   "execution_count": 89,
   "metadata": {
    "collapsed": false
   },
   "outputs": [
    {
     "data": {
      "text/plain": [
       "2"
      ]
     },
     "execution_count": 89,
     "metadata": {},
     "output_type": "execute_result"
    }
   ],
   "source": [
    "p = 1\n",
    "p.__add__(1)"
   ]
  },
  {
   "cell_type": "code",
   "execution_count": 96,
   "metadata": {
    "collapsed": false
   },
   "outputs": [],
   "source": [
    "# %=\n",
    "a = 3\n",
    "c = 2\n",
    "c %= a\n",
    "c = c % a"
   ]
  },
  {
   "cell_type": "code",
   "execution_count": 97,
   "metadata": {
    "collapsed": true
   },
   "outputs": [],
   "source": [
    "aa = 2\n",
    "bb = 3\n",
    "\n",
    "aa **= bb\n",
    "aa = aa ** bb"
   ]
  },
  {
   "cell_type": "code",
   "execution_count": 99,
   "metadata": {
    "collapsed": false
   },
   "outputs": [
    {
     "data": {
      "text/plain": [
       "5.0"
      ]
     },
     "execution_count": 99,
     "metadata": {},
     "output_type": "execute_result"
    }
   ],
   "source": [
    "10.3234 //2"
   ]
  },
  {
   "cell_type": "code",
   "execution_count": 100,
   "metadata": {
    "collapsed": false
   },
   "outputs": [
    {
     "data": {
      "text/plain": [
       "0.3188787878787879"
      ]
     },
     "execution_count": 100,
     "metadata": {},
     "output_type": "execute_result"
    }
   ],
   "source": [
    "10.523/33"
   ]
  },
  {
   "cell_type": "code",
   "execution_count": 106,
   "metadata": {
    "collapsed": false
   },
   "outputs": [
    {
     "name": "stdout",
     "output_type": "stream",
     "text": [
      "0\n",
      "7\n",
      "7\n"
     ]
    }
   ],
   "source": [
    "a = 3\n",
    "b = 4\n",
    "print((a &b))\n",
    "print((a|b))\n",
    "print(a^b)\n"
   ]
  },
  {
   "cell_type": "code",
   "execution_count": null,
   "metadata": {
    "collapsed": true
   },
   "outputs": [],
   "source": [
    "# Variable\n",
    "# 변수는 객체를 관리하기 위한 \"참조를 관리하는 공간\"\n",
    "# 변수는 객체를 가리킨다.\n",
    "# 변수에 값이 직접 들어가 있는게 아니다. 변수는 객체를 가리킨다. (ref 를 참조)\n"
   ]
  },
  {
   "cell_type": "code",
   "execution_count": null,
   "metadata": {
    "collapsed": true
   },
   "outputs": [],
   "source": [
    "a = 1\n",
    "# a 는 변수지만 변수 정의와 변수 할당이 동시에 일어난다.\n",
    "# 변수에 할당시 타입을 추정해서 동적으로 정해진다.\n",
    "\n",
    "a = \"str\"\n",
    "a = 3.4\n",
    "# 파이썬에서 연속적으로 할당시 변수에 저장된 타입이 변경된다.\n"
   ]
  },
  {
   "cell_type": "markdown",
   "metadata": {},
   "source": [
    "** Value 갱신 기준 **\n",
    "- Immutable (값 객체)\n",
    "\n",
    "    변수에 저장된 것을 값으로 인식하여 변수를 치환가능하지만 변경은 안됨.\n",
    "\n",
    "    문자열은 임의적으로 값객체로 정의\n",
    "    \n",
    "    \n",
    "\n",
    "- Mutable (참조객체)\n",
    "\n",
    "    변수에 저장된 것은 객체의 요소들이 저장된 참조이므로 실제 값들이 변경이 가능하다.\n",
    "\n",
    "    함수 파라미터, 할당을 할 경우 참조만 넘어가므로 요소들이 변경이 가능하다."
   ]
  },
  {
   "cell_type": "code",
   "execution_count": 109,
   "metadata": {
    "collapsed": false
   },
   "outputs": [
    {
     "name": "stdout",
     "output_type": "stream",
     "text": [
      "4297370368\n",
      "{'a': 10}\n",
      "10\n",
      "4297370368\n"
     ]
    }
   ],
   "source": [
    "'''\n",
    " 변경불가능한 숫자 객체는 동일한 참조를 가지지만 변경이 불가능하기 때문에 \n",
    " call by value 처럼 처리가 된다.\n",
    " 숫자 객체가 생성되면 어디서나 동일한 참조를 통해 처리한다.\n",
    "'''\n",
    "# 10이라는 숫자 객체가 생성이 되었고, 그 객체에 대한 참조가 a변수에 생성되었다.\n",
    "a = 10 \n",
    "# 변수에 10이라는 숫자 객체의 참조를 저장했다.\n",
    "print(id(a))\n",
    "\n",
    "def aaaa(a):\n",
    "    aa = locals()\n",
    "    print(aa)\n",
    "    print(aa['a'])\n",
    "    print(id(aa['a']))\n",
    "    \n",
    "aaaa(a) # global a 변수를 aaaa 함수 내의 로컬변수로 할당했다."
   ]
  },
  {
   "cell_type": "markdown",
   "metadata": {},
   "source": [
    "** Object Value Bound / unbound **\n",
    "\n",
    "    명시적으로 Bounding을 처리할 것인지 실행시 \n",
    "\n",
    "    Bounding을 처리할지 명확히 구분되어야 한다.\n",
    "\n",
    "    "
   ]
  },
  {
   "cell_type": "markdown",
   "metadata": {},
   "source": [
    "** 식별자 (Identifier) **\n",
    "\n",
    "    이름 공간에서 별도로 구별할 수 있는 이름의 정의\n",
    "    \n",
    "    대상 : 변수, 함수, 객체, 모듈, 패키지\n",
    "    \n",
    "    파이썬은 이름으로 식별하기 때문에 동일한 이름이 만들어지면 재할당된다.\n",
    "    \n",
    "** 식별자 처리 원칙 **\n",
    "\n",
    "    클래스 이름은 대문자로 시작한다.\n",
    "    \n",
    "    클래스 이름 이외는 소문자로 시작한다.\n",
    "    \n",
    "    하나의 밑줄과 식별자로 시작하면 Private (ex: _test )\n",
    "    \n",
    "    두개의 밑줄과 식별자로 시작하면 강력한(?) Private (ex: __test )\n",
    "    \n",
    "    앞뒤 두개 밑줄이 있는 경우 (ex: __test__) --> ?\n",
    "    \n",
    "    \n",
    "** 문장 구문 **    \n",
    "\n",
    "    ', \", ''' 같은 quotes들을 프로그램 맨 앞에 넣으면\n",
    "    \n",
    "    모듈명.__doc__ 로 검색 가능하다.\n",
    "    \n"
   ]
  },
  {
   "cell_type": "markdown",
   "metadata": {},
   "source": [
    "# Building block\n",
    "- Expression\n",
    "\n",
    "- Function\n",
    "\n",
    "- Object\n",
    "\n",
    "- Variable : point to object\n",
    "\n",
    "- Command\n",
    "\n",
    "** An expression is a combination of values, variables, and operators. **"
   ]
  },
  {
   "cell_type": "markdown",
   "metadata": {},
   "source": [
    "# Variable Scope\n",
    "\n",
    "- 동적 데이터 타입\n",
    "\n",
    "    변수에 값이 할당될 경우, 데이터 타입이 확정된다. \n",
    "\n",
    "    변수는 이름공간 내에서 관리되면 변수는 동적으로 할당이 가능하다.\n",
    "    \n",
    "    변수 검색 기준은\n",
    "    \n",
    "        1. Local\n",
    "        \n",
    "        2. Global\n",
    "        \n",
    "        3. Built-in\n",
    "        \n",
    "    이다."
   ]
  },
  {
   "cell_type": "code",
   "execution_count": 113,
   "metadata": {
    "collapsed": false,
    "scrolled": false
   },
   "outputs": [
    {
     "name": "stdout",
     "output_type": "stream",
     "text": [
      "{'y': 3, 'x': 2}\n"
     ]
    }
   ],
   "source": [
    "def add_two(x,y):\n",
    "    print(locals())\n",
    "# globals()\n",
    "add_two(2,3)"
   ]
  },
  {
   "cell_type": "markdown",
   "metadata": {},
   "source": [
    "Variable bounding / unbounding \n",
    "\n",
    "변수가 객체와 연결이 되어 있느냐/ 안되어 있느냐\n"
   ]
  },
  {
   "cell_type": "markdown",
   "metadata": {},
   "source": [
    "============\n",
    "파이썬은 모듈, 패키지, 프로젝트 등의 단위로 작업공간을 두고\n",
    "\n",
    "**name을 기준으로 식별한다.**\n",
    "\n",
    "- 프로젝트\n",
    "\n",
    "- 패키지\n",
    "\n",
    "- 모듈\n",
    "\n",
    "- 함수\n",
    "\n",
    "- 클래스 / 인스턴스 객체\n",
    "\n",
    "    클래스 객체는 클래스 멤버들에 대해 관리할 경우에만 이름 공간 역할을 수행한다.\n"
   ]
  },
  {
   "cell_type": "markdown",
   "metadata": {
    "collapsed": true
   },
   "source": [
    "** With Statement **\n",
    "\n",
    "파이썬에서 with 문은 파일, 락 등 오픈하면 닫아야 하는 것을 자동으로 처리하는 환경을 만들어 준다.\n"
   ]
  },
  {
   "cell_type": "code",
   "execution_count": 114,
   "metadata": {
    "collapsed": true
   },
   "outputs": [],
   "source": [
    "f= open(\"foo.txt\",\"w\")\n",
    "f.write(\"Life is too short.\")\n",
    "f.close()"
   ]
  },
  {
   "cell_type": "code",
   "execution_count": 115,
   "metadata": {
    "collapsed": true
   },
   "outputs": [],
   "source": [
    "with open(\"foo.txt\", \"w\") as f:\n",
    "    f.write(\"You need python.\")"
   ]
  },
  {
   "cell_type": "markdown",
   "metadata": {
    "collapsed": true
   },
   "source": [
    "** Break statement **\n",
    "\n",
    "기존 control flow를 강제로 빠져나갈 경우에 필요하다.\n",
    "\n",
    "** Continue Statement **\n",
    "\n",
    "기존 control flow를 처리시에 조건이 맞을 경우 처음으로 돌아가서 계속 실행할 수 있도록 처리한다."
   ]
  },
  {
   "cell_type": "code",
   "execution_count": 117,
   "metadata": {
    "collapsed": false
   },
   "outputs": [
    {
     "name": "stdout",
     "output_type": "stream",
     "text": [
      "1\n",
      "3\n",
      "4\n",
      "5\n"
     ]
    }
   ],
   "source": [
    "for i in [1,2,3,4,5]:\n",
    "    if i==2:\n",
    "        continue\n",
    "    print(i)"
   ]
  },
  {
   "cell_type": "markdown",
   "metadata": {
    "collapsed": true
   },
   "source": [
    "** Pass Statement **\n",
    "\n",
    "처리가 필요없는 블록이 필요할 경우 pass문을 사용하여 처리하지 않는다. \n",
    "\n",
    "continue 문장과의 차이점은 pass문은 혈재 실행이 없다는 것을 의미한다."
   ]
  },
  {
   "cell_type": "code",
   "execution_count": 118,
   "metadata": {
    "collapsed": false
   },
   "outputs": [
    {
     "name": "stdout",
     "output_type": "stream",
     "text": [
      "1\n",
      "2\n",
      "3\n",
      "4\n",
      "5\n"
     ]
    }
   ],
   "source": [
    "for i in [1,2,3,4,5]:\n",
    "    if i==2:\n",
    "        pass\n",
    "    print(i)"
   ]
  },
  {
   "cell_type": "markdown",
   "metadata": {},
   "source": [
    "- for / while 문 등 반드시 처리가 필요한 경우 else문을 이용하여 처리한다."
   ]
  },
  {
   "cell_type": "markdown",
   "metadata": {},
   "source": [
    "** Raising Exception **\n",
    "\n",
    "- 강제로 exception을 발생시킬 경우 raise문으로 exception을 일으킨다."
   ]
  },
  {
   "cell_type": "code",
   "execution_count": 120,
   "metadata": {
    "collapsed": false
   },
   "outputs": [
    {
     "ename": "ValueError",
     "evalue": "-30 is not a valid age",
     "output_type": "error",
     "traceback": [
      "\u001b[0;31m---------------------------------------------------------------------------\u001b[0m",
      "\u001b[0;31mValueError\u001b[0m                                Traceback (most recent call last)",
      "\u001b[0;32m<ipython-input-120-aeddaeec9e78>\u001b[0m in \u001b[0;36m<module>\u001b[0;34m()\u001b[0m\n\u001b[1;32m      6\u001b[0m     \u001b[0;32mreturn\u001b[0m \u001b[0mage\u001b[0m\u001b[0;34m\u001b[0m\u001b[0m\n\u001b[1;32m      7\u001b[0m \u001b[0;34m\u001b[0m\u001b[0m\n\u001b[0;32m----> 8\u001b[0;31m \u001b[0mget_age\u001b[0m\u001b[0;34m(\u001b[0m\u001b[0;34m-\u001b[0m\u001b[0;36m30\u001b[0m\u001b[0;34m)\u001b[0m\u001b[0;34m\u001b[0m\u001b[0m\n\u001b[0m",
      "\u001b[0;32m<ipython-input-120-aeddaeec9e78>\u001b[0m in \u001b[0;36mget_age\u001b[0;34m(i_age)\u001b[0m\n\u001b[1;32m      3\u001b[0m     \u001b[0;32mif\u001b[0m \u001b[0mage\u001b[0m \u001b[0;34m<\u001b[0m \u001b[0;36m0\u001b[0m\u001b[0;34m:\u001b[0m\u001b[0;34m\u001b[0m\u001b[0m\n\u001b[1;32m      4\u001b[0m         \u001b[0mmy_error\u001b[0m \u001b[0;34m=\u001b[0m \u001b[0mValueError\u001b[0m\u001b[0;34m(\u001b[0m\u001b[0;34m\"{0} is not a valid age\"\u001b[0m\u001b[0;34m.\u001b[0m\u001b[0mformat\u001b[0m\u001b[0;34m(\u001b[0m\u001b[0mage\u001b[0m\u001b[0;34m)\u001b[0m\u001b[0;34m)\u001b[0m\u001b[0;34m\u001b[0m\u001b[0m\n\u001b[0;32m----> 5\u001b[0;31m         \u001b[0;32mraise\u001b[0m \u001b[0mmy_error\u001b[0m\u001b[0;34m\u001b[0m\u001b[0m\n\u001b[0m\u001b[1;32m      6\u001b[0m     \u001b[0;32mreturn\u001b[0m \u001b[0mage\u001b[0m\u001b[0;34m\u001b[0m\u001b[0m\n\u001b[1;32m      7\u001b[0m \u001b[0;34m\u001b[0m\u001b[0m\n",
      "\u001b[0;31mValueError\u001b[0m: -30 is not a valid age"
     ]
    }
   ],
   "source": [
    "def get_age(i_age):\n",
    "    age = int(i_age)\n",
    "    if age < 0:\n",
    "        my_error = ValueError(\"{0} is not a valid age\".format(age))\n",
    "        raise my_error\n",
    "    return age\n",
    "\n",
    "get_age(-30)"
   ]
  },
  {
   "cell_type": "markdown",
   "metadata": {},
   "source": [
    "** Try Exception 처리 **\n",
    "\n",
    "- 파이썬에서 예외가 발생할 경우를 처리하고 추가적으로 실행시킬 것이 있는 경우 else/finally 로 처리한다."
   ]
  },
  {
   "cell_type": "code",
   "execution_count": 122,
   "metadata": {
    "collapsed": false
   },
   "outputs": [
    {
     "ename": "UnsupportedOperation",
     "evalue": "not readable",
     "output_type": "error",
     "traceback": [
      "\u001b[0;31m---------------------------------------------------------------------------\u001b[0m",
      "\u001b[0;31mUnsupportedOperation\u001b[0m                      Traceback (most recent call last)",
      "\u001b[0;32m<ipython-input-122-e95b437eac62>\u001b[0m in \u001b[0;36m<module>\u001b[0;34m()\u001b[0m\n\u001b[1;32m      4\u001b[0m     \u001b[0mprint\u001b[0m\u001b[0;34m(\u001b[0m\u001b[0mstr\u001b[0m\u001b[0;34m(\u001b[0m\u001b[0me\u001b[0m\u001b[0;34m)\u001b[0m\u001b[0;34m)\u001b[0m\u001b[0;34m\u001b[0m\u001b[0m\n\u001b[1;32m      5\u001b[0m \u001b[0;32melse\u001b[0m\u001b[0;34m:\u001b[0m\u001b[0;34m\u001b[0m\u001b[0m\n\u001b[0;32m----> 6\u001b[0;31m     \u001b[0mdata\u001b[0m \u001b[0;34m=\u001b[0m \u001b[0mf\u001b[0m\u001b[0;34m.\u001b[0m\u001b[0mread\u001b[0m\u001b[0;34m(\u001b[0m\u001b[0;34m)\u001b[0m\u001b[0;34m\u001b[0m\u001b[0m\n\u001b[0m\u001b[1;32m      7\u001b[0m     \u001b[0mf\u001b[0m\u001b[0;34m.\u001b[0m\u001b[0mclose\u001b[0m\u001b[0;34m(\u001b[0m\u001b[0;34m)\u001b[0m\u001b[0;34m\u001b[0m\u001b[0m\n",
      "\u001b[0;31mUnsupportedOperation\u001b[0m: not readable"
     ]
    }
   ],
   "source": [
    "# 예외가 발생하지 않을 경우만 처리한다.\n",
    "try:\n",
    "    f = open(\"foo.txt\",\"w\")\n",
    "except FileNotFoundError as e:\n",
    "    print(str(e))\n",
    "else:\n",
    "    data = f.read()\n",
    "    f.close()"
   ]
  },
  {
   "cell_type": "code",
   "execution_count": 123,
   "metadata": {
    "collapsed": false
   },
   "outputs": [
    {
     "name": "stdout",
     "output_type": "stream",
     "text": [
      "file opened!\n"
     ]
    }
   ],
   "source": [
    "# 예외 여부 상관없이 처리\n",
    "f = open(\"foo.txt\",\"w\")\n",
    "try:\n",
    "    print(\"file opened!\")\n",
    "finally:\n",
    "    f.close()"
   ]
  },
  {
   "cell_type": "markdown",
   "metadata": {},
   "source": [
    "# Module\n",
    "\n",
    "** 파이썬에서 모듈이란, 함수나 변수, 클래스들을 모아놓은 파일을 뜻한다. **\n",
    "\n",
    "- 모듈은 하나의 객체이다.\n",
    "- 모듈은 하나의 이름공간을 구성한다.\n",
    "- 고유 이름 공간을 구성해서 내부 속성에 대한 처리 방안을 제시한다.\n",
    "- 모듈 내 속성에 대한 접근은 점(.) 연산자를 통해서 접근한다."
   ]
  },
  {
   "cell_type": "code",
   "execution_count": 128,
   "metadata": {
    "collapsed": false
   },
   "outputs": [
    {
     "name": "stdout",
     "output_type": "stream",
     "text": [
      "<function apple at 0x103ef4c80>\n",
      "3333\n"
     ]
    }
   ],
   "source": [
    "# 모듈 namespace 검색하기\n",
    "# Namespace : 모듈명.__dict__\n",
    "# 모듈 내 속성 가지고 오기 : 모듈명.__dict__.get(\"속성명\")\n",
    "# 현재 이 ipython notebook이 속한 파일의 같은 디렉토리에 sample-module.py 라는 파일이 정의되어 있다.\n",
    "import sample_module\n",
    "print(sample_module.__dict__.get(\"apple\"))\n",
    "print(sample_module.__dict__.get(\"sugar\"))"
   ]
  },
  {
   "cell_type": "markdown",
   "metadata": {},
   "source": [
    "** 모듈 호출 - command line에서 실행 시. **\n",
    "- 직접 모듈 호출할 경우 __name__의 값이 모듈명이 아닌 __main__으로 처리\n",
    "- 실제 모듈에서 호출된 것과 import되어 활용하는 부분을 별도로 구현이 가능하다.\n"
   ]
  },
  {
   "cell_type": "code",
   "execution_count": 129,
   "metadata": {
    "collapsed": false
   },
   "outputs": [
    {
     "name": "stdout",
     "output_type": "stream",
     "text": [
      "inside main\n"
     ]
    }
   ],
   "source": [
    "if __name__ == \"__main__\": # 직접 모듈 호출 시 실행되는 영역이다. \n",
    "    print(\"inside main\")\n",
    "else:\n",
    "    print(\"import 시 실행되는 영역\")"
   ]
  },
  {
   "cell_type": "markdown",
   "metadata": {},
   "source": [
    "# 패키지\n",
    "\n",
    "** 패키지(Packages)는 . 를 이용하여 파이썬 모듈을 계층적으로 관리한다. **\n"
   ]
  },
  {
   "cell_type": "code",
   "execution_count": 149,
   "metadata": {
    "collapsed": false
   },
   "outputs": [],
   "source": [
    "# 절대경로로 가지고 오기.\n",
    "# 패키지.모듈\n",
    "import flask.app\n",
    "\n",
    "# 패키지에서 모듇ㄹ 가지고 오기\n",
    "from flask.app import AppContext\n",
    "\n",
    "'''\n",
    "    flask/\n",
    "        __init__.py   # 패키지에 반드시 생성해야 한다. \n",
    "        _compat.py \n",
    "        ...\n",
    "        ext/__init__.py\n",
    "'''"
   ]
  },
  {
   "cell_type": "markdown",
   "metadata": {},
   "source": [
    "** 모듈 : python path 등록 **\n",
    "\n",
    "모듈에 대한 검색에서 오류가 발생할 경우 python path에 현재 디렉토리의 위치를 추가해야 한다.\n",
    "\n",
    "- Window\n",
    "    \n",
    "    set PYTHONPATH=c:\\python20\\lib\n",
    "    \n",
    "    \n",
    "        \n",
    "- Mac OS X\n",
    "    \n",
    "    bash_profile에 다음 코드를 추가해준다.\n",
    "    \n",
    "    export PATH=$PATH:/Library/Frameworks/Python.framework/Versions/3.4/bin\n",
    "    \n",
    "    \n",
    "** IDE 에서 path 등록 **\n",
    "\n",
    "    실제로 다양한 패키지를 사용할 경우 각각의 패키지를 등록해줘야 한다.\n"
   ]
  },
  {
   "cell_type": "code",
   "execution_count": 152,
   "metadata": {
    "collapsed": false
   },
   "outputs": [
    {
     "name": "stdout",
     "output_type": "stream",
     "text": [
      "['', '/Library/Frameworks/Python.framework/Versions/3.4/lib/python3.4/site-packages/facebook_sdk-1.0.0_alpha-py3.4.egg', '/Library/Frameworks/Python.framework/Versions/3.4/lib/python3.4/site-packages/requests-2.4.3-py3.4.egg', '/Library/Frameworks/Python.framework/Versions/3.4/lib/python3.4/site-packages/networkx-2.0.dev_20150807160742-py3.4.egg', '/Library/Frameworks/Python.framework/Versions/3.4/lib/python3.4/site-packages/decorator-4.0.2-py3.4.egg', '/Library/Frameworks/Python.framework/Versions/3.4/lib/python34.zip', '/Library/Frameworks/Python.framework/Versions/3.4/lib/python3.4', '/Library/Frameworks/Python.framework/Versions/3.4/lib/python3.4/plat-darwin', '/Library/Frameworks/Python.framework/Versions/3.4/lib/python3.4/lib-dynload', '/Library/Frameworks/Python.framework/Versions/3.4/lib/python3.4/site-packages', '/Library/Frameworks/Python.framework/Versions/3.4/lib/python3.4/site-packages/IPython/extensions', '/Users/changsuyouk/.ipython', '.test', '.test']\n"
     ]
    }
   ],
   "source": [
    "import sys\n",
    "sys.path\n",
    "\n",
    "# 현재 작성된 모듈의 위치 등록\n",
    "sys.path.append(\".test\")\n",
    "\n",
    "# 출력 결과 모듈이 system path에 등록되었음을 알 수 있다.\n",
    "print(sys.path)"
   ]
  },
  {
   "cell_type": "markdown",
   "metadata": {},
   "source": [
    "# 함수\n",
    "\n",
    "** 함수의 정의 **\n",
    "\n",
    "    def function_name(parameter):\n",
    "        '''\n",
    "            statement block\n",
    "            internal logic\n",
    "        '''\n",
    "\n",
    "\n",
    "** 함수의 실행 **\n",
    "\n",
    "    function_name(parameter)\n",
    "    \n",
    "    \n",
    "함수명(참조) --> 함수 객체 --> 함수 인자 객체\n",
    "\n",
    "## 함수 - 메모리 생성 규칙\n",
    "\n",
    "- 함수 호출 시 마다 Stack에 함수 영역을 구성하고 실행된다.\n",
    "- 함수를 재귀호출할 경우 각 호출된 함수 별로 stack 영역을 구성하고 처리한다.\n",
    "\n"
   ]
  },
  {
   "cell_type": "code",
   "execution_count": 165,
   "metadata": {
    "collapsed": false
   },
   "outputs": [
    {
     "name": "stdout",
     "output_type": "stream",
     "text": [
      "function lists :  [<function f at 0x104310f28>, <function f at 0x104310d08>, <function f at 0x104310e18>, <function f at 0x104310ea0>]\n",
      "1\n",
      "0x104310f28 None\n",
      "2\n",
      "0x104310d08 None\n",
      "3\n",
      "0x104310e18 None\n",
      "4\n",
      "0x104310ea0 None\n"
     ]
    }
   ],
   "source": [
    "funcs = []\n",
    "for i in range(4):\n",
    "    def f():\n",
    "        print(i) # i 값에 대한 참조를 함수 내부 local에서 없을 시 상위 local을 참조한다. \n",
    "        \n",
    "    funcs.append(f)\n",
    "    \n",
    "print(\"function lists : \", funcs)\n",
    "\n",
    "i = 0\n",
    "for f in funcs:\n",
    "    i += 1\n",
    "    print(hex(id(f)), f()) # id함수는 hex로 된 주소값을 decimal로 변환시켜 준다.\n",
    "    \n",
    "    "
   ]
  },
  {
   "cell_type": "markdown",
   "metadata": {},
   "source": [
    "## 함수 변수 Scoping\n",
    "\n",
    "- 함수를 실행하면 함수 내의 변수에 대한 검색을 처리\n",
    "- 검색 순은 Local > global > Built-in 순으로 호출한다.\n",
    "\n",
    "\n",
    "============= 함수 Name Space =========>>>\n",
    "\n",
    "** [Built-in] --  [global] -- [local] -- [함수 내부 local] **\n",
    "\n",
    "<<<============== 함수 Scope    ============\n",
    "\n",
    "\n",
    "## 함수 - Name space\n",
    "- 함수의 인자를 함수 이름공간으로 관리\n",
    "- 하나의 dictionary로 관리\n",
    "- 함수 인자는 이름공간에 하나의 키/값 체계로 관리\n",
    "- 함수의 인자나 함수내의 로컬 변수는 동일한 이름공간에서 관리한다.\n",
    "- locals() 함수로 함수 내의 이름공간을 확인할 수 있음."
   ]
  },
  {
   "cell_type": "code",
   "execution_count": 173,
   "metadata": {
    "collapsed": false,
    "scrolled": false
   },
   "outputs": [
    {
     "name": "stdout",
     "output_type": "stream",
     "text": [
      "{'p': 'local variable', 'y': 2, 'x': 1}\n",
      "1\n"
     ]
    },
    {
     "data": {
      "text/plain": [
       "-1"
      ]
     },
     "execution_count": 173,
     "metadata": {},
     "output_type": "execute_result"
    }
   ],
   "source": [
    "def subtract(x,y):\n",
    "    p = \"local variable\"\n",
    "    print(locals())\n",
    "    print(locals()[\"x\"])\n",
    "    return x-y\n",
    "subtract(1,2)\n",
    "\n",
    "#print(subtract.__globals__) # 함수 외부 환경에 대한 변수들을 관리하는 이름 공간"
   ]
  },
  {
   "cell_type": "markdown",
   "metadata": {},
   "source": [
    "## 함수 결과 처리 (return / yield)\n",
    "\n",
    "** 함수는 처리 결과를 무조건 처리한다.**\n",
    "- return이 없는 경우는 None으로 결과를 처리한다.\n",
    "\n",
    "- 함수 결과는 하나의 결과만 전달\n",
    "\n",
    "    여러 개를 전달할 경우 Tuple로 묶어서 하나로 처리한다.\n",
    "\n",
    "\n",
    "- return을 yield로 대체할 경우 Generator가 발생한다.\n",
    "\n",
    "    함수가 메모리에 있다가 재호출(next()) 하면 결과값을 처리한다.\n",
    "   \n",
    "   \n",
    "   \n",
    "## 함수 - Namespace : 인자 관리\n",
    "\n",
    "    ** 파이썬은 함수 인자와 함수 내의 로컬 변수를 동일하게 관리한다. **\n",
    "\n",
    "    ** 즉, 함수 인자와 함수 내의 로컬변수명이 같은 경우 동일한 것으로 처리한다. **\n",
    "\n",
    "\n",
    "    "
   ]
  },
  {
   "cell_type": "code",
   "execution_count": 3,
   "metadata": {
    "collapsed": false
   },
   "outputs": [],
   "source": [
    "def add(x,y):\n",
    "    print(locals())  # add 함수 내에 로컬 영역에 인자를 관리하는 사전 {\"x\":None, \"y\":None} 이 생긴다. \n",
    "    return x+y\n"
   ]
  },
  {
   "cell_type": "markdown",
   "metadata": {
    "collapsed": true
   },
   "source": [
    "## 함수 인자 - mutable / immutable\n",
    "\n",
    "- 함수가 실행시 함수 실행을 위한 프레임 하나를 가지고 실행\n",
    "\n",
    "- 반복적으로 함수를 호출 시, 인자의 값이 참조 객체일 경우는 지속적으로 연결.\n",
    "\n"
   ]
  },
  {
   "cell_type": "code",
   "execution_count": 10,
   "metadata": {
    "collapsed": false
   },
   "outputs": [
    {
     "name": "stdout",
     "output_type": "stream",
     "text": [
      "[1]\n",
      "[1, 2]\n",
      "[1, 2, 3]\n"
     ]
    }
   ],
   "source": [
    "# 인자에 참조형을 기본 인자로 사용하면 원하지 않는 결과가 생기므로\n",
    "def f(a,l=[]):\n",
    "    l.append(a)\n",
    "    return l\n",
    "\n",
    "print(f(1))\n",
    "print(f(2))\n",
    "print(f(3))"
   ]
  },
  {
   "cell_type": "code",
   "execution_count": 6,
   "metadata": {
    "collapsed": false
   },
   "outputs": [
    {
     "name": "stdout",
     "output_type": "stream",
     "text": [
      "[1]\n",
      "[2]\n",
      "[3]\n"
     ]
    }
   ],
   "source": [
    "#  None 으로 처리한 후 함수 내부에 참조형을 추가 정의해야 함. \n",
    "def f(a, l=None):\n",
    "    l=[]\n",
    "    l.append(a)\n",
    "    return l\n",
    "\n",
    "print(f(1))\n",
    "print(f(2))\n",
    "print(f(3))"
   ]
  },
  {
   "cell_type": "markdown",
   "metadata": {},
   "source": [
    "### 외부 변수를 함수 변수로 활용\n",
    "- 함수의 인자를 함수 외부와 내부에서 활용하려면 mutable(변경가능)한 객체로 전달하여 처리해야\n",
    "\n",
    "- Return 없이 값이 변경된다.\n",
    "\n",
    "- 함수를 정의\n"
   ]
  },
  {
   "cell_type": "code",
   "execution_count": 15,
   "metadata": {
    "collapsed": false
   },
   "outputs": [
    {
     "name": "stdout",
     "output_type": "stream",
     "text": [
      "[2, 4, 6] [1, 3, 5]\n"
     ]
    }
   ],
   "source": [
    "def swap(a,b):\n",
    "    x = a[:]   #  -> 변수에는 참조만 가지고 있으므로 전체를 카피해야 리스트 원소들이 변경된다. \n",
    "    a[:] = b[:] # -> Mutable인 리스트로 값을 전달하여 swap() 처리\n",
    "    b[:] = x[:] # -> Return 이 없어도 실제 값이 변경된다. \n",
    "    \n",
    "c = [1,3,5]    \n",
    "d = [2,4,6]\n",
    "swap(c,d)\n",
    "print(c,d)"
   ]
  },
  {
   "cell_type": "markdown",
   "metadata": {},
   "source": [
    "## 함수-초기값 / 인자변수에 값 할당\n",
    "- 함수 내의 인자를 별도의 이름공간에 관리하므로 고정인자일 경우에도 이름에 값을 할당 가능하다.\n",
    "\n",
    "## 함수 - 가변인자 - 값(*args)\n",
    "- 함수 인자의 개수가 미정일 경우에 사용"
   ]
  },
  {
   "cell_type": "code",
   "execution_count": 17,
   "metadata": {
    "collapsed": false
   },
   "outputs": [
    {
     "name": "stdout",
     "output_type": "stream",
     "text": [
      "{'arg': (1, 2, 3)}\n"
     ]
    },
    {
     "data": {
      "text/plain": [
       "6"
      ]
     },
     "execution_count": 17,
     "metadata": {},
     "output_type": "execute_result"
    }
   ],
   "source": [
    "def add(*arg):\n",
    "    print(locals())  # add 함수 내의 로컬 영역에 인자를 관리하는 사전이 생김.\n",
    "    x = 0\n",
    "    for y in arg:\n",
    "        x = x+y\n",
    "    return x\n",
    "\n",
    "add(1,2,3)           # add 함수 내의 로컬 영역에 인자에 튜플 값으로 매핑한다. {'arg': (1, 2, 3)}"
   ]
  },
  {
   "cell_type": "code",
   "execution_count": 18,
   "metadata": {
    "collapsed": false
   },
   "outputs": [
    {
     "name": "stdout",
     "output_type": "stream",
     "text": [
      "{'arg': {'x': 1, 'y': 2}}\n"
     ]
    },
    {
     "data": {
      "text/plain": [
       "3"
      ]
     },
     "execution_count": 18,
     "metadata": {},
     "output_type": "execute_result"
    }
   ],
   "source": [
    "def add(**arg):\n",
    "    print(locals())     # add 함수 내의 로컬 영역에 인자를 관리하는 사전이 생긴다.\n",
    "    return arg[\"x\"] + arg[\"y\"]  \n",
    "\n",
    "add(x=1,y=2) # add 함수 내의 로컬 영역에 인자를 관리하는 사전형으로 매핑됨 {'arg':{\"x\":1,\"y\":2}}"
   ]
  },
  {
   "cell_type": "markdown",
   "metadata": {},
   "source": [
    "## 함수 반복 호출\n",
    "\n",
    "- 함수도 호출 방법에 따라 다양한 구현 및 처리가 가능\n",
    "\n",
    "### 연속(재귀) 호출\n",
    "\n",
    "- 함수를 인자값을 바꿔가며 처리가 완료될 때까ㅏ지 연속해서 호출해서 처리\n",
    "\n",
    "### 특징 시점 호출\n",
    "\n",
    "- 함수를 구동시켜 필요한 시점에 호출해서 결과 처리 (iteration, generation)\n",
    "\n",
    "### 부분 호출\n",
    "\n",
    "- 함수를 인자별로 분리해서 호출하면서, 연결해서 결과를 처리"
   ]
  },
  {
   "cell_type": "code",
   "execution_count": 19,
   "metadata": {
    "collapsed": false
   },
   "outputs": [
    {
     "name": "stdout",
     "output_type": "stream",
     "text": [
      "factorial has been called with n = 5\n",
      "factorial has been called with n = 4\n",
      "factorial has been called with n = 3\n",
      "factorial has been called with n = 2\n",
      "factorial has been called with n = 1\n",
      "Intermediate result for  2  factorial  1   2\n",
      "Intermediate result for  3  factorial  2   6\n",
      "Intermediate result for  4  factorial  3   24\n",
      "Intermediate result for  5  factorial  4   120\n",
      "120\n"
     ]
    }
   ],
   "source": [
    "'''\n",
    "    재귀 호출\n",
    "    함수 정의시 함수가 여러 번 호출될 것을 기준으로\n",
    "    로직을 작성해서 동일한 함수를 지속적으로 처리하도록 호출\n",
    "'''\n",
    "def factorial(n):\n",
    "    print(\"factorial has been called with n = \" + str(n))\n",
    "    if n==1:\n",
    "        return 1\n",
    "    else:\n",
    "        result = n * factorial(n-1) # 자신의 함수를 계속 호출하면 stack에 새로운 함수 영역이 생겨서 처리한다.\n",
    "        print(\"Intermediate result for \", n, \" factorial \", n-1, \" \", result)\n",
    "        return result\n",
    "\n",
    "print(factorial(5))"
   ]
  },
  {
   "cell_type": "code",
   "execution_count": 26,
   "metadata": {
    "collapsed": false
   },
   "outputs": [
    {
     "name": "stdout",
     "output_type": "stream",
     "text": [
      "1\n",
      "2\n",
      "3\n",
      "4\n",
      "5\n",
      "6\n",
      "7\n",
      "8\n",
      "9\n",
      "10\n"
     ]
    },
    {
     "ename": "StopIteration",
     "evalue": "",
     "output_type": "error",
     "traceback": [
      "\u001b[0;31m---------------------------------------------------------------------------\u001b[0m",
      "\u001b[0;31mStopIteration\u001b[0m                             Traceback (most recent call last)",
      "\u001b[0;32m<ipython-input-26-57ad44ef0207>\u001b[0m in \u001b[0;36m<module>\u001b[0;34m()\u001b[0m\n\u001b[1;32m     17\u001b[0m \u001b[0mprint\u001b[0m\u001b[0;34m(\u001b[0m\u001b[0mli\u001b[0m\u001b[0;34m.\u001b[0m\u001b[0m__next__\u001b[0m\u001b[0;34m(\u001b[0m\u001b[0;34m)\u001b[0m\u001b[0;34m)\u001b[0m\u001b[0;34m\u001b[0m\u001b[0m\n\u001b[1;32m     18\u001b[0m \u001b[0mprint\u001b[0m\u001b[0;34m(\u001b[0m\u001b[0mli\u001b[0m\u001b[0;34m.\u001b[0m\u001b[0m__next__\u001b[0m\u001b[0;34m(\u001b[0m\u001b[0;34m)\u001b[0m\u001b[0;34m)\u001b[0m \u001b[0;31m# exhausted.\u001b[0m\u001b[0;34m\u001b[0m\u001b[0m\n\u001b[0;32m---> 19\u001b[0;31m \u001b[0mprint\u001b[0m\u001b[0;34m(\u001b[0m\u001b[0mli\u001b[0m\u001b[0;34m.\u001b[0m\u001b[0m__next__\u001b[0m\u001b[0;34m(\u001b[0m\u001b[0;34m)\u001b[0m\u001b[0;34m)\u001b[0m\u001b[0;34m\u001b[0m\u001b[0m\n\u001b[0m",
      "\u001b[0;31mStopIteration\u001b[0m: "
     ]
    }
   ],
   "source": [
    "'''\n",
    "    시점 호출 iteration\n",
    "    sequence 객체 등을 반복해서 사용할 수 있도록 지원하는\n",
    "    객체 처리 방식\n",
    "'''\n",
    "\n",
    "l = [1,2,3,4,5,6,7,8,9,10]\n",
    "li = iter(l)\n",
    "print(li.__next__())\n",
    "print(li.__next__())\n",
    "print(li.__next__())\n",
    "print(li.__next__())\n",
    "print(li.__next__())\n",
    "print(li.__next__())\n",
    "print(li.__next__())\n",
    "print(li.__next__())\n",
    "print(li.__next__())\n",
    "print(li.__next__()) # exhausted.\n",
    "print(li.__next__())"
   ]
  },
  {
   "cell_type": "code",
   "execution_count": 29,
   "metadata": {
    "collapsed": false
   },
   "outputs": [
    {
     "name": "stdout",
     "output_type": "stream",
     "text": [
      "<generator object <genexpr> at 0x103db2048>\n",
      "1\n",
      "2\n",
      "3\n",
      "4\n",
      "5\n",
      "6\n"
     ]
    }
   ],
   "source": [
    "'''\n",
    "    시점 호출 Generation\n",
    "    함수를 호출해도 계속 저장 함수를 호출\n",
    "    처리가 종료되면 exception 발생.\n",
    "'''\n",
    "# Generation Expression\n",
    "v = (i for i in l)\n",
    "print(v)\n",
    "print(v.__next__())\n",
    "print(v.__next__())\n",
    "print(v.__next__())\n",
    "print(v.__next__())\n",
    "print(v.__next__())\n",
    "print(v.__next__())"
   ]
  },
  {
   "cell_type": "code",
   "execution_count": 33,
   "metadata": {
    "collapsed": false
   },
   "outputs": [
    {
     "name": "stdout",
     "output_type": "stream",
     "text": [
      "<generator object returnfunc at 0x103daa8b8>\n",
      "1\n",
      "2\n",
      "3\n",
      "4\n"
     ]
    },
    {
     "ename": "StopIteration",
     "evalue": "",
     "output_type": "error",
     "traceback": [
      "\u001b[0;31m---------------------------------------------------------------------------\u001b[0m",
      "\u001b[0;31mStopIteration\u001b[0m                             Traceback (most recent call last)",
      "\u001b[0;32m<ipython-input-33-e2969d8f36a9>\u001b[0m in \u001b[0;36m<module>\u001b[0;34m()\u001b[0m\n\u001b[1;32m     12\u001b[0m \u001b[0mprint\u001b[0m\u001b[0;34m(\u001b[0m\u001b[0mp\u001b[0m\u001b[0;34m.\u001b[0m\u001b[0m__next__\u001b[0m\u001b[0;34m(\u001b[0m\u001b[0;34m)\u001b[0m\u001b[0;34m)\u001b[0m\u001b[0;34m\u001b[0m\u001b[0m\n\u001b[1;32m     13\u001b[0m \u001b[0mprint\u001b[0m\u001b[0;34m(\u001b[0m\u001b[0mp\u001b[0m\u001b[0;34m.\u001b[0m\u001b[0m__next__\u001b[0m\u001b[0;34m(\u001b[0m\u001b[0;34m)\u001b[0m\u001b[0;34m)\u001b[0m\u001b[0;34m\u001b[0m\u001b[0m\n\u001b[0;32m---> 14\u001b[0;31m \u001b[0mprint\u001b[0m\u001b[0;34m(\u001b[0m\u001b[0mp\u001b[0m\u001b[0;34m.\u001b[0m\u001b[0m__next__\u001b[0m\u001b[0;34m(\u001b[0m\u001b[0;34m)\u001b[0m\u001b[0;34m)\u001b[0m\u001b[0;34m\u001b[0m\u001b[0m\n\u001b[0m",
      "\u001b[0;31mStopIteration\u001b[0m: "
     ]
    }
   ],
   "source": [
    "# Generation Function\n",
    "# 아쉽게도 generator의 length를 계산해주는 method는 없다.\n",
    "def returnfunc(x):\n",
    "    for i in x:\n",
    "        yield i\n",
    "        \n",
    "p = returnfunc([1,2,3,4])\n",
    "\n",
    "print(p)\n",
    "print(p.__next__())\n",
    "print(p.__next__())\n",
    "print(p.__next__())\n",
    "print(p.__next__())\n",
    "print(p.__next__())"
   ]
  },
  {
   "cell_type": "code",
   "execution_count": 32,
   "metadata": {
    "collapsed": false
   },
   "outputs": [
    {
     "name": "stdout",
     "output_type": "stream",
     "text": [
      "<generator object returnfunc at 0x103db2438>\n",
      "1\n",
      "2\n",
      "3\n",
      "4\n"
     ]
    },
    {
     "ename": "StopIteration",
     "evalue": "",
     "output_type": "error",
     "traceback": [
      "\u001b[0;31m---------------------------------------------------------------------------\u001b[0m",
      "\u001b[0;31mStopIteration\u001b[0m                             Traceback (most recent call last)",
      "\u001b[0;32m<ipython-input-32-8f157c80a274>\u001b[0m in \u001b[0;36m<module>\u001b[0;34m()\u001b[0m\n\u001b[1;32m     13\u001b[0m \u001b[0mprint\u001b[0m\u001b[0;34m(\u001b[0m\u001b[0mp\u001b[0m\u001b[0;34m.\u001b[0m\u001b[0m__next__\u001b[0m\u001b[0;34m(\u001b[0m\u001b[0;34m)\u001b[0m\u001b[0;34m)\u001b[0m\u001b[0;34m\u001b[0m\u001b[0m\n\u001b[1;32m     14\u001b[0m \u001b[0mprint\u001b[0m\u001b[0;34m(\u001b[0m\u001b[0mp\u001b[0m\u001b[0;34m.\u001b[0m\u001b[0m__next__\u001b[0m\u001b[0;34m(\u001b[0m\u001b[0;34m)\u001b[0m\u001b[0;34m)\u001b[0m\u001b[0;34m\u001b[0m\u001b[0m\n\u001b[0;32m---> 15\u001b[0;31m \u001b[0mprint\u001b[0m\u001b[0;34m(\u001b[0m\u001b[0mp\u001b[0m\u001b[0;34m.\u001b[0m\u001b[0m__next__\u001b[0m\u001b[0;34m(\u001b[0m\u001b[0;34m)\u001b[0m\u001b[0;34m)\u001b[0m\u001b[0;34m\u001b[0m\u001b[0m\n\u001b[0m",
      "\u001b[0;31mStopIteration\u001b[0m: "
     ]
    }
   ],
   "source": [
    "def returnfunc(x):\n",
    "    try:\n",
    "        for i in x:\n",
    "            yield i\n",
    "    except StopIteration: \n",
    "        pass\n",
    "    \n",
    "p = returnfunc([1,2,3,4])\n",
    "\n",
    "print(p)\n",
    "print(p.__next__())\n",
    "print(p.__next__())\n",
    "print(p.__next__())\n",
    "print(p.__next__())\n",
    "print(p.__next__())    "
   ]
  },
  {
   "cell_type": "code",
   "execution_count": 34,
   "metadata": {
    "collapsed": false
   },
   "outputs": [
    {
     "name": "stdout",
     "output_type": "stream",
     "text": [
      "<generator object returnfunc at 0x103dc6c18>\n",
      "1\n",
      "2\n",
      "3\n",
      "4\n"
     ]
    }
   ],
   "source": [
    "def returnfunc(x):\n",
    "    for i in x:\n",
    "        yield i\n",
    "    \n",
    "p = returnfunc([1,2,3,4])\n",
    "\n",
    "print(p)\n",
    "\n",
    "try:\n",
    "    print(p.__next__())\n",
    "except StopIteration:\n",
    "    pass\n",
    "try:\n",
    "    print(p.__next__())\n",
    "except StopIteration:\n",
    "    pass\n",
    "try:\n",
    "    print(p.__next__())\n",
    "except StopIteration:\n",
    "    pass\n",
    "try:\n",
    "    print(p.__next__())\n",
    "except StopIteration:\n",
    "    pass\n",
    "try:\n",
    "    print(p.__next__())\n",
    "except StopIteration:\n",
    "    pass"
   ]
  },
  {
   "cell_type": "markdown",
   "metadata": {},
   "source": [
    "## 함수 - 시점호출 : Generation-Function(yield)\n",
    "\n",
    "- 함수 return 대신 yield 대체\n",
    "\n",
    "- 함수를 호출( \\__next__( ) ) 해도 계속 저장 함수를 호출\n",
    "\n",
    "- 처리가 종료되면 exception 발생\n",
    "\n",
    "\n",
    "## 함수 - 부분호출 : Curry\n",
    "- 함수의 인자를 점진적으로 증가하면서 처리하는 법\n",
    "\n",
    "- 외부함수에서 내부함수로 처리를 위임해서 점진적으로 실행하도록 처리하는 함수"
   ]
  },
  {
   "cell_type": "code",
   "execution_count": 37,
   "metadata": {
    "collapsed": false
   },
   "outputs": [
    {
     "name": "stdout",
     "output_type": "stream",
     "text": [
      " functio class object  4359877496\n",
      " function instance  4359613840\n",
      " functio class object  4359877496\n",
      "2 3 4 5\n",
      "==============================\n",
      "1 2 3 4 5\n"
     ]
    }
   ],
   "source": [
    "def f(a):\n",
    "    print(\" functio class object \", id(f))\n",
    "    def g(b,c,d,e):\n",
    "        print(b,c,d,e)\n",
    "    return g\n",
    "\n",
    "print(\" function instance \", id(f(1)))\n",
    "f1 = f(1)\n",
    "f1(2,3,4,5)\n",
    "\n",
    "print(\"=\"*30)\n",
    "def f1(a):\n",
    "    def g1(b):\n",
    "        def h1(c,d,e):\n",
    "            print(a,b,c,d,e)\n",
    "        return h1\n",
    "    return g1\n",
    "\n",
    "f1(1)(2)(3,4,5)"
   ]
  },
  {
   "cell_type": "markdown",
   "metadata": {},
   "source": [
    "** 함수 - 부분호출 : partial **\n",
    "- 파이썬에서는 partial 함수를 제공해서 함수를 분할해서 처리한다."
   ]
  },
  {
   "cell_type": "code",
   "execution_count": 38,
   "metadata": {
    "collapsed": false
   },
   "outputs": [
    {
     "name": "stdout",
     "output_type": "stream",
     "text": [
      "functools.partial(<function f2 at 0x103da60d0>, 1, 2, 3)\n",
      "1 2 3 4\n"
     ]
    }
   ],
   "source": [
    "from functools import partial\n",
    "def f2(a,b,c,d):\n",
    "    print(a,b,c,d)\n",
    "    \n",
    "print(partial(f2,1,2,3))\n",
    "g2 = partial(f2,1,2,3)\n",
    "g2(4)"
   ]
  },
  {
   "cell_type": "code",
   "execution_count": 39,
   "metadata": {
    "collapsed": true
   },
   "outputs": [],
   "source": [
    "# 함수를 변수에 할당\n",
    "def swap(a,b):\n",
    "    x = a[:]\n",
    "    a[:] = b[:]\n",
    "    b[:] = x[:]\n",
    "    \n",
    "func_var = swap # 변수는 참조를 저장하므로 함수의 참조도 변수에 저장되고 실해연샂나 ()를 이용해서 처리가 가능하다. "
   ]
  },
  {
   "cell_type": "code",
   "execution_count": 41,
   "metadata": {
    "collapsed": false
   },
   "outputs": [
    {
     "name": "stdout",
     "output_type": "stream",
     "text": [
      "None\n",
      "[2] [1]\n"
     ]
    }
   ],
   "source": [
    "a = [1]\n",
    "b = [2]\n",
    "print(func_var(a,b))\n",
    "print(a,b)"
   ]
  },
  {
   "cell_type": "code",
   "execution_count": 42,
   "metadata": {
    "collapsed": false
   },
   "outputs": [
    {
     "name": "stdout",
     "output_type": "stream",
     "text": [
      "HelloApp\n"
     ]
    }
   ],
   "source": [
    "# 파라미터로 전달 함수를 정의한다.\n",
    "# 함수도 하나의 객체. 데이터 타입이다. 파라미터로 전달이 가능하다.\n",
    "# 외부에 함수를 정의하고 실행함수에 파라미터로 전달 후\n",
    "# 실행 함수 내부에서 실행한다.\n",
    "\n",
    "def greet(name):\n",
    "    return \"Hello\" + name\n",
    "\n",
    "def call_f(func):\n",
    "    other_name = \"App\"\n",
    "    return func(other_name)\n",
    "\n",
    "print(call_f(greet))"
   ]
  },
  {
   "cell_type": "code",
   "execution_count": 43,
   "metadata": {
    "collapsed": false
   },
   "outputs": [
    {
     "name": "stdout",
     "output_type": "stream",
     "text": [
      "hello there\n"
     ]
    }
   ],
   "source": [
    "# 함수 결과값을 함수로 전달한다.\n",
    "def compose_gree_func():\n",
    "    def get_message():\n",
    "        return \"hello there\"\n",
    "    return get_message\n",
    "\n",
    "greet = compose_gree_func()\n",
    "print(greet())"
   ]
  },
  {
   "cell_type": "code",
   "execution_count": 44,
   "metadata": {
    "collapsed": false
   },
   "outputs": [
    {
     "name": "stdout",
     "output_type": "stream",
     "text": [
      "Hello thereDahl!\n"
     ]
    }
   ],
   "source": [
    "# 내 외부 함수에 대한 변수 scope\n",
    "'''\n",
    "    외부함수에 정의된 자유변수를 내부함수에서 활용하여 처리 가능\n",
    "    단, 내부함수에서 갱신할 경우 mutable 타입을 사용해야 한다.\n",
    "'''\n",
    "def compose_gree_f(name):\n",
    "    def get_message():\n",
    "        return \"Hello there\" + name + \"!\"\n",
    "    return get_message\n",
    "\n",
    "greet = compose_gree_f(\"Dahl\")\n",
    "print(greet())"
   ]
  },
  {
   "cell_type": "code",
   "execution_count": 47,
   "metadata": {
    "collapsed": false
   },
   "outputs": [
    {
     "name": "stdout",
     "output_type": "stream",
     "text": [
      "<p>Hello Dahl !!!</p>\n",
      "<p>Hello CS !!!</p>\n"
     ]
    }
   ],
   "source": [
    "# 파라미터 전달 함수 정의\n",
    "def get_text(name):\n",
    "    return \"Hello {0} !!!\".format(name)\n",
    "\n",
    "# 실행 함수 정의\n",
    "def p_decorate(func):\n",
    "    # 내부 함수 정의 및 파라미터 전달 함수 조합    \n",
    "    def func_wrapper(name):\n",
    "        return \"<p>{0}</p>\".format(func(name))\n",
    "    # 함수의 결과값으로 내부 함수 전달\n",
    "    return func_wrapper\n",
    "\n",
    "# 외부 함수 실행하여 변수에 함수 할당\n",
    "my_get_Text = p_decorate(get_text)\n",
    "\n",
    "# 변수에 할당된 내부 함수 실행\n",
    "print(my_get_Text(\"Dahl\"))\n",
    "\n",
    "print(p_decorate(get_text)(\"CS\"))"
   ]
  },
  {
   "cell_type": "markdown",
   "metadata": {},
   "source": [
    "## Function decorator\n",
    "- Decorator 할 함수를 정의하여 기존 함수 처리말고 추가 처리할 부분을 정의\n",
    "- 실제 실행할 함수, 즉 전달함수를 정의\n",
    "- 실행할 함수를 실행하면 decorator 함수까지 연계되어 처리가 된다."
   ]
  },
  {
   "cell_type": "code",
   "execution_count": 63,
   "metadata": {
    "collapsed": false
   },
   "outputs": [],
   "source": [
    "import time\n",
    "\n",
    "# 데코레이터 함수 정의\n",
    "def check_time(func):\n",
    "    def new_f(*arg,**kwargs):\n",
    "        print(\"inside new f \", *arg,**kwargs)\n",
    "        start = time.time()\n",
    "        func(*arg,**kwargs)\n",
    "        end = time.time()\n",
    "        print(end-start)\n",
    "    return new_f\n"
   ]
  },
  {
   "cell_type": "code",
   "execution_count": 64,
   "metadata": {
    "collapsed": false
   },
   "outputs": [],
   "source": [
    "# 전달 함수를 정의\n",
    "@check_time\n",
    "def a_func(max_value):\n",
    "    for i in range(1, max_value + 1):\n",
    "        print(i)\n",
    "        "
   ]
  },
  {
   "cell_type": "code",
   "execution_count": 68,
   "metadata": {
    "collapsed": false
   },
   "outputs": [
    {
     "name": "stdout",
     "output_type": "stream",
     "text": [
      "0x103de7ae8\n",
      "<class 'function'>\n",
      "<function check_time.<locals>.new_f at 0x103de7e18>\n",
      "inside new f  5\n",
      "inside new f  5\n",
      "1\n",
      "2\n",
      "3\n",
      "4\n",
      "5\n",
      "3.1948089599609375e-05\n",
      "5.888938903808594e-05\n"
     ]
    }
   ],
   "source": [
    "v = check_time(a_func)\n",
    "print(\"address of a_func\", hex(id(a_func)))\n",
    "print(\"type of  v\", type(v))\n",
    "print(\"v : \", v)\n",
    "v(5)"
   ]
  },
  {
   "cell_type": "code",
   "execution_count": 59,
   "metadata": {
    "collapsed": false
   },
   "outputs": [
    {
     "name": "stdout",
     "output_type": "stream",
     "text": [
      "func\n"
     ]
    },
    {
     "ename": "TypeError",
     "evalue": "'str' object is not callable",
     "output_type": "error",
     "traceback": [
      "\u001b[0;31m---------------------------------------------------------------------------\u001b[0m",
      "\u001b[0;31mTypeError\u001b[0m                                 Traceback (most recent call last)",
      "\u001b[0;32m<ipython-input-59-c4608b426c0c>\u001b[0m in \u001b[0;36m<module>\u001b[0;34m()\u001b[0m\n\u001b[1;32m      7\u001b[0m     \u001b[0mprint\u001b[0m\u001b[0;34m(\u001b[0m\u001b[0;34m\"func\"\u001b[0m\u001b[0;34m)\u001b[0m\u001b[0;34m\u001b[0m\u001b[0m\n\u001b[1;32m      8\u001b[0m \u001b[0;34m\u001b[0m\u001b[0m\n\u001b[0;32m----> 9\u001b[0;31m \u001b[0mfunc\u001b[0m\u001b[0;34m(\u001b[0m\u001b[0;34m)\u001b[0m\u001b[0;34m\u001b[0m\u001b[0m\n\u001b[0m",
      "\u001b[0;31mTypeError\u001b[0m: 'str' object is not callable"
     ]
    }
   ],
   "source": [
    "def test(func):\n",
    "    return \"test\"\n",
    "\n",
    "@test\n",
    "def func():\n",
    "    print(\"func\")\n",
    "    \n",
    "func()"
   ]
  },
  {
   "cell_type": "code",
   "execution_count": null,
   "metadata": {
    "collapsed": true
   },
   "outputs": [],
   "source": []
  },
  {
   "cell_type": "code",
   "execution_count": null,
   "metadata": {
    "collapsed": true
   },
   "outputs": [],
   "source": []
  },
  {
   "cell_type": "code",
   "execution_count": null,
   "metadata": {
    "collapsed": true
   },
   "outputs": [],
   "source": []
  },
  {
   "cell_type": "code",
   "execution_count": null,
   "metadata": {
    "collapsed": true
   },
   "outputs": [],
   "source": []
  },
  {
   "cell_type": "code",
   "execution_count": null,
   "metadata": {
    "collapsed": true
   },
   "outputs": [],
   "source": []
  },
  {
   "cell_type": "code",
   "execution_count": null,
   "metadata": {
    "collapsed": true
   },
   "outputs": [],
   "source": []
  },
  {
   "cell_type": "code",
   "execution_count": null,
   "metadata": {
    "collapsed": true
   },
   "outputs": [],
   "source": []
  },
  {
   "cell_type": "code",
   "execution_count": null,
   "metadata": {
    "collapsed": true
   },
   "outputs": [],
   "source": []
  }
 ],
 "metadata": {
  "kernelspec": {
   "display_name": "Python 3",
   "language": "python",
   "name": "python3"
  },
  "language_info": {
   "codemirror_mode": {
    "name": "ipython",
    "version": 3
   },
   "file_extension": ".py",
   "mimetype": "text/x-python",
   "name": "python",
   "nbconvert_exporter": "python",
   "pygments_lexer": "ipython3",
   "version": "3.4.1"
  }
 },
 "nbformat": 4,
 "nbformat_minor": 0
}
