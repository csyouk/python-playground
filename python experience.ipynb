{
 "metadata": {
  "name": "",
  "signature": "sha256:f0fa52654c23982c4674d1c46684912dcb258beccdb5a95d4ddc5374eea43ad8"
 },
 "nbformat": 3,
 "nbformat_minor": 0,
 "worksheets": [
  {
   "cells": [
    {
     "cell_type": "code",
     "collapsed": false,
     "input": [
      "# coding:utf-8\n",
      "\n",
      "class A:\n",
      "    def __init__(self):\n",
      "        print(\"A \ud074\ub798\uc2a4\uc758 \uc0dd\uc131\uc790 \ud638\ucd9c!\")\n",
      "        \n",
      "class B(A):\n",
      "    def __init__(self):\n",
      "        print(\"B \ud074\ub798\uc2a4\uc758 \uc0dd\uc131\uc790 \ud638\ucd9c!\")\n",
      "        super().__init__()\n",
      "        \n",
      "class C(A):\n",
      "    def __init__(self):\n",
      "        print(\"C \ud074\ub798\uc2a4\uc758 \uc0dd\uc131\uc790 \ud638\ucd9c!\")\n",
      "        super().__init__()\n",
      "        \n",
      "class D(B, C):\n",
      "    def __init__(self):\n",
      "        print(\"D \ud074\ub798\uc2a4\uc758 \uc0dd\uc131\uc790 \ud638\ucd9c!\")\n",
      "        super().__init__()"
     ],
     "language": "python",
     "metadata": {},
     "outputs": [],
     "prompt_number": 30
    },
    {
     "cell_type": "code",
     "collapsed": false,
     "input": [
      "classD = D()\n",
      "#### super \ud568\uc218\ub294 \ubd80\ubaa8\ud074\ub798\uc2a4\uc758 \uac1d\uccb4\ub97c \ubc18\ud658\ud558\ub294 \uae30\ub2a5\uc774 \uc788\ub2e4.\n",
      "## D\ud074\ub798\uc2a4 \uc548\uc5d0 \uc788\ub294 \uc0dd\uc131\uc790\ub97c \ud638\ucd9c\ud558\uba74\uc11c \ud504\ub9b0\ud2b8 \ubb38\uc774 \ucc0d\ud78c\ub2e4.\n",
      "# D\ud074\ub798\uc2a4\ub97c \uc0c1\uc18d\ud558\ub294 \uc778\uc790 (B, C) \uc911\uc5d0\uc11c B\ud074\ub798\uc2a4\uac00 \uba3c\uc800 \ud638\ucd9c\ub41c\ub2e4.\n",
      "## B\ud074\ub798\uc2a4 \uc548\uc5d0 \uc788\ub294 \ud504\ub9b0\ud2b8 \ubb38\uc774 \ucc0d\ud78c\ub2e4. \n",
      "# B\ud074\ub798\uc2a4\ub97c "
     ],
     "language": "python",
     "metadata": {},
     "outputs": [
      {
       "output_type": "stream",
       "stream": "stdout",
       "text": [
        "D \ud074\ub798\uc2a4\uc758 \uc0dd\uc131\uc790 \ud638\ucd9c!\n",
        "C \ud074\ub798\uc2a4\uc758 \uc0dd\uc131\uc790 \ud638\ucd9c!\n",
        "B \ud074\ub798\uc2a4\uc758 \uc0dd\uc131\uc790 \ud638\ucd9c!\n",
        "A \ud074\ub798\uc2a4\uc758 \uc0dd\uc131\uc790 \ud638\ucd9c!\n"
       ]
      }
     ],
     "prompt_number": 31
    },
    {
     "cell_type": "code",
     "collapsed": false,
     "input": [
      "# coding:utf-8\n",
      "\n",
      "class A:\n",
      "    def __init__(self):\n",
      "        print(\"A \ud074\ub798\uc2a4\uc758 \uc0dd\uc131\uc790 \ud638\ucd9c!\")\n",
      "        \n",
      "class B(A):\n",
      "    def __init__(self):\n",
      "        A.__init__(self)\n",
      "        print(\"B \ud074\ub798\uc2a4\uc758 \uc0dd\uc131\uc790 \ud638\ucd9c!\")\n",
      "        \n",
      "class C(A):\n",
      "    def __init__(self):\n",
      "        A.__init__(self)\n",
      "        print(\"C \ud074\ub798\uc2a4\uc758 \uc0dd\uc131\uc790 \ud638\ucd9c!\")\n",
      "        \n",
      "class D(B, C):\n",
      "    def __init__(self):\n",
      "        B.__init__(self)\n",
      "        C.__init__(self)\n",
      "        print(\"D \ud074\ub798\uc2a4\uc758 \uc0dd\uc131\uc790 \ud638\ucd9c!\")\n"
     ],
     "language": "python",
     "metadata": {},
     "outputs": [],
     "prompt_number": 14
    },
    {
     "cell_type": "code",
     "collapsed": false,
     "input": [
      "resultD = D()\n",
      "# D\uc5d0 \ub300\ud55c \ud074\ub798\uc2a4\ub97c \ud638\ucd9c\ud558\ub294 \uc21c\uac04\n",
      "# B\ud074\ub798\uc2a4\uc758 \uc0dd\uc131\uc790\ub97c \ud638\ucd9c\ud55c\ub2e4.\n",
      "# B\ud074\ub798\uc2a4 \uc548\uc5d0 \uc788\ub294 A\ud074\ub798\uc2a4\uc5d0 \ub300\ud55c \uc0dd\uc131\uc790\ub97c \ud638\ucd9c\ud55c\ub2e4.\n",
      "## A\ud074\ub798\uc2a4\uc758 \uc0dd\uc131\uc790 \uc548\uc5d0 \uc788\ub294 \ud504\ub9b0\ud2b8\ubb38\uc744 \ucd9c\ub825\ud55c\ub2e4.\n",
      "## B\ud074\ub798\uc2a4 \uc0dd\uc131\uc790 \uc548\uc5d0 \uc788\ub294 \ud504\ub9b0\ud2b8\ubb38\uc744 \ucd9c\ub825\ud55c\ub2e4.\n",
      "# -----\uc5ec\uae30\uae4c\uc9c0\uac00 D\ud074\ub798\uc2a4 \uc548\uc5d0 \uc788\ub294 \uc0dd\uc131\uc790 \ud568\uc218\uc911 B.__init__(self)\ub97c \ud638\ucd9c\ud55c \uacfc\uc815\uc774\ub2e4.\n",
      "# C\ud074\ub798\uc2a4\uc758 \uc0dd\uc131\uc790 \ud568\uc218\ub97c \ud638\ucd9c\ud55c\ub2e4.\n",
      "# C\ud074\ub798\uc2a4\uc758 \uc0dd\uc131\uc790\uc5d0 \uc18d\ud574\uc788\ub294 A\ud074\ub798\uc2a4\uc5d0 \ub300\ud55c \uc0dd\uc131\uc790\ub97c \ud638\ucd9c\ud55c\ub2e4.\n",
      "## A\ud074\ub798\uc2a4 \uc0dd\uc131\uc790 \uc548\uc5d0 \uc788\ub294 \ud504\ub9b0\ud2b8\ubb38\uc744 \ucd9c\ub825\ud55c\ub2e4.\n",
      "## C\ud074\ub798\uc2a4 \uc0dd\uc131\uc790 \uc548\uc5d0 \uc788\ub294 \ud504\ub9b0\ud2b8 \ubb38\uc744 \ucd9c\ub825\ud55c\ub2e4.\n",
      "## D\ud074\ub798\uc2a4 \uc0dd\uc131\uc790 \uc548\uc5d0 \uc788\ub294 \ud504\ub9b0\ud2b8 \ubb38\uc744 \ucd9c\ub825\ud55c\ub2e4."
     ],
     "language": "python",
     "metadata": {},
     "outputs": [
      {
       "output_type": "stream",
       "stream": "stdout",
       "text": [
        "A \ud074\ub798\uc2a4\uc758 \uc0dd\uc131\uc790 \ud638\ucd9c!\n",
        "B \ud074\ub798\uc2a4\uc758 \uc0dd\uc131\uc790 \ud638\ucd9c!\n",
        "A \ud074\ub798\uc2a4\uc758 \uc0dd\uc131\uc790 \ud638\ucd9c!\n",
        "C \ud074\ub798\uc2a4\uc758 \uc0dd\uc131\uc790 \ud638\ucd9c!\n",
        "D \ud074\ub798\uc2a4\uc758 \uc0dd\uc131\uc790 \ud638\ucd9c!\n"
       ]
      }
     ],
     "prompt_number": 15
    },
    {
     "cell_type": "code",
     "collapsed": false,
     "input": [
      "import sys"
     ],
     "language": "python",
     "metadata": {},
     "outputs": [],
     "prompt_number": 2
    },
    {
     "cell_type": "code",
     "collapsed": false,
     "input": [],
     "language": "python",
     "metadata": {},
     "outputs": [
      {
       "output_type": "stream",
       "stream": "stdout",
       "text": [
        "['__displayhook__', '__doc__', '__egginsert', '__excepthook__', '__interactivehook__', '__loader__', '__name__', '__package__', '__plen', '__spec__', '__stderr__', '__stdin__', '__stdout__', '_clear_type_cache', '_current_frames', '_debugmallocstats', '_getframe', '_home', '_mercurial', '_xoptions', 'abiflags', 'api_version', 'argv', 'base_exec_prefix', 'base_prefix', 'builtin_module_names', 'byteorder', 'call_tracing', 'callstats', 'copyright', 'displayhook', 'dont_write_bytecode', 'exc_info', 'excepthook', 'exec_prefix', 'executable', 'exit', 'flags', 'float_info', 'float_repr_style', 'getallocatedblocks', 'getcheckinterval', 'getdefaultencoding', 'getdlopenflags', 'getfilesystemencoding', 'getprofile', 'getrecursionlimit', 'getrefcount', 'getsizeof', 'getswitchinterval', 'gettrace', 'hash_info', 'hexversion', 'implementation', 'int_info', 'intern', 'maxsize', 'maxunicode', 'meta_path', 'modules', 'path', 'path_hooks', 'path_importer_cache', 'platform', 'prefix', 'ps1', 'ps2', 'ps3', 'setcheckinterval', 'setdlopenflags', 'setprofile', 'setrecursionlimit', 'setswitchinterval', 'settrace', 'stderr', 'stdin', 'stdout', 'thread_info', 'version', 'version_info', 'warnoptions']\n"
       ]
      }
     ],
     "prompt_number": 3
    },
    {
     "cell_type": "code",
     "collapsed": false,
     "input": [],
     "language": "python",
     "metadata": {},
     "outputs": []
    },
    {
     "cell_type": "code",
     "collapsed": false,
     "input": [
      "print(sys.argv)\n",
      "# system\uc758 argument\ub85c \ub118\uae34 \uc5ec\ub7ec \ub9ac\uc2a4\ud2b8\ub4e4\uc774 \ubcf4\uc778\ub2e4."
     ],
     "language": "python",
     "metadata": {},
     "outputs": [
      {
       "output_type": "stream",
       "stream": "stdout",
       "text": [
        "['-c', '-f', '/Users/changsuyouk/.ipython/profile_default/security/kernel-e67977bc-7d60-4f44-a55c-714521625747.json', \"--IPKernelApp.parent_appname='ipython-notebook'\", '--profile-dir', '/Users/changsuyouk/.ipython/profile_default', '--parent=1']\n"
       ]
      }
     ],
     "prompt_number": 4
    },
    {
     "cell_type": "code",
     "collapsed": false,
     "input": [
      "Stack()"
     ],
     "language": "python",
     "metadata": {},
     "outputs": [
      {
       "ename": "NameError",
       "evalue": "name 'Stack' is not defined",
       "output_type": "pyerr",
       "traceback": [
        "\u001b[0;31m---------------------------------------------------------------------------\u001b[0m\n\u001b[0;31mNameError\u001b[0m                                 Traceback (most recent call last)",
        "\u001b[0;32m<ipython-input-5-e3c5b732ee24>\u001b[0m in \u001b[0;36m<module>\u001b[0;34m()\u001b[0m\n\u001b[0;32m----> 1\u001b[0;31m \u001b[0mStack\u001b[0m\u001b[0;34m(\u001b[0m\u001b[0;34m)\u001b[0m\u001b[0;34m\u001b[0m\u001b[0m\n\u001b[0m",
        "\u001b[0;31mNameError\u001b[0m: name 'Stack' is not defined"
       ]
      }
     ],
     "prompt_number": 5
    },
    {
     "cell_type": "code",
     "collapsed": false,
     "input": [],
     "language": "python",
     "metadata": {},
     "outputs": []
    }
   ],
   "metadata": {}
  }
 ]
}