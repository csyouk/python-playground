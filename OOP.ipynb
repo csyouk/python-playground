{
 "metadata": {
  "name": "",
  "signature": "sha256:2197195a56b6cb95afe12385b7e6c224f63a0ee115ee548442750674897ad0e5"
 },
 "nbformat": 3,
 "nbformat_minor": 0,
 "worksheets": [
  {
   "cells": [
    {
     "cell_type": "code",
     "collapsed": false,
     "input": [
      "class File:\n",
      "    def copy_to(self):\n",
      "        print(\"copy file to clipboard\")\n",
      "        \n",
      "class Text:\n",
      "    def copy_to(self):\n",
      "        print(\"copy text to clipboard\")\n",
      "        "
     ],
     "language": "python",
     "metadata": {},
     "outputs": [],
     "prompt_number": 18
    },
    {
     "cell_type": "code",
     "collapsed": false,
     "input": [
      "f = File()\n",
      "t = Text()\n",
      "\n",
      "\n",
      "def copy(some_obj):\n",
      "    some_obj.copy_to()\n",
      "    \n",
      "copy(f)\n",
      "copy(t)"
     ],
     "language": "python",
     "metadata": {},
     "outputs": [
      {
       "output_type": "stream",
       "stream": "stdout",
       "text": [
        "copy file to clipboard\n",
        "copy text to clipboard\n"
       ]
      }
     ],
     "prompt_number": 21
    },
    {
     "cell_type": "code",
     "collapsed": false,
     "input": [
      "class MailClient:\n",
      "    def draw_menu(self, mailbox):\n",
      "        draw(mailbox.get_menu())\n",
      "        \n",
      "class ReceivedMailBox:\n",
      "    def get_menu(self):\n",
      "        menu.add(reply)\n",
      "        menu.add(forward)\n",
      "        menu.add(delete)\n",
      "        return menu"
     ],
     "language": "python",
     "metadata": {},
     "outputs": [],
     "prompt_number": 1
    },
    {
     "cell_type": "code",
     "collapsed": false,
     "input": [
      "# delegate pattern\n",
      "class Shape:\n",
      "    def get_height(self):\n",
      "        print(\"get height\")\n",
      "\n",
      "class Triangle:\n",
      "    def __init__(self):\n",
      "        self.__implementation = Shape()\n",
      "        \n",
      "    def get_feature(self):\n",
      "        print(\"get feature\")\n",
      "        \n",
      "    def get_height(self):\n",
      "        self.__implementation.get_height()\n",
      "\n",
      "shape = Shape()\n",
      "print(dir(shape))\n",
      "shape.get_height()"
     ],
     "language": "python",
     "metadata": {},
     "outputs": [
      {
       "output_type": "stream",
       "stream": "stdout",
       "text": [
        "['__class__', '__delattr__', '__dict__', '__dir__', '__doc__', '__eq__', '__format__', '__ge__', '__getattribute__', '__gt__', '__hash__', '__init__', '__le__', '__lt__', '__module__', '__ne__', '__new__', '__reduce__', '__reduce_ex__', '__repr__', '__setattr__', '__sizeof__', '__str__', '__subclasshook__', '__weakref__', 'get_height']\n",
        "get height\n"
       ]
      }
     ],
     "prompt_number": 2
    },
    {
     "cell_type": "code",
     "collapsed": false,
     "input": [
      "class Animal:\n",
      "    def cry(self):\n",
      "        print('...')\n",
      " \n",
      "class Dog(Animal):\n",
      "    def cry(self):\n",
      "        print('\uba4d\uba4d')\n",
      " \n",
      "class Duck(Animal):\n",
      "    def cry(self):\n",
      "        print('\uaf65\uaf65')\n",
      " \n",
      "class Fish(Animal):\n",
      "    pass\n",
      " \n",
      "for each in (Dog(),Duck(),Fish()):\n",
      "#     print(dir(each))\n",
      "    each.cry()\n",
      "\n",
      "print(dir(Animal))"
     ],
     "language": "python",
     "metadata": {},
     "outputs": [
      {
       "output_type": "stream",
       "stream": "stdout",
       "text": [
        "['__class__', '__delattr__', '__dict__', '__dir__', '__doc__', '__eq__', '__format__', '__ge__', '__getattribute__', '__gt__', '__hash__', '__init__', '__le__', '__lt__', '__module__', '__ne__', '__new__', '__reduce__', '__reduce_ex__', '__repr__', '__setattr__', '__sizeof__', '__str__', '__subclasshook__', '__weakref__', 'cry']\n",
        "\uba4d\uba4d\n",
        "['__class__', '__delattr__', '__dict__', '__dir__', '__doc__', '__eq__', '__format__', '__ge__', '__getattribute__', '__gt__', '__hash__', '__init__', '__le__', '__lt__', '__module__', '__ne__', '__new__', '__reduce__', '__reduce_ex__', '__repr__', '__setattr__', '__sizeof__', '__str__', '__subclasshook__', '__weakref__', 'cry']\n",
        "\uaf65\uaf65\n",
        "['__class__', '__delattr__', '__dict__', '__dir__', '__doc__', '__eq__', '__format__', '__ge__', '__getattribute__', '__gt__', '__hash__', '__init__', '__le__', '__lt__', '__module__', '__ne__', '__new__', '__reduce__', '__reduce_ex__', '__repr__', '__setattr__', '__sizeof__', '__str__', '__subclasshook__', '__weakref__', 'cry']\n",
        "...\n",
        "['__class__', '__delattr__', '__dict__', '__dir__', '__doc__', '__eq__', '__format__', '__ge__', '__getattribute__', '__gt__', '__hash__', '__init__', '__le__', '__lt__', '__module__', '__ne__', '__new__', '__reduce__', '__reduce_ex__', '__repr__', '__setattr__', '__sizeof__', '__str__', '__subclasshook__', '__weakref__', 'cry']\n"
       ]
      }
     ],
     "prompt_number": 3
    },
    {
     "cell_type": "code",
     "collapsed": false,
     "input": [],
     "language": "python",
     "metadata": {},
     "outputs": []
    }
   ],
   "metadata": {}
  }
 ]
}