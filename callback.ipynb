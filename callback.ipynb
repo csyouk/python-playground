{
 "metadata": {
  "name": "",
  "signature": "sha256:17293ec3167da6f77f2442f47690f5911a6317a317c6cbd1b13353ea782432a7"
 },
 "nbformat": 3,
 "nbformat_minor": 0,
 "worksheets": [
  {
   "cells": [
    {
     "cell_type": "code",
     "collapsed": false,
     "input": [
      "import time\n",
      "from multiprocessing.dummy import Pool\n",
      "pool = Pool(processes=1)\n",
      "\n",
      "def async_function(name):\n",
      "    time.sleep(1)\n",
      "    return name\n",
      "\n",
      "def callback_function(name, age):\n",
      "    print(name, age)\n",
      "    \n",
      "for age, name in enumerate(['jack','jill','james']):\n",
      "    print(age, name)\n",
      "    new_callback_function = lambda new_name:callback_function(new_name, age)\n",
      "    pool.apply_async(async_function, args=[name],callback=new_callback_function)\n",
      "    \n",
      "    "
     ],
     "language": "python",
     "metadata": {},
     "outputs": [
      {
       "output_type": "stream",
       "stream": "stdout",
       "text": [
        "0 jack\n",
        "1 jill\n",
        "2 james\n"
       ]
      }
     ],
     "prompt_number": 16
    },
    {
     "cell_type": "code",
     "collapsed": false,
     "input": [
      "from functools import partial\n",
      "for age, name in enumerate(['jack','jill','james']):\n",
      "    new_callback_function = partial(callback_function, age=age)\n",
      "    print(new_callback_function)\n",
      "    pool.apply_async(\n",
      "        async_function,\n",
      "        args=[name],\n",
      "        callback=new_callback_function\n",
      "    )\n",
      "pool.close()\n",
      "pool.join()"
     ],
     "language": "python",
     "metadata": {},
     "outputs": [
      {
       "output_type": "stream",
       "stream": "stdout",
       "text": [
        "functools.partial(<function callback_function at 0x109f388c8>, age=0)\n",
        "functools.partial(<function callback_function at 0x109f388c8>, age=1)\n",
        "functools.partial(<function callback_function at 0x109f388c8>, age=2)\n",
        "jack 2\n",
        "jill 2\n",
        "james 2\n",
        "jack 0\n",
        "jill 1\n",
        "james 2\n"
       ]
      }
     ],
     "prompt_number": 17
    },
    {
     "cell_type": "code",
     "collapsed": false,
     "input": [
      "def de(arg):\n",
      "    print(arg)\n",
      "    return 2*x\n",
      "\n",
      "y = lambda x:de(x)*2\n",
      "print(y)\n",
      "# y(3)"
     ],
     "language": "python",
     "metadata": {},
     "outputs": [
      {
       "output_type": "stream",
       "stream": "stdout",
       "text": [
        "<function <lambda> at 0x109f38d90>\n"
       ]
      }
     ],
     "prompt_number": 24
    },
    {
     "cell_type": "code",
     "collapsed": false,
     "input": [
      "from tornado.httpclient import AsyncHTTPClient\n",
      "\n",
      "def asynchronous_fetch(url, cb):\n",
      "    http_client = AsyncHTTPClient()\n",
      "    def handle_response(response):\n",
      "        cb(response.body)\n",
      "    http_client.fetch(url, cb=handle_response)"
     ],
     "language": "python",
     "metadata": {},
     "outputs": [],
     "prompt_number": 1
    },
    {
     "cell_type": "code",
     "collapsed": false,
     "input": [
      "def say_hello(value, cb):\n",
      "    print(value)\n",
      "    cb()\n",
      "    \n",
      "def say_name():\n",
      "    print(\"cs\")\n",
      "    \n",
      "say_hello(\"ciao\", say_name)"
     ],
     "language": "python",
     "metadata": {},
     "outputs": [
      {
       "output_type": "stream",
       "stream": "stdout",
       "text": [
        "ciao\n",
        "cs\n"
       ]
      }
     ],
     "prompt_number": 2
    },
    {
     "cell_type": "code",
     "collapsed": false,
     "input": [],
     "language": "python",
     "metadata": {},
     "outputs": []
    }
   ],
   "metadata": {}
  }
 ]
}