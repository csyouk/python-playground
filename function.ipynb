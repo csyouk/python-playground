{
 "metadata": {
  "name": "",
  "signature": "sha256:13070af066d0d0bb6353fa2ca298389f8aeadfc68aa216385dd8d8477b7c0b9d"
 },
 "nbformat": 3,
 "nbformat_minor": 0,
 "worksheets": [
  {
   "cells": [
    {
     "cell_type": "code",
     "collapsed": false,
     "input": [
      "def inc(x):\n",
      "    x+=1\n",
      "    return x\n",
      "    \n",
      "\n",
      "print(inc(1,1))\n",
      "print(inc(1,1))\n",
      "print(inc(1,1))\n",
      "print(inc(1,1))\n"
     ],
     "language": "python",
     "metadata": {},
     "outputs": [
      {
       "output_type": "stream",
       "stream": "stdout",
       "text": [
        "3\n",
        "3\n",
        "3\n",
        "3\n"
       ]
      }
     ],
     "prompt_number": 15
    },
    {
     "cell_type": "code",
     "collapsed": false,
     "input": [],
     "language": "python",
     "metadata": {},
     "outputs": []
    }
   ],
   "metadata": {}
  }
 ]
}