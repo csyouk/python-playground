{
 "cells": [
  {
   "cell_type": "code",
   "execution_count": null,
   "metadata": {
    "collapsed": true
   },
   "outputs": [],
   "source": [
    "# descriptor는 \"binding behavior\"를 정의하는 객체의 속성이다.\n",
    "__get__, __set__, __delete__\n",
    "위의 3가지 메소드가 객체에 정의되어 있다면, 그것을 descriptor라고 한다. \n",
    "\n",
    "속성을 접근하는 가장 기본적인 행위는 object의 dictionary를 get, set, delete 하는 것이다. \n",
    "\n",
    "예를 들어, a.x 는 선언하면, lookup chain은 다음과 같이 작동한다.\n",
    "1. a.__dict__['x'] \n",
    "2. type(a).__dict__['x']\n",
    "계속 type(a)의 base class들을 찾기 시작한다. metaclass를 제외하고. \n",
    "만약에 조회한 값이 descriptor method 중 하나를 정의한 것이라면, 파이썬은 아마도 기본 행위를 override하고 descriptor method를 호출할 것이다.\n",
    "\n",
    "descriptor는 매우 강력하고 범용적인 프로토콜이다. \n",
    "descriptor는 properties, methods, static methods, class methods, super() 뒤에 숨겨져 있는 메커니즘이다. \n",
    "\n",
    "# Descriptor Protocol\n",
    "\n",
    "descr.__get__(self, obj, type=None) --> value\n",
    "\n",
    "descr.__set__(self, obj, value) --> None\n",
    "\n",
    "descr.__delete__(self, obj) --> None\n",
    "\n",
    "이 3가지가 전부이다. \n",
    "\n",
    "만약에 객체가 __get__, __set__ 을 정의한다면 이 객체는 data-descriptor이다. "
   ]
  },
  {
   "cell_type": "code",
   "execution_count": 2,
   "metadata": {
    "collapsed": false
   },
   "outputs": [
    {
     "ename": "SyntaxError",
     "evalue": "invalid syntax (<ipython-input-2-07e0aeee93bc>, line 1)",
     "output_type": "error",
     "traceback": [
      "\u001b[0;36m  File \u001b[0;32m\"<ipython-input-2-07e0aeee93bc>\"\u001b[0;36m, line \u001b[0;32m1\u001b[0m\n\u001b[0;31m    descriptor는 메소드 이름을 직접 호출해서 쓸 수 있다.\u001b[0m\n\u001b[0m                  ^\u001b[0m\n\u001b[0;31mSyntaxError\u001b[0m\u001b[0;31m:\u001b[0m invalid syntax\n"
     ]
    }
   ],
   "source": [
    "descriptor는 메소드 이름을 직접 호출해서 쓸 수 있다. \n",
    "\n",
    "obj.d 를 호출할 때 내부적으로 일어나는 일을 적어보면 다음과 같다.\n",
    "호출의 detail은 obj가 object 인지 아니면 class인지에 따라 다르다. "
   ]
  },
  {
   "cell_type": "code",
   "execution_count": 3,
   "metadata": {
    "collapsed": true
   },
   "outputs": [],
   "source": [
    "# object 인 경우. \n",
    "# object.__getattribute__()  tranfrom b.x into \n",
    "# b.x ==> type(b).__dict__['x'].__get__(b, type(b))\n",
    "\n",
    "# full implementation can be found here\n",
    "# https://hg.python.org/cpython/file/3.5/Objects/object.c"
   ]
  },
  {
   "cell_type": "code",
   "execution_count": 4,
   "metadata": {
    "collapsed": true
   },
   "outputs": [],
   "source": [
    "class RevealAccess(object):\n",
    "    def __init__(self, initval=None, name='var'):\n",
    "        self.val = initval\n",
    "        self.name = name\n",
    "        \n",
    "    def __get__(self, obj, objtype):\n",
    "        print('retrieve', self.name)\n",
    "        return self.val\n",
    "    \n",
    "    def __set__(self, obj, val):\n",
    "        print('update', self.name)\n",
    "        self.val = val\n",
    "        \n",
    "class MyClass(object):\n",
    "    x = RevealAccess(10, 'var \"x\"')\n",
    "    y = 5\n",
    "    "
   ]
  },
  {
   "cell_type": "code",
   "execution_count": 5,
   "metadata": {
    "collapsed": false
   },
   "outputs": [
    {
     "name": "stdout",
     "output_type": "stream",
     "text": [
      "retrieve var \"x\"\n"
     ]
    },
    {
     "data": {
      "text/plain": [
       "10"
      ]
     },
     "execution_count": 5,
     "metadata": {},
     "output_type": "execute_result"
    }
   ],
   "source": [
    "m = MyClass()\n",
    "m.x"
   ]
  },
  {
   "cell_type": "code",
   "execution_count": 6,
   "metadata": {
    "collapsed": false
   },
   "outputs": [
    {
     "name": "stdout",
     "output_type": "stream",
     "text": [
      "update var \"x\"\n"
     ]
    }
   ],
   "source": [
    "m.x = 20"
   ]
  },
  {
   "cell_type": "code",
   "execution_count": 7,
   "metadata": {
    "collapsed": false
   },
   "outputs": [
    {
     "name": "stdout",
     "output_type": "stream",
     "text": [
      "retrieve var \"x\"\n"
     ]
    },
    {
     "data": {
      "text/plain": [
       "20"
      ]
     },
     "execution_count": 7,
     "metadata": {},
     "output_type": "execute_result"
    }
   ],
   "source": [
    "m.x"
   ]
  },
  {
   "cell_type": "code",
   "execution_count": 9,
   "metadata": {
    "collapsed": false
   },
   "outputs": [],
   "source": [
    "import types\n",
    "\n",
    "class Function(object):\n",
    "    def __get__(self, obj, objtype=None):\n",
    "        return types.MethodType(self, obj, objtype)"
   ]
  },
  {
   "cell_type": "code",
   "execution_count": 11,
   "metadata": {
    "collapsed": false
   },
   "outputs": [
    {
     "data": {
      "text/plain": [
       "<function __main__.D.f>"
      ]
     },
     "execution_count": 11,
     "metadata": {},
     "output_type": "execute_result"
    }
   ],
   "source": [
    "class D(object):\n",
    "    def f(self, x):\n",
    "        return x\n",
    "    \n",
    "d = D()\n",
    "D.__dict__['f']"
   ]
  },
  {
   "cell_type": "code",
   "execution_count": 12,
   "metadata": {
    "collapsed": false
   },
   "outputs": [
    {
     "data": {
      "text/plain": [
       "<function __main__.D.f>"
      ]
     },
     "execution_count": 12,
     "metadata": {},
     "output_type": "execute_result"
    }
   ],
   "source": [
    "D.f"
   ]
  },
  {
   "cell_type": "code",
   "execution_count": 13,
   "metadata": {
    "collapsed": false
   },
   "outputs": [
    {
     "data": {
      "text/plain": [
       "<bound method D.f of <__main__.D object at 0x104a72668>>"
      ]
     },
     "execution_count": 13,
     "metadata": {},
     "output_type": "execute_result"
    }
   ],
   "source": [
    "d.f"
   ]
  },
  {
   "cell_type": "code",
   "execution_count": 14,
   "metadata": {
    "collapsed": true
   },
   "outputs": [],
   "source": [
    "import random\n",
    "\n",
    "class Die:\n",
    "    def __init__(self, sides = 6):\n",
    "        self.sides = sides\n",
    "        \n",
    "    def __get__(self, instance, owner):\n",
    "        return int(random.random() * self.sides) + 1"
   ]
  },
  {
   "cell_type": "code",
   "execution_count": 15,
   "metadata": {
    "collapsed": true
   },
   "outputs": [],
   "source": [
    "class Game:\n",
    "    d6 = Die()\n",
    "    d10 = Die(sides=10)\n",
    "    d20 = Die(sides=20)"
   ]
  },
  {
   "cell_type": "code",
   "execution_count": 16,
   "metadata": {
    "collapsed": false
   },
   "outputs": [
    {
     "data": {
      "text/plain": [
       "6"
      ]
     },
     "execution_count": 16,
     "metadata": {},
     "output_type": "execute_result"
    }
   ],
   "source": [
    "Game.d6"
   ]
  },
  {
   "cell_type": "code",
   "execution_count": 17,
   "metadata": {
    "collapsed": false
   },
   "outputs": [
    {
     "data": {
      "text/plain": [
       "10"
      ]
     },
     "execution_count": 17,
     "metadata": {},
     "output_type": "execute_result"
    }
   ],
   "source": [
    "Game.d10"
   ]
  },
  {
   "cell_type": "code",
   "execution_count": 18,
   "metadata": {
    "collapsed": false
   },
   "outputs": [
    {
     "data": {
      "text/plain": [
       "1"
      ]
     },
     "execution_count": 18,
     "metadata": {},
     "output_type": "execute_result"
    }
   ],
   "source": [
    "Game.d20"
   ]
  },
  {
   "cell_type": "code",
   "execution_count": 19,
   "metadata": {
    "collapsed": false
   },
   "outputs": [
    {
     "data": {
      "text/plain": [
       "6"
      ]
     },
     "execution_count": 19,
     "metadata": {},
     "output_type": "execute_result"
    }
   ],
   "source": [
    "game = Game()\n",
    "game.d6"
   ]
  },
  {
   "cell_type": "code",
   "execution_count": 20,
   "metadata": {
    "collapsed": true
   },
   "outputs": [],
   "source": [
    "class CachedValue:\n",
    "    def __init__(self, name):\n",
    "        self.name = name\n",
    "        \n",
    "    def __get__(self, instance, owner):\n",
    "        if self.name not in instance.__dict__:\n",
    "            instance.__dict__[self.name] = sth()\n",
    "        return instance.__dict__[self.name]\n",
    "    \n",
    "    "
   ]
  },
  {
   "cell_type": "code",
   "execution_count": 22,
   "metadata": {
    "collapsed": false
   },
   "outputs": [
    {
     "data": {
      "text/plain": [
       "0.0"
      ]
     },
     "execution_count": 22,
     "metadata": {},
     "output_type": "execute_result"
    }
   ],
   "source": [
    "class Celsius:\n",
    "    def __init__(self, value=0.0):\n",
    "        self.value = float(value)\n",
    "    \n",
    "    def __get__(self, instance, owner):\n",
    "        return self.value\n",
    "    \n",
    "    def __set__(self, instance, value):\n",
    "        self.value = value\n",
    "        \n",
    "class Temp:\n",
    "    celsius = Celsius()\n",
    "    \n",
    "Temp.celsius"
   ]
  },
  {
   "cell_type": "code",
   "execution_count": 24,
   "metadata": {
    "collapsed": true
   },
   "outputs": [],
   "source": [
    "class Descriptor:\n",
    "    def __init__(self):\n",
    "        self._name = ''\n",
    "        \n",
    "    def __get__(self, instance, owner):\n",
    "        return self._name\n",
    "    \n",
    "    def __set__(self, instance, name):\n",
    "        self._name = name.title()\n",
    "        \n",
    "    def __delete__(self, instance):\n",
    "        del self._name\n",
    "        \n",
    "class Person:\n",
    "    name = Descriptor()"
   ]
  },
  {
   "cell_type": "code",
   "execution_count": 25,
   "metadata": {
    "collapsed": true
   },
   "outputs": [],
   "source": [
    "user = Person()\n",
    "user.name = \"john smith\""
   ]
  },
  {
   "cell_type": "code",
   "execution_count": 26,
   "metadata": {
    "collapsed": true
   },
   "outputs": [],
   "source": [
    "class Person:\n",
    "    def __init__(self):\n",
    "        self._name = ''\n",
    "\n",
    "    def fget(self):\n",
    "        return self._name\n",
    "    \n",
    "    def fset(self, value):\n",
    "        self._name = value.title()\n",
    "\n",
    "    def fdel(self):\n",
    "        del self._name\n",
    "        \n",
    "    name = property(fget, fset, fdel, \"property\")"
   ]
  },
  {
   "cell_type": "code",
   "execution_count": null,
   "metadata": {
    "collapsed": true
   },
   "outputs": [],
   "source": []
  }
 ],
 "metadata": {
  "anaconda-cloud": {},
  "kernelspec": {
   "display_name": "Python [ipykernel_py3]",
   "language": "python",
   "name": "Python [ipykernel_py3]"
  },
  "language_info": {
   "codemirror_mode": {
    "name": "ipython",
    "version": 3
   },
   "file_extension": ".py",
   "mimetype": "text/x-python",
   "name": "python",
   "nbconvert_exporter": "python",
   "pygments_lexer": "ipython3",
   "version": "3.5.2"
  }
 },
 "nbformat": 4,
 "nbformat_minor": 0
}
