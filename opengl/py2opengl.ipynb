{
 "metadata": {
  "name": "",
  "signature": "sha256:13908032b5ba5e3bb02e2d6f8925354420a41224963bb1aa2ef83a17d4a16438"
 },
 "nbformat": 3,
 "nbformat_minor": 0,
 "worksheets": [
  {
   "cells": [
    {
     "cell_type": "code",
     "collapsed": false,
     "input": [
      "# -*- coding: utf-8 -*-\n",
      "# vispy: gallery 30\n",
      "# vispy: testskip - because this example sometimes sets inactive attributes\n",
      "\"\"\"Computing a Voronoi diagram on the GPU. Shows how to use uniform arrays.\n",
      "\n",
      "Original version by Xavier Olive (xoolive).\n",
      "\n",
      "\"\"\"\n",
      "\n",
      "import numpy as np\n",
      "\n",
      "from vispy import app\n",
      "from vispy import gloo\n",
      "\n",
      "\n",
      "# Voronoi shaders.\n",
      "VS_voronoi = \"\"\"\n",
      "attribute vec2 a_position;\n",
      "\n",
      "void main() {\n",
      "    gl_Position = vec4(a_position, 0., 1.);\n",
      "}\n",
      "\"\"\"\n",
      "\n",
      "FS_voronoi = \"\"\"\n",
      "uniform vec2 u_seeds[32];\n",
      "uniform vec3 u_colors[32];\n",
      "uniform vec2 u_screen;\n",
      "\n",
      "void main() {\n",
      "    float dist = distance(u_screen * u_seeds[0], gl_FragCoord.xy);\n",
      "    vec3 color = u_colors[0];\n",
      "    for (int i = 1; i < 32; i++) {\n",
      "        float current = distance(u_screen * u_seeds[i], gl_FragCoord.xy);\n",
      "        if (current < dist) {\n",
      "            color = u_colors[i];\n",
      "            dist = current;\n",
      "        }\n",
      "    }\n",
      "    gl_FragColor = vec4(color, 1.0);\n",
      "}\n",
      "\"\"\"\n",
      "\n",
      "\n",
      "# Seed point shaders.\n",
      "VS_seeds = \"\"\"\n",
      "attribute vec2 a_position;\n",
      "uniform float u_ps;\n",
      "\n",
      "void main() {\n",
      "    gl_Position = vec4(2. * a_position - 1., 0., 1.);\n",
      "    gl_PointSize = 10. * u_ps;\n",
      "}\n",
      "\"\"\"\n",
      "\n",
      "FS_seeds = \"\"\"\n",
      "varying vec3 v_color;\n",
      "void main() {\n",
      "    gl_FragColor = vec4(1., 1., 1., 1.);\n",
      "}\n",
      "\"\"\"\n",
      "\n",
      "\n",
      "class Canvas(app.Canvas):\n",
      "    def __init__(self):\n",
      "        app.Canvas.__init__(self, size=(600, 600), title='Voronoi diagram',\n",
      "                            keys='interactive')\n",
      "\n",
      "        self.ps = self.pixel_scale\n",
      "\n",
      "        self.seeds = np.random.uniform(0, 1.0*self.ps,\n",
      "                                       size=(32, 2)).astype(np.float32)\n",
      "        self.colors = np.random.uniform(0.3, 0.8,\n",
      "                                        size=(32, 3)).astype(np.float32)\n",
      "\n",
      "        # Set Voronoi program.\n",
      "        self.program_v = gloo.Program(VS_voronoi, FS_voronoi)\n",
      "        self.program_v['a_position'] = [(-1, -1), (-1, +1), (+1, -1), (+1, +1)]\n",
      "        # HACK: work-around a bug related to uniform arrays until\n",
      "        # issue #345 is solved.\n",
      "        for i in range(32):\n",
      "            self.program_v['u_seeds[%d]' % i] = self.seeds[i, :]\n",
      "            self.program_v['u_colors[%d]' % i] = self.colors[i, :]\n",
      "\n",
      "        # Set seed points program.\n",
      "        self.program_s = gloo.Program(VS_seeds, FS_seeds)\n",
      "        self.program_s['a_position'] = self.seeds\n",
      "        self.program_s['u_ps'] = self.ps\n",
      "\n",
      "        self.activate_zoom()\n",
      "\n",
      "        self.show()\n",
      "\n",
      "    def on_draw(self, event):\n",
      "        gloo.clear()\n",
      "        self.program_v.draw('triangle_strip')\n",
      "        self.program_s.draw('points')\n",
      "\n",
      "    def on_resize(self, event):\n",
      "        self.activate_zoom()\n",
      "\n",
      "    def activate_zoom(self):\n",
      "        self.width, self.height = self.size\n",
      "        gloo.set_viewport(0, 0, *self.physical_size)\n",
      "        self.program_v['u_screen'] = (self.width, self.height)\n",
      "\n",
      "    def on_mouse_move(self, event):\n",
      "        x, y = event.pos\n",
      "        x, y = x/float(self.width), 1-y/float(self.height)\n",
      "        self.program_v['u_seeds[0]'] = x*self.ps, y*self.ps\n",
      "        # TODO: just update the first line in the VBO instead of uploading the\n",
      "        # whole array of seed points.\n",
      "        self.seeds[0, :] = x, y\n",
      "        self.program_s['a_position'].set_data(self.seeds)\n",
      "        self.update()\n",
      "\n",
      "if __name__ == \"__main__\":\n",
      "    c = Canvas()\n",
      "    app.run()"
     ],
     "language": "python",
     "metadata": {},
     "outputs": [
      {
       "output_type": "stream",
       "stream": "stderr",
       "text": [
        "INFO: Could not import backend \"PyQt4\":\n",
        "No module named 'PyQt4'\n"
       ]
      },
      {
       "output_type": "stream",
       "stream": "stderr",
       "text": [
        "INFO:vispy:Could not import backend \"PyQt4\":\n",
        "No module named 'PyQt4'\n"
       ]
      },
      {
       "output_type": "stream",
       "stream": "stderr",
       "text": [
        "INFO: Could not import backend \"PyQt5\":\n",
        "No module named 'PyQt5'\n"
       ]
      },
      {
       "output_type": "stream",
       "stream": "stderr",
       "text": [
        "INFO:vispy:Could not import backend \"PyQt5\":\n",
        "No module named 'PyQt5'\n"
       ]
      },
      {
       "output_type": "stream",
       "stream": "stderr",
       "text": [
        "INFO: Could not import backend \"PySide\":\n",
        "No module named 'PySide'\n"
       ]
      },
      {
       "output_type": "stream",
       "stream": "stderr",
       "text": [
        "INFO:vispy:Could not import backend \"PySide\":\n",
        "No module named 'PySide'\n"
       ]
      },
      {
       "output_type": "stream",
       "stream": "stderr",
       "text": [
        "INFO: Could not import backend \"Pyglet\":\n",
        "No module named 'pyglet'\n"
       ]
      },
      {
       "output_type": "stream",
       "stream": "stderr",
       "text": [
        "INFO:vispy:Could not import backend \"Pyglet\":\n",
        "No module named 'pyglet'\n"
       ]
      },
      {
       "output_type": "stream",
       "stream": "stderr",
       "text": [
        "INFO: Could not import backend \"Glfw\":\n",
        "GLFW library not found\n"
       ]
      },
      {
       "output_type": "stream",
       "stream": "stderr",
       "text": [
        "INFO:vispy:Could not import backend \"Glfw\":\n",
        "GLFW library not found\n"
       ]
      },
      {
       "output_type": "stream",
       "stream": "stderr",
       "text": [
        "INFO: Could not import backend \"SDL2\":\n",
        "No module named 'sdl2'\n"
       ]
      },
      {
       "output_type": "stream",
       "stream": "stderr",
       "text": [
        "INFO:vispy:Could not import backend \"SDL2\":\n",
        "No module named 'sdl2'\n"
       ]
      },
      {
       "output_type": "stream",
       "stream": "stderr",
       "text": [
        "INFO: Could not import backend \"wx\":\n",
        "No module named 'wx'\n"
       ]
      },
      {
       "output_type": "stream",
       "stream": "stderr",
       "text": [
        "INFO:vispy:Could not import backend \"wx\":\n",
        "No module named 'wx'\n"
       ]
      },
      {
       "output_type": "stream",
       "stream": "stderr",
       "text": [
        "INFO: Could not import backend \"EGL\":\n",
        "EGL library not found\n"
       ]
      },
      {
       "output_type": "stream",
       "stream": "stderr",
       "text": [
        "INFO:vispy:Could not import backend \"EGL\":\n",
        "EGL library not found\n"
       ]
      },
      {
       "ename": "RuntimeError",
       "evalue": "Could not import any of the backends. You need to install any of ['PyQt4', 'PyQt5', 'PySide', 'Pyglet', 'Glfw', 'SDL2', 'wx', 'EGL']. We recommend PyQt",
       "output_type": "pyerr",
       "traceback": [
        "\u001b[0;31m---------------------------------------------------------------------------\u001b[0m\n\u001b[0;31mRuntimeError\u001b[0m                              Traceback (most recent call last)",
        "\u001b[0;32m<ipython-input-2-8f9658f4faff>\u001b[0m in \u001b[0;36m<module>\u001b[0;34m()\u001b[0m\n\u001b[1;32m    116\u001b[0m \u001b[0;34m\u001b[0m\u001b[0m\n\u001b[1;32m    117\u001b[0m \u001b[0;32mif\u001b[0m \u001b[0m__name__\u001b[0m \u001b[0;34m==\u001b[0m \u001b[0;34m\"__main__\"\u001b[0m\u001b[0;34m:\u001b[0m\u001b[0;34m\u001b[0m\u001b[0m\n\u001b[0;32m--> 118\u001b[0;31m     \u001b[0mc\u001b[0m \u001b[0;34m=\u001b[0m \u001b[0mCanvas\u001b[0m\u001b[0;34m(\u001b[0m\u001b[0;34m)\u001b[0m\u001b[0;34m\u001b[0m\u001b[0m\n\u001b[0m\u001b[1;32m    119\u001b[0m     \u001b[0mapp\u001b[0m\u001b[0;34m.\u001b[0m\u001b[0mrun\u001b[0m\u001b[0;34m(\u001b[0m\u001b[0;34m)\u001b[0m\u001b[0;34m\u001b[0m\u001b[0m\n",
        "\u001b[0;32m<ipython-input-2-8f9658f4faff>\u001b[0m in \u001b[0;36m__init__\u001b[0;34m(self)\u001b[0m\n\u001b[1;32m     65\u001b[0m     \u001b[0;32mdef\u001b[0m \u001b[0m__init__\u001b[0m\u001b[0;34m(\u001b[0m\u001b[0mself\u001b[0m\u001b[0;34m)\u001b[0m\u001b[0;34m:\u001b[0m\u001b[0;34m\u001b[0m\u001b[0m\n\u001b[1;32m     66\u001b[0m         app.Canvas.__init__(self, size=(600, 600), title='Voronoi diagram',\n\u001b[0;32m---> 67\u001b[0;31m                             keys='interactive')\n\u001b[0m\u001b[1;32m     68\u001b[0m \u001b[0;34m\u001b[0m\u001b[0m\n\u001b[1;32m     69\u001b[0m         \u001b[0mself\u001b[0m\u001b[0;34m.\u001b[0m\u001b[0mps\u001b[0m \u001b[0;34m=\u001b[0m \u001b[0mself\u001b[0m\u001b[0;34m.\u001b[0m\u001b[0mpixel_scale\u001b[0m\u001b[0;34m\u001b[0m\u001b[0m\n",
        "\u001b[0;32m/Library/Frameworks/Python.framework/Versions/3.4/lib/python3.4/site-packages/vispy/app/canvas.py\u001b[0m in \u001b[0;36m__init__\u001b[0;34m(self, title, size, position, show, autoswap, app, create_native, vsync, resizable, decorate, fullscreen, config, shared, keys, parent, dpi, always_on_top, px_scale)\u001b[0m\n\u001b[1;32m    165\u001b[0m         \u001b[0;31m# Get app instance\u001b[0m\u001b[0;34m\u001b[0m\u001b[0;34m\u001b[0m\u001b[0m\n\u001b[1;32m    166\u001b[0m         \u001b[0;32mif\u001b[0m \u001b[0mapp\u001b[0m \u001b[0;32mis\u001b[0m \u001b[0;32mNone\u001b[0m\u001b[0;34m:\u001b[0m\u001b[0;34m\u001b[0m\u001b[0m\n\u001b[0;32m--> 167\u001b[0;31m             \u001b[0mself\u001b[0m\u001b[0;34m.\u001b[0m\u001b[0m_app\u001b[0m \u001b[0;34m=\u001b[0m \u001b[0muse_app\u001b[0m\u001b[0;34m(\u001b[0m\u001b[0mcall_reuse\u001b[0m\u001b[0;34m=\u001b[0m\u001b[0;32mFalse\u001b[0m\u001b[0;34m)\u001b[0m\u001b[0;34m\u001b[0m\u001b[0m\n\u001b[0m\u001b[1;32m    168\u001b[0m         \u001b[0;32melif\u001b[0m \u001b[0misinstance\u001b[0m\u001b[0;34m(\u001b[0m\u001b[0mapp\u001b[0m\u001b[0;34m,\u001b[0m \u001b[0mApplication\u001b[0m\u001b[0;34m)\u001b[0m\u001b[0;34m:\u001b[0m\u001b[0;34m\u001b[0m\u001b[0m\n\u001b[1;32m    169\u001b[0m             \u001b[0mself\u001b[0m\u001b[0;34m.\u001b[0m\u001b[0m_app\u001b[0m \u001b[0;34m=\u001b[0m \u001b[0mapp\u001b[0m\u001b[0;34m\u001b[0m\u001b[0m\n",
        "\u001b[0;32m/Library/Frameworks/Python.framework/Versions/3.4/lib/python3.4/site-packages/vispy/app/_default_app.py\u001b[0m in \u001b[0;36muse_app\u001b[0;34m(backend_name, call_reuse)\u001b[0m\n\u001b[1;32m     44\u001b[0m \u001b[0;34m\u001b[0m\u001b[0m\n\u001b[1;32m     45\u001b[0m     \u001b[0;31m# Create default app\u001b[0m\u001b[0;34m\u001b[0m\u001b[0;34m\u001b[0m\u001b[0m\n\u001b[0;32m---> 46\u001b[0;31m     \u001b[0mdefault_app\u001b[0m \u001b[0;34m=\u001b[0m \u001b[0mApplication\u001b[0m\u001b[0;34m(\u001b[0m\u001b[0mbackend_name\u001b[0m\u001b[0;34m)\u001b[0m\u001b[0;34m\u001b[0m\u001b[0m\n\u001b[0m\u001b[1;32m     47\u001b[0m     \u001b[0;32mreturn\u001b[0m \u001b[0mdefault_app\u001b[0m\u001b[0;34m\u001b[0m\u001b[0m\n\u001b[1;32m     48\u001b[0m \u001b[0;34m\u001b[0m\u001b[0m\n",
        "\u001b[0;32m/Library/Frameworks/Python.framework/Versions/3.4/lib/python3.4/site-packages/vispy/app/application.py\u001b[0m in \u001b[0;36m__init__\u001b[0;34m(self, backend_name)\u001b[0m\n\u001b[1;32m     47\u001b[0m         \u001b[0mself\u001b[0m\u001b[0;34m.\u001b[0m\u001b[0m_backend_module\u001b[0m \u001b[0;34m=\u001b[0m \u001b[0;32mNone\u001b[0m\u001b[0;34m\u001b[0m\u001b[0m\n\u001b[1;32m     48\u001b[0m         \u001b[0mself\u001b[0m\u001b[0;34m.\u001b[0m\u001b[0m_backend\u001b[0m \u001b[0;34m=\u001b[0m \u001b[0;32mNone\u001b[0m\u001b[0;34m\u001b[0m\u001b[0m\n\u001b[0;32m---> 49\u001b[0;31m         \u001b[0mself\u001b[0m\u001b[0;34m.\u001b[0m\u001b[0m_use\u001b[0m\u001b[0;34m(\u001b[0m\u001b[0mbackend_name\u001b[0m\u001b[0;34m)\u001b[0m\u001b[0;34m\u001b[0m\u001b[0m\n\u001b[0m\u001b[1;32m     50\u001b[0m \u001b[0;34m\u001b[0m\u001b[0m\n\u001b[1;32m     51\u001b[0m     \u001b[0;32mdef\u001b[0m \u001b[0m__repr__\u001b[0m\u001b[0;34m(\u001b[0m\u001b[0mself\u001b[0m\u001b[0;34m)\u001b[0m\u001b[0;34m:\u001b[0m\u001b[0;34m\u001b[0m\u001b[0m\n",
        "\u001b[0;32m/Library/Frameworks/Python.framework/Versions/3.4/lib/python3.4/site-packages/vispy/app/application.py\u001b[0m in \u001b[0;36m_use\u001b[0;34m(self, backend_name)\u001b[0m\n\u001b[1;32m    222\u001b[0m             raise RuntimeError('Could not import any of the backends. '\n\u001b[1;32m    223\u001b[0m                                \u001b[0;34m'You need to install any of %s. We recommend '\u001b[0m\u001b[0;34m\u001b[0m\u001b[0m\n\u001b[0;32m--> 224\u001b[0;31m                                'PyQt' % [b[0] for b in CORE_BACKENDS])\n\u001b[0m\u001b[1;32m    225\u001b[0m \u001b[0;34m\u001b[0m\u001b[0m\n\u001b[1;32m    226\u001b[0m         \u001b[0;31m# Store classes for app backend and canvas backend\u001b[0m\u001b[0;34m\u001b[0m\u001b[0;34m\u001b[0m\u001b[0m\n",
        "\u001b[0;31mRuntimeError\u001b[0m: Could not import any of the backends. You need to install any of ['PyQt4', 'PyQt5', 'PySide', 'Pyglet', 'Glfw', 'SDL2', 'wx', 'EGL']. We recommend PyQt"
       ]
      }
     ],
     "prompt_number": 2
    },
    {
     "cell_type": "code",
     "collapsed": false,
     "input": [],
     "language": "python",
     "metadata": {},
     "outputs": []
    }
   ],
   "metadata": {}
  }
 ]
}