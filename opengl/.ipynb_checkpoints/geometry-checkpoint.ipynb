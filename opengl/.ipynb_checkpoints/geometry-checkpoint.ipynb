{
 "metadata": {
  "name": "",
  "signature": "sha256:dd94e50b4c076bf88d7176beccce6479c23c22f3d72e8c71347996382e7697ac"
 },
 "nbformat": 3,
 "nbformat_minor": 0,
 "worksheets": [
  {
   "cells": [
    {
     "cell_type": "code",
     "collapsed": false,
     "input": [
      "import OpenGL.GL as gl\n",
      "import OpenGL.GLUT as glut"
     ],
     "language": "python",
     "metadata": {},
     "outputs": [],
     "prompt_number": 2
    },
    {
     "cell_type": "code",
     "collapsed": false,
     "input": [
      "program = gl.glCreateProgram()"
     ],
     "language": "python",
     "metadata": {},
     "outputs": []
    },
    {
     "cell_type": "code",
     "collapsed": false,
     "input": [],
     "language": "python",
     "metadata": {},
     "outputs": []
    }
   ],
   "metadata": {}
  }
 ]
}