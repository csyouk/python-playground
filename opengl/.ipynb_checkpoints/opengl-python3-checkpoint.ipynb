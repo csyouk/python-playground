{
 "metadata": {
  "name": "",
  "signature": "sha256:d0387e1a97c615a56b84fbadcee497bb9b047e0006d3b7480fba983e50a2b103"
 },
 "nbformat": 3,
 "nbformat_minor": 0,
 "worksheets": [
  {
   "cells": [
    {
     "cell_type": "code",
     "collapsed": false,
     "input": [
      "import pygame\n",
      "import OpenGL\n"
     ],
     "language": "python",
     "metadata": {},
     "outputs": [],
     "prompt_number": 1
    },
    {
     "cell_type": "code",
     "collapsed": false,
     "input": [
      "from OpenGL.GL import *\n",
      "from OpenGL.GLU import *"
     ],
     "language": "python",
     "metadata": {},
     "outputs": [],
     "prompt_number": 2
    },
    {
     "cell_type": "code",
     "collapsed": false,
     "input": [
      "vertices = (\n",
      "    (1, -1, -1),\n",
      "    (1, 1, -1),\n",
      "    (-1, 1, -1),\n",
      "    (-1, -1, -1),\n",
      "    (1, -1, 1),\n",
      "    (1, 1, 1),\n",
      "    (-1, -1, 1),\n",
      "    (-1, 1, 1)\n",
      "    )"
     ],
     "language": "python",
     "metadata": {},
     "outputs": [],
     "prompt_number": 3
    },
    {
     "cell_type": "code",
     "collapsed": false,
     "input": [
      "edges = (\n",
      "    (0,1),\n",
      "    (0,3),\n",
      "    (0,4),\n",
      "    (2,1),\n",
      "    (2,3),\n",
      "    (2,7),\n",
      "    (6,3),\n",
      "    (6,4),\n",
      "    (6,7),\n",
      "    (5,1),\n",
      "    (5,4),\n",
      "    (5,7),\n",
      "    (1,6),\n",
      "    (2,4),\n",
      "    (0,7),\n",
      "    (3,5)\n",
      "    )"
     ],
     "language": "python",
     "metadata": {},
     "outputs": [],
     "prompt_number": 4
    },
    {
     "cell_type": "code",
     "collapsed": false,
     "input": [
      "def Cube():\n",
      "    glBegin(GL_LINES)\n",
      "    for edge in edges:\n",
      "        for vertex in edge:\n",
      "            glVertex3fv(vertices[vertex])\n",
      "    glEnd()"
     ],
     "language": "python",
     "metadata": {},
     "outputs": [],
     "prompt_number": 5
    },
    {
     "cell_type": "code",
     "collapsed": false,
     "input": [
      "def main():\n",
      "    pygame.init()\n",
      "    display = (800,600)\n",
      "    pygame.display.set_mode(display, pygame.DOUBLEBUF|pygame.OPENGL)\n",
      "    \n",
      "    gluPerspective(45, (display[0]/display[1]), 0.1, 50.0)\n",
      "\n",
      "    glTranslatef(0.0,0.0, -5)\n",
      "\n",
      "    while True:\n",
      "        for event in pygame.event.get():\n",
      "            if event.type == pygame.QUIT:\n",
      "                pygame.quit()\n",
      "                quit()\n",
      "\n",
      "#         glRotatef(1, 3, 1, 1)\n",
      "        glRotatef(1, 1, 1, 1)\n",
      "        glClear(GL_COLOR_BUFFER_BIT|GL_DEPTH_BUFFER_BIT)\n",
      "        Cube()\n",
      "        pygame.display.flip()\n",
      "        pygame.time.wait(10)\n",
      "\n",
      "main()"
     ],
     "language": "python",
     "metadata": {},
     "outputs": []
    },
    {
     "cell_type": "code",
     "collapsed": false,
     "input": [],
     "language": "python",
     "metadata": {},
     "outputs": [],
     "prompt_number": 11
    },
    {
     "cell_type": "code",
     "collapsed": false,
     "input": [],
     "language": "python",
     "metadata": {},
     "outputs": []
    }
   ],
   "metadata": {}
  }
 ]
}