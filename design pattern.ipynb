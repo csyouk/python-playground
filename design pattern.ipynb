{
 "metadata": {
  "name": "",
  "signature": "sha256:829a797cfb05c629dd31104a8609c1cca3101cbf145dd9d90ac43e864168be0c"
 },
 "nbformat": 3,
 "nbformat_minor": 0,
 "worksheets": [
  {
   "cells": [
    {
     "cell_type": "code",
     "collapsed": false,
     "input": [
      "class Borg(object):\n",
      "    _shared_state = {}\n",
      "    def __new__(cls, *a, **k):\n",
      "        obj = super(Borg, cls).__new__(cls, *a, **k)\n",
      "        obj.__dict__ = cls._shared_state\n",
      "        return obj\n",
      "    \n",
      "class Foo(Borg): pass\n",
      "\n",
      "class Bar(Foo): pass\n",
      "\n",
      "class Baz(Foo): _shared_state = {}\n",
      "    \n",
      "print(Borg, Foo, Bar, Baz)"
     ],
     "language": "python",
     "metadata": {},
     "outputs": [
      {
       "output_type": "stream",
       "stream": "stdout",
       "text": [
        "<class '__main__.Borg'> <class '__main__.Foo'> <class '__main__.Bar'> <class '__main__.Baz'>\n"
       ]
      }
     ],
     "prompt_number": 4
    },
    {
     "cell_type": "code",
     "collapsed": false,
     "input": [],
     "language": "python",
     "metadata": {},
     "outputs": []
    }
   ],
   "metadata": {}
  }
 ]
}