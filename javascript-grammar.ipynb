{
 "metadata": {
  "name": "",
  "signature": "sha256:daf6150706331d135cd4aae0acdb3d9f49da8ac3baf061b59cfce930aad5ab46"
 },
 "nbformat": 3,
 "nbformat_minor": 0,
 "worksheets": [
  {
   "cells": [
    {
     "cell_type": "code",
     "collapsed": false,
     "input": [
      "%%javascript\n",
      "var myvar = 3;\n",
      "element.append(myvar)"
     ],
     "language": "python",
     "metadata": {},
     "outputs": [
      {
       "javascript": [
        "var myvar = 3;\n",
        "element.append(myvar)"
       ],
       "metadata": {},
       "output_type": "display_data",
       "text": [
        "<IPython.core.display.Javascript at 0x1043cfa58>"
       ]
      }
     ],
     "prompt_number": 5
    },
    {
     "cell_type": "code",
     "collapsed": false,
     "input": [
      "var dog = function(name, age){\n",
      "    return {\n",
      "        name:name,\n",
      "        age:age\n",
      "    }\n",
      "}"
     ],
     "language": "python",
     "metadata": {},
     "outputs": []
    }
   ],
   "metadata": {}
  }
 ]
}