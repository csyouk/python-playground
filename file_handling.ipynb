{
 "cells": [
  {
   "cell_type": "code",
   "execution_count": 15,
   "metadata": {
    "collapsed": false
   },
   "outputs": [
    {
     "name": "stdout",
     "output_type": "stream",
     "text": [
      "['12.3[1, 2, 3, 4]\\n', '\\n', '284924kj23jgj2hf3h234j2h5j23g46j23hgjk523hg45h23v523f5jh23gf5jh23gf523gf5j 23jh4gk23jh4gjk2h4\\n', '\\n', '23k4j5h23jk45g2j3kh45 32jkh45jk234h5j23\\n', 'hello world\\n', '      sdfsdfs\\n', 'this is not a\"\\n', 'godgodgod\\n']\n",
      "\n",
      " enter\n",
      "\n",
      " enter\n"
     ]
    }
   ],
   "source": [
    "with open(\"test.txt\",'r', encoding='utf-8') as f:\n",
    "    lines = f.readlines()"
   ]
  },
  {
   "cell_type": "code",
   "execution_count": null,
   "metadata": {
    "collapsed": true
   },
   "outputs": [],
   "source": []
  }
 ],
 "metadata": {
  "kernelspec": {
   "display_name": "Python 3",
   "language": "python",
   "name": "python3"
  },
  "language_info": {
   "codemirror_mode": {
    "name": "ipython",
    "version": 3
   },
   "file_extension": ".py",
   "mimetype": "text/x-python",
   "name": "python",
   "nbconvert_exporter": "python",
   "pygments_lexer": "ipython3",
   "version": "3.4.1"
  }
 },
 "nbformat": 4,
 "nbformat_minor": 0
}
