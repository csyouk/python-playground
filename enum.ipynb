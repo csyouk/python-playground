{
 "cells": [
  {
   "cell_type": "code",
   "execution_count": 3,
   "metadata": {
    "collapsed": false
   },
   "outputs": [
    {
     "name": "stdout",
     "output_type": "stream",
     "text": [
      "Color.red\n",
      "<Color.red: 1>\n",
      "red\n",
      "1\n"
     ]
    }
   ],
   "source": [
    "from enum import Enum\n",
    "class Color(Enum):\n",
    "    red = 1\n",
    "    green = 2\n",
    "    blue = 3\n",
    "\n",
    "print(Color.red)\n",
    "print(repr(Color.red))\n",
    "print(Color.red.name)\n",
    "print(Color.red.value)"
   ]
  },
  {
   "cell_type": "code",
   "execution_count": 8,
   "metadata": {
    "collapsed": true
   },
   "outputs": [],
   "source": [
    "class Planet(Enum):\n",
    "     MERCURY = (3.303e+23, 2.4397e6)\n",
    "     VENUS   = (4.869e+24, 6.0518e6)\n",
    "     EARTH   = (5.976e+24, 6.37814e6)\n",
    "     MARS    = (6.421e+23, 3.3972e6)\n",
    "     JUPITER = (1.9e+27,   7.1492e7)\n",
    "     SATURN  = (5.688e+26, 6.0268e7)\n",
    "     URANUS  = (8.686e+25, 2.5559e7)\n",
    "     NEPTUNE = (1.024e+26, 2.4746e7)\n",
    "    \n",
    "     def __init__(self, mass, radius):\n",
    "         self.mass = mass       # in kilograms\n",
    "         self.radius = radius   # in meters\n",
    "            \n",
    "     @property\n",
    "     def surface_gravity(self):\n",
    "         # universal gravitational constant  (m3 kg-1 s-2)\n",
    "         G = 6.67300E-11\n",
    "         return G * self.mass / (self.radius * self.radius)    "
   ]
  },
  {
   "cell_type": "code",
   "execution_count": 7,
   "metadata": {
    "collapsed": false
   },
   "outputs": [
    {
     "name": "stdout",
     "output_type": "stream",
     "text": [
      "Planet.MERCURY\n",
      "(5.976e+24, 6378140.0)\n",
      "9.802652743337129\n"
     ]
    }
   ],
   "source": [
    "print(Planet.MERCURY)\n",
    "print(Planet.EARTH.value)\n",
    "print(Planet.EARTH.surface_gravity)"
   ]
  },
  {
   "cell_type": "code",
   "execution_count": null,
   "metadata": {
    "collapsed": true
   },
   "outputs": [],
   "source": []
  }
 ],
 "metadata": {
  "kernelspec": {
   "display_name": "Python 3",
   "language": "python",
   "name": "python3"
  },
  "language_info": {
   "codemirror_mode": {
    "name": "ipython",
    "version": 3
   },
   "file_extension": ".py",
   "mimetype": "text/x-python",
   "name": "python",
   "nbconvert_exporter": "python",
   "pygments_lexer": "ipython3",
   "version": "3.4.1"
  }
 },
 "nbformat": 4,
 "nbformat_minor": 0
}
