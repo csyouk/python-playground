{
 "metadata": {
  "name": "",
  "signature": "sha256:1cdffffec45de157a34fe9060352a164a0bce776ae24c52d5ed6c74d5b746b19"
 },
 "nbformat": 3,
 "nbformat_minor": 0,
 "worksheets": [
  {
   "cells": [
    {
     "cell_type": "code",
     "collapsed": false,
     "input": [
      "from random import randint\n",
      "from math import ceil\n",
      "\n",
      "def creat_id():\n",
      "    digits = []\n",
      "    number = randint(100000,999999)\n",
      "    print(\"input\", number)\n",
      "    while number:\n",
      "        digit = number%10\n",
      "        digits.append(digit)\n",
      "        number = number - digit\n",
      "        number /=10\n",
      "        number = int(number)\n",
      "        if not number:\n",
      "            if len(set(digits)) != 6: return creat_id()\n",
      "            else: return int(''.join(map(str, digits[::-1])))\n",
      "# L[::-1]\n",
      "# num = int(''.join(map(str,numList)))\n",
      "\n",
      "a = creat_id()\n",
      "print(\"a : \", a , type(a))"
     ],
     "language": "python",
     "metadata": {},
     "outputs": [
      {
       "output_type": "stream",
       "stream": "stdout",
       "text": [
        "input 662070\n",
        "input 448151\n",
        "input 523006\n",
        "input 413345\n",
        "input 776058\n",
        "input 801877\n",
        "input 459884\n",
        "input 320859\n",
        "a :  320859 <class 'int'>\n"
       ]
      }
     ],
     "prompt_number": 4
    },
    {
     "cell_type": "code",
     "collapsed": false,
     "input": [
      "print(dir(list))\n"
     ],
     "language": "python",
     "metadata": {},
     "outputs": [
      {
       "output_type": "stream",
       "stream": "stdout",
       "text": [
        "['__add__', '__class__', '__contains__', '__delattr__', '__delitem__', '__dir__', '__doc__', '__eq__', '__format__', '__ge__', '__getattribute__', '__getitem__', '__gt__', '__hash__', '__iadd__', '__imul__', '__init__', '__iter__', '__le__', '__len__', '__lt__', '__mul__', '__ne__', '__new__', '__reduce__', '__reduce_ex__', '__repr__', '__reversed__', '__rmul__', '__setattr__', '__setitem__', '__sizeof__', '__str__', '__subclasshook__', 'append', 'clear', 'copy', 'count', 'extend', 'index', 'insert', 'pop', 'remove', 'reverse', 'sort']\n"
       ]
      }
     ],
     "prompt_number": 137
    },
    {
     "cell_type": "code",
     "collapsed": false,
     "input": [
      "bottom(3.14)"
     ],
     "language": "python",
     "metadata": {},
     "outputs": [
      {
       "ename": "NameError",
       "evalue": "name 'bottom' is not defined",
       "output_type": "pyerr",
       "traceback": [
        "\u001b[0;31m---------------------------------------------------------------------------\u001b[0m\n\u001b[0;31mNameError\u001b[0m                                 Traceback (most recent call last)",
        "\u001b[0;32m<ipython-input-79-b50024d02e42>\u001b[0m in \u001b[0;36m<module>\u001b[0;34m()\u001b[0m\n\u001b[0;32m----> 1\u001b[0;31m \u001b[0mbottom\u001b[0m\u001b[0;34m(\u001b[0m\u001b[0;36m3.14\u001b[0m\u001b[0;34m)\u001b[0m\u001b[0;34m\u001b[0m\u001b[0m\n\u001b[0m",
        "\u001b[0;31mNameError\u001b[0m: name 'bottom' is not defined"
       ]
      }
     ],
     "prompt_number": 79
    },
    {
     "cell_type": "code",
     "collapsed": false,
     "input": [
      "'T' if not 0 else 'F'"
     ],
     "language": "python",
     "metadata": {},
     "outputs": [
      {
       "metadata": {},
       "output_type": "pyout",
       "prompt_number": 51,
       "text": [
        "'T'"
       ]
      }
     ],
     "prompt_number": 51
    },
    {
     "cell_type": "code",
     "collapsed": false,
     "input": [
      "len({5,3,2,2})"
     ],
     "language": "python",
     "metadata": {},
     "outputs": [
      {
       "metadata": {},
       "output_type": "pyout",
       "prompt_number": 61,
       "text": [
        "3"
       ]
      }
     ],
     "prompt_number": 61
    },
    {
     "cell_type": "code",
     "collapsed": false,
     "input": [
      "print(dir(set))"
     ],
     "language": "python",
     "metadata": {},
     "outputs": [
      {
       "output_type": "stream",
       "stream": "stdout",
       "text": [
        "['__and__', '__class__', '__contains__', '__delattr__', '__dir__', '__doc__', '__eq__', '__format__', '__ge__', '__getattribute__', '__gt__', '__hash__', '__iand__', '__init__', '__ior__', '__isub__', '__iter__', '__ixor__', '__le__', '__len__', '__lt__', '__ne__', '__new__', '__or__', '__rand__', '__reduce__', '__reduce_ex__', '__repr__', '__ror__', '__rsub__', '__rxor__', '__setattr__', '__sizeof__', '__str__', '__sub__', '__subclasshook__', '__xor__', 'add', 'clear', 'copy', 'difference', 'difference_update', 'discard', 'intersection', 'intersection_update', 'isdisjoint', 'issubset', 'issuperset', 'pop', 'remove', 'symmetric_difference', 'symmetric_difference_update', 'union', 'update']\n"
       ]
      }
     ],
     "prompt_number": 60
    },
    {
     "cell_type": "code",
     "collapsed": false,
     "input": [
      "import datetime\n",
      "datetime.datetime.now()\n",
      "datetime.datetime.now().strftime(\"%Y:%m:%d-%H:%M:%S\")\n",
      "# .strftime(\"%H:%M:%S\")"
     ],
     "language": "python",
     "metadata": {},
     "outputs": [
      {
       "metadata": {},
       "output_type": "pyout",
       "prompt_number": 176,
       "text": [
        "'2015:06:24-17:31:10'"
       ]
      }
     ],
     "prompt_number": 176
    },
    {
     "cell_type": "code",
     "collapsed": false,
     "input": [
      "1 in [1,2,3]\n",
      "[i[\"u\"] for i in [{\"a\":1, \"u\":2},{\"a\":1, \"u\":3},{\"a\":1, \"u\":4},{\"a\":1, \"u\":5},{\"a\":1, \"u\":6}]]"
     ],
     "language": "python",
     "metadata": {},
     "outputs": [
      {
       "metadata": {},
       "output_type": "pyout",
       "prompt_number": 179,
       "text": [
        "[2, 3, 4, 5, 6]"
       ]
      }
     ],
     "prompt_number": 179
    },
    {
     "cell_type": "code",
     "collapsed": false,
     "input": [
      "number = 12345678900987654321\n",
      "\n",
      "odd_digits = []\n",
      "while number:\n",
      "    digit = number%10\n",
      "    if digit%2 != 0: odd_digits.append(digit)\n",
      "    number = number - digit\n",
      "    print(\"---\", number/10)\n",
      "    number = int(number/10)\n",
      "    print(\"--\", number)\n",
      "print(odd_digits)\n",
      "result = 0\n",
      "while odd_digits:\n",
      "    result += odd_digits.pop()\n",
      "print(result)"
     ],
     "language": "python",
     "metadata": {},
     "outputs": [
      {
       "output_type": "stream",
       "stream": "stdout",
       "text": [
        "--- 1.2345678900987653e+18\n",
        "-- 1234567890098765312\n",
        "--- 1.2345678900987653e+17\n",
        "-- 123456789009876528\n",
        "--- 1.2345678900987652e+16\n",
        "-- 12345678900987652\n",
        "--- 1234567890098765.0\n",
        "-- 1234567890098765\n",
        "--- 123456789009876.0\n",
        "-- 123456789009876\n",
        "--- 12345678900987.0\n",
        "-- 12345678900987\n",
        "--- 1234567890098.0\n",
        "-- 1234567890098\n",
        "--- 123456789009.0\n",
        "-- 123456789009\n",
        "--- 12345678900.0\n",
        "-- 12345678900\n",
        "--- 1234567890.0\n",
        "-- 1234567890\n",
        "--- 123456789.0\n",
        "-- 123456789\n",
        "--- 12345678.0\n",
        "-- 12345678\n",
        "--- 1234567.0\n",
        "-- 1234567\n",
        "--- 123456.0\n",
        "-- 123456\n",
        "--- 12345.0\n",
        "-- 12345\n",
        "--- 1234.0\n",
        "-- 1234\n",
        "--- 123.0\n",
        "-- 123\n",
        "--- 12.0\n",
        "-- 12\n",
        "--- 1.0\n",
        "-- 1\n",
        "--- 0.0\n",
        "-- 0\n",
        "[1, 5, 7, 9, 9, 7, 5, 3, 1]\n",
        "47\n"
       ]
      }
     ],
     "prompt_number": 37
    },
    {
     "cell_type": "code",
     "collapsed": false,
     "input": [
      "number = 12345678900987654321\n",
      "odd_digits = [int(i) for i in str(number) if int(i)%2 !=0]\n",
      "odd_sum = sum(odd_digits)"
     ],
     "language": "python",
     "metadata": {},
     "outputs": [
      {
       "output_type": "stream",
       "stream": "stdout",
       "text": [
        "[1, 3, 5, 7, 9, 9, 7, 5, 3, 1]\n",
        "50\n"
       ]
      }
     ],
     "prompt_number": 29
    },
    {
     "cell_type": "code",
     "collapsed": false,
     "input": [
      "number = 12345678900987654321\n",
      "figures=1\n",
      "number_figure = len(str(number))\n"
     ],
     "language": "python",
     "metadata": {},
     "outputs": [],
     "prompt_number": 5
    },
    {
     "cell_type": "code",
     "collapsed": false,
     "input": [
      "keys = [\"a\",\"b\",\"c\",\"d\"]\n",
      "print(keys.index(\"a\"))\n",
      "# (lambda x:keys.index(x))(keys)\n",
      "f = lambda x: x**2 + 2*x - 5\n",
      "f(10)"
     ],
     "language": "python",
     "metadata": {},
     "outputs": [
      {
       "output_type": "stream",
       "stream": "stdout",
       "text": [
        "0\n"
       ]
      },
      {
       "metadata": {},
       "output_type": "pyout",
       "prompt_number": 9,
       "text": [
        "115"
       ]
      }
     ],
     "prompt_number": 9
    },
    {
     "cell_type": "code",
     "collapsed": false,
     "input": [
      "for i in range(10):\n",
      "    print(i)"
     ],
     "language": "python",
     "metadata": {},
     "outputs": [
      {
       "output_type": "stream",
       "stream": "stdout",
       "text": [
        "0\n",
        "1\n",
        "2\n",
        "3\n",
        "4\n",
        "5\n",
        "6\n",
        "7\n",
        "8\n",
        "9\n"
       ]
      }
     ],
     "prompt_number": 10
    },
    {
     "cell_type": "code",
     "collapsed": false,
     "input": [
      "class Test():\n",
      "    __sub = None\n",
      "    __mareo = 123\n",
      "    _oneUnder = 143\n",
      "    def __init__(self):\n",
      "        print(\"init\")\n",
      "    name = \"wb\"\n",
      "    date = 142\n",
      "    \n",
      "    @classmethod\n",
      "    def me(cls, **kwargs):\n",
      "        return kwargs\n",
      "    \n",
      "    @property\n",
      "    def pro(self, **kwargs):\n",
      "        return kwargs\n",
      "    \n",
      "    @pro.setter\n",
      "    def pro(self, value):\n",
      "        return value\n",
      "    \n",
      "    def default(self):\n",
      "        return \"default\"\n",
      "    \n",
      "print(dir(Test))\n",
      "Test.pro = 33\n",
      "print(Test.pro)\n",
      "print(Test())\n",
      "\n",
      "t = Test()\n",
      "t.height = 173\n",
      "print(dir(t))\n",
      "\n",
      "print(t.default())\n",
      "print(Test.default(t))"
     ],
     "language": "python",
     "metadata": {},
     "outputs": [
      {
       "output_type": "stream",
       "stream": "stdout",
       "text": [
        "['_Test__mareo', '_Test__sub', '__class__', '__delattr__', '__dict__', '__dir__', '__doc__', '__eq__', '__format__', '__ge__', '__getattribute__', '__gt__', '__hash__', '__init__', '__le__', '__lt__', '__module__', '__ne__', '__new__', '__reduce__', '__reduce_ex__', '__repr__', '__setattr__', '__sizeof__', '__str__', '__subclasshook__', '__weakref__', '_oneUnder', 'date', 'default', 'me', 'name', 'pro']\n",
        "33\n",
        "init\n",
        "<__main__.Test object at 0x104ef4eb8>\n",
        "init\n",
        "['_Test__mareo', '_Test__sub', '__class__', '__delattr__', '__dict__', '__dir__', '__doc__', '__eq__', '__format__', '__ge__', '__getattribute__', '__gt__', '__hash__', '__init__', '__le__', '__lt__', '__module__', '__ne__', '__new__', '__reduce__', '__reduce_ex__', '__repr__', '__setattr__', '__sizeof__', '__str__', '__subclasshook__', '__weakref__', '_oneUnder', 'date', 'default', 'height', 'me', 'name', 'pro']\n",
        "default\n",
        "default\n"
       ]
      }
     ],
     "prompt_number": 24
    },
    {
     "cell_type": "code",
     "collapsed": false,
     "input": [
      "from datetime import datetime\n",
      "from time import time\n",
      "datetime.fromtimestamp(int(time())).strftime(\"%Y-%m-%d-%H-%M-%S\").split(\"-\")"
     ],
     "language": "python",
     "metadata": {},
     "outputs": [
      {
       "metadata": {},
       "output_type": "pyout",
       "prompt_number": 1,
       "text": [
        "['2015', '07', '09', '15', '32', '23']"
       ]
      }
     ],
     "prompt_number": 1
    },
    {
     "cell_type": "code",
     "collapsed": false,
     "input": [
      "a = {\"a\":\"b\", \"c\":\"d\"}\n",
      "a.pop(\"a\")\n",
      "del a[\"c\"]\n",
      "print(a)"
     ],
     "language": "python",
     "metadata": {},
     "outputs": [
      {
       "output_type": "stream",
       "stream": "stdout",
       "text": [
        "{}\n"
       ]
      }
     ],
     "prompt_number": 5
    },
    {
     "cell_type": "code",
     "collapsed": false,
     "input": [
      "def test():\n",
      "    print(\"invoked\")\n",
      "    \n",
      "del test\n",
      "test()"
     ],
     "language": "python",
     "metadata": {},
     "outputs": [
      {
       "ename": "NameError",
       "evalue": "name 'test' is not defined",
       "output_type": "pyerr",
       "traceback": [
        "\u001b[0;31m---------------------------------------------------------------------------\u001b[0m\n\u001b[0;31mNameError\u001b[0m                                 Traceback (most recent call last)",
        "\u001b[0;32m<ipython-input-8-68c00f4907e1>\u001b[0m in \u001b[0;36m<module>\u001b[0;34m()\u001b[0m\n\u001b[1;32m      3\u001b[0m \u001b[0;34m\u001b[0m\u001b[0m\n\u001b[1;32m      4\u001b[0m \u001b[0;32mdel\u001b[0m \u001b[0mtest\u001b[0m\u001b[0;34m\u001b[0m\u001b[0m\n\u001b[0;32m----> 5\u001b[0;31m \u001b[0mtest\u001b[0m\u001b[0;34m(\u001b[0m\u001b[0;34m)\u001b[0m\u001b[0;34m\u001b[0m\u001b[0m\n\u001b[0m",
        "\u001b[0;31mNameError\u001b[0m: name 'test' is not defined"
       ]
      }
     ],
     "prompt_number": 8
    },
    {
     "cell_type": "code",
     "collapsed": false,
     "input": [
      "class FloorPlay:\n",
      "    def test(self):\n",
      "        print(\"test\")\n",
      "        \n",
      "f = FloorPlay()\n",
      "print(f.__class__.__name__)\n",
      "print(FloorPlay().__class__.__name__)\n",
      "\n",
      "class Play(FloorPlay):\n",
      "    def init(self, sheet_name):\n",
      "        print(sheet_name)\n",
      "        \n",
      "a = Play()\n",
      "a.__class__.__name__.lower()\n",
      "print(a)\n",
      "a.init(a)"
     ],
     "language": "python",
     "metadata": {},
     "outputs": [
      {
       "output_type": "stream",
       "stream": "stdout",
       "text": [
        "FloorPlay\n",
        "FloorPlay\n",
        "<__main__.Play object at 0x104e74a90>\n",
        "<__main__.Play object at 0x104e74a90>\n"
       ]
      }
     ],
     "prompt_number": 20
    },
    {
     "cell_type": "code",
     "collapsed": false,
     "input": [
      "dir(\"str\")\n",
      "\"STR\".lower()"
     ],
     "language": "python",
     "metadata": {},
     "outputs": [
      {
       "metadata": {},
       "output_type": "pyout",
       "prompt_number": 11,
       "text": [
        "'str'"
       ]
      }
     ],
     "prompt_number": 11
    },
    {
     "cell_type": "code",
     "collapsed": false,
     "input": [
      "def test_tuple():\n",
      "    return (0,1,2)\n",
      "\n",
      "result = test_tuple()\n",
      "print(result[0])\n",
      "print(result[1])\n",
      "print(result[2])"
     ],
     "language": "python",
     "metadata": {},
     "outputs": [
      {
       "output_type": "stream",
       "stream": "stdout",
       "text": [
        "0\n",
        "1\n",
        "2\n"
       ]
      }
     ],
     "prompt_number": 21
    },
    {
     "cell_type": "code",
     "collapsed": false,
     "input": [
      "True and True"
     ],
     "language": "python",
     "metadata": {},
     "outputs": [
      {
       "metadata": {},
       "output_type": "pyout",
       "prompt_number": 22,
       "text": [
        "True"
       ]
      }
     ],
     "prompt_number": 22
    },
    {
     "cell_type": "code",
     "collapsed": false,
     "input": [
      "False and True"
     ],
     "language": "python",
     "metadata": {},
     "outputs": [
      {
       "metadata": {},
       "output_type": "pyout",
       "prompt_number": 23,
       "text": [
        "False"
       ]
      }
     ],
     "prompt_number": 23
    },
    {
     "cell_type": "code",
     "collapsed": false,
     "input": [
      "def card_set(): return 3\n",
      "card_set() if 2 > 0"
     ],
     "language": "python",
     "metadata": {},
     "outputs": [
      {
       "ename": "SyntaxError",
       "evalue": "invalid syntax (<ipython-input-26-f873283e8ad9>, line 2)",
       "output_type": "pyerr",
       "traceback": [
        "\u001b[0;36m  File \u001b[0;32m\"<ipython-input-26-f873283e8ad9>\"\u001b[0;36m, line \u001b[0;32m2\u001b[0m\n\u001b[0;31m    card_set() if 2 > 0\u001b[0m\n\u001b[0m                       ^\u001b[0m\n\u001b[0;31mSyntaxError\u001b[0m\u001b[0;31m:\u001b[0m invalid syntax\n"
       ]
      }
     ],
     "prompt_number": 26
    },
    {
     "cell_type": "code",
     "collapsed": false,
     "input": [
      "from collections import deque\n",
      "que = deque([])\n",
      "que.append(\"one\")\n",
      "que.append(\"two\")\n",
      "que.append(\"three\")\n",
      "print(dir(que))\n",
      "print(que.popleft())\n"
     ],
     "language": "python",
     "metadata": {},
     "outputs": [
      {
       "output_type": "stream",
       "stream": "stdout",
       "text": [
        "['__class__', '__copy__', '__delattr__', '__delitem__', '__dir__', '__doc__', '__eq__', '__format__', '__ge__', '__getattribute__', '__getitem__', '__gt__', '__hash__', '__iadd__', '__init__', '__iter__', '__le__', '__len__', '__lt__', '__ne__', '__new__', '__reduce__', '__reduce_ex__', '__repr__', '__reversed__', '__setattr__', '__setitem__', '__sizeof__', '__str__', '__subclasshook__', 'append', 'appendleft', 'clear', 'count', 'extend', 'extendleft', 'maxlen', 'pop', 'popleft', 'remove', 'reverse', 'rotate']\n",
        "one\n"
       ]
      }
     ],
     "prompt_number": 4
    },
    {
     "cell_type": "code",
     "collapsed": false,
     "input": [
      "def heap_parent(i): return int((i-1)/2)\n",
      "\n",
      "def heap_left_child(i): return"
     ],
     "language": "python",
     "metadata": {},
     "outputs": []
    }
   ],
   "metadata": {}
  }
 ]
}