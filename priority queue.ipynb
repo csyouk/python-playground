{
 "cells": [
  {
   "cell_type": "code",
   "execution_count": 35,
   "metadata": {
    "collapsed": true
   },
   "outputs": [],
   "source": [
    "class BinaryTree:\n",
    "    \n",
    "    def __init__(self, left=None, right=None):\n",
    "        self._left = left\n",
    "        self._right = right\n",
    "        \n",
    "    def __get__(self, instance, owner):\n",
    "        return getattr(instance, 'binarytree')\n",
    "    \n",
    "    def __getattr__(self, name):\n",
    "        print(name)\n",
    "    \n",
    "    @property\n",
    "    def left(self):\n",
    "        return self._left\n",
    "    \n",
    "    @left.setter\n",
    "    def left(self, value):\n",
    "        self._left = value\n",
    "        "
   ]
  },
  {
   "cell_type": "code",
   "execution_count": 36,
   "metadata": {
    "collapsed": false
   },
   "outputs": [
    {
     "data": {
      "text/plain": [
       "3"
      ]
     },
     "execution_count": 36,
     "metadata": {},
     "output_type": "execute_result"
    }
   ],
   "source": [
    "tree = BinaryTree()\n",
    "tree.left = 3\n",
    "tree.left"
   ]
  },
  {
   "cell_type": "code",
   "execution_count": 37,
   "metadata": {
    "collapsed": false
   },
   "outputs": [
    {
     "name": "stdout",
     "output_type": "stream",
     "text": [
      "name\n"
     ]
    }
   ],
   "source": [
    "tree.name"
   ]
  },
  {
   "cell_type": "code",
   "execution_count": 38,
   "metadata": {
    "collapsed": false
   },
   "outputs": [
    {
     "data": {
      "text/plain": [
       "['__class__',\n",
       " '__delattr__',\n",
       " '__dict__',\n",
       " '__dir__',\n",
       " '__doc__',\n",
       " '__eq__',\n",
       " '__format__',\n",
       " '__ge__',\n",
       " '__get__',\n",
       " '__getattr__',\n",
       " '__getattribute__',\n",
       " '__gt__',\n",
       " '__hash__',\n",
       " '__init__',\n",
       " '__le__',\n",
       " '__lt__',\n",
       " '__module__',\n",
       " '__ne__',\n",
       " '__new__',\n",
       " '__reduce__',\n",
       " '__reduce_ex__',\n",
       " '__repr__',\n",
       " '__setattr__',\n",
       " '__sizeof__',\n",
       " '__str__',\n",
       " '__subclasshook__',\n",
       " '__weakref__',\n",
       " '_left',\n",
       " '_right',\n",
       " 'left']"
      ]
     },
     "execution_count": 38,
     "metadata": {},
     "output_type": "execute_result"
    }
   ],
   "source": [
    "dir(tree)"
   ]
  },
  {
   "cell_type": "code",
   "execution_count": 24,
   "metadata": {
    "collapsed": true
   },
   "outputs": [],
   "source": [
    "class Rating():\n",
    "    def __init__(self, rating=3):\n",
    "        self.rating = rating\n",
    "\n",
    "    def __set__(self, instance, value):\n",
    "        if value < 0 or value > 5:\n",
    "            raise ValueError('rating must be 0~5')\n",
    "        else:\n",
    "            setattr(instance, 'rating', value)\n",
    "\n",
    "    def __get__(self, instance, owner):\n",
    "        print(instance, owner)\n",
    "        print(isinstance(instance, owner))\n",
    "        return getattr(instance, 'rating')\n",
    "\n",
    "class MovieReview():\n",
    "    story = Rating()\n",
    "    acting = Rating()\n",
    "    fun = Rating()"
   ]
  },
  {
   "cell_type": "code",
   "execution_count": 26,
   "metadata": {
    "collapsed": false
   },
   "outputs": [
    {
     "name": "stdout",
     "output_type": "stream",
     "text": [
      "<__main__.MovieReview object at 0x104a18438> <class '__main__.MovieReview'>\n",
      "True\n"
     ]
    },
    {
     "ename": "AttributeError",
     "evalue": "'MovieReview' object has no attribute 'rating'",
     "output_type": "error",
     "traceback": [
      "\u001b[0;31m---------------------------------------------------------------------------\u001b[0m",
      "\u001b[0;31mAttributeError\u001b[0m                            Traceback (most recent call last)",
      "\u001b[0;32m<ipython-input-26-fd8f2c9fb12a>\u001b[0m in \u001b[0;36m<module>\u001b[0;34m()\u001b[0m\n\u001b[1;32m      1\u001b[0m \u001b[0ma\u001b[0m \u001b[0;34m=\u001b[0m \u001b[0mMovieReview\u001b[0m\u001b[0;34m(\u001b[0m\u001b[0;34m)\u001b[0m\u001b[0;34m\u001b[0m\u001b[0m\n\u001b[0;32m----> 2\u001b[0;31m \u001b[0ma\u001b[0m\u001b[0;34m.\u001b[0m\u001b[0macting\u001b[0m\u001b[0;34m\u001b[0m\u001b[0m\n\u001b[0m",
      "\u001b[0;32m<ipython-input-24-7098ab15fcef>\u001b[0m in \u001b[0;36m__get__\u001b[0;34m(self, instance, owner)\u001b[0m\n\u001b[1;32m     12\u001b[0m         \u001b[0mprint\u001b[0m\u001b[0;34m(\u001b[0m\u001b[0minstance\u001b[0m\u001b[0;34m,\u001b[0m \u001b[0mowner\u001b[0m\u001b[0;34m)\u001b[0m\u001b[0;34m\u001b[0m\u001b[0m\n\u001b[1;32m     13\u001b[0m         \u001b[0mprint\u001b[0m\u001b[0;34m(\u001b[0m\u001b[0misinstance\u001b[0m\u001b[0;34m(\u001b[0m\u001b[0minstance\u001b[0m\u001b[0;34m,\u001b[0m \u001b[0mowner\u001b[0m\u001b[0;34m)\u001b[0m\u001b[0;34m)\u001b[0m\u001b[0;34m\u001b[0m\u001b[0m\n\u001b[0;32m---> 14\u001b[0;31m         \u001b[0;32mreturn\u001b[0m \u001b[0mgetattr\u001b[0m\u001b[0;34m(\u001b[0m\u001b[0minstance\u001b[0m\u001b[0;34m,\u001b[0m \u001b[0;34m'rating'\u001b[0m\u001b[0;34m)\u001b[0m\u001b[0;34m\u001b[0m\u001b[0m\n\u001b[0m\u001b[1;32m     15\u001b[0m \u001b[0;34m\u001b[0m\u001b[0m\n\u001b[1;32m     16\u001b[0m \u001b[0;32mclass\u001b[0m \u001b[0mMovieReview\u001b[0m\u001b[0;34m(\u001b[0m\u001b[0;34m)\u001b[0m\u001b[0;34m:\u001b[0m\u001b[0;34m\u001b[0m\u001b[0m\n",
      "\u001b[0;31mAttributeError\u001b[0m: 'MovieReview' object has no attribute 'rating'"
     ]
    }
   ],
   "source": [
    "a = MovieReview()\n",
    "a.acting"
   ]
  },
  {
   "cell_type": "code",
   "execution_count": 41,
   "metadata": {
    "collapsed": false
   },
   "outputs": [
    {
     "data": {
      "text/plain": [
       "True"
      ]
     },
     "execution_count": 41,
     "metadata": {},
     "output_type": "execute_result"
    }
   ],
   "source": [
    "isinstance('a',str)"
   ]
  },
  {
   "cell_type": "code",
   "execution_count": 44,
   "metadata": {
    "collapsed": true
   },
   "outputs": [],
   "source": [
    "class Node:\n",
    "    def __init__(self, name):\n",
    "        self.name = name"
   ]
  },
  {
   "cell_type": "code",
   "execution_count": 48,
   "metadata": {
    "collapsed": false
   },
   "outputs": [
    {
     "name": "stdout",
     "output_type": "stream",
     "text": [
      "three\n",
      "one\n"
     ]
    }
   ],
   "source": [
    "from collections import deque\n",
    "que = deque([])\n",
    "\n",
    "que.append(Node(\"one\"))\n",
    "que.append(Node(\"two\"))\n",
    "que.append(Node(\"three\"))\n",
    "print(que.pop().name)\n",
    "print(que.popleft().name)"
   ]
  },
  {
   "cell_type": "code",
   "execution_count": 55,
   "metadata": {
    "collapsed": true
   },
   "outputs": [],
   "source": [
    "def heap_parent(i):\n",
    "    return int((i)/2)\n",
    "\n",
    "def heap_left_child(i):\n",
    "    return 2*i\n",
    "\n",
    "def heap_right_child(i):\n",
    "    return 2*i + 1"
   ]
  },
  {
   "cell_type": "code",
   "execution_count": 59,
   "metadata": {
    "collapsed": false
   },
   "outputs": [],
   "source": [
    "def heapify(A):\n",
    "    for i in range(int(len(A)/2)):\n",
    "        heapify_one(A, i)"
   ]
  },
  {
   "cell_type": "code",
   "execution_count": 60,
   "metadata": {
    "collapsed": true
   },
   "outputs": [],
   "source": [
    "def heapify_one(A, i, heapsize=None):\n",
    "    if heapsize is None:\n",
    "        heapsize = len(A)"
   ]
  },
  {
   "cell_type": "code",
   "execution_count": 61,
   "metadata": {
    "collapsed": false
   },
   "outputs": [],
   "source": [
    "heapify([3,2,1])"
   ]
  },
  {
   "cell_type": "code",
   "execution_count": 62,
   "metadata": {
    "collapsed": false
   },
   "outputs": [
    {
     "name": "stdout",
     "output_type": "stream",
     "text": [
      "[0, 1, 2, 3, 4, 5, 6, 7, 8, 9]\n",
      "__wrapped__\n",
      "__wrapped__\n"
     ]
    },
    {
     "data": {
      "text/plain": [
       "TestResults(failed=0, attempted=1)"
      ]
     },
     "execution_count": 62,
     "metadata": {},
     "output_type": "execute_result"
    }
   ],
   "source": [
    "\n",
    "\n",
    "__all__ = ['heappush', 'heappop', 'heapify', 'heapreplace', 'merge',\n",
    "           'nlargest', 'nsmallest', 'heappushpop']\n",
    "\n",
    "from itertools import islice, count, tee, chain\n",
    "\n",
    "def heappush(heap, item):\n",
    "    \"\"\"Push item onto heap, maintaining the heap invariant.\"\"\"\n",
    "    heap.append(item)\n",
    "    _siftdown(heap, 0, len(heap)-1)\n",
    "\n",
    "def heappop(heap):\n",
    "    \"\"\"Pop the smallest item off the heap, maintaining the heap invariant.\"\"\"\n",
    "    lastelt = heap.pop()    # raises appropriate IndexError if heap is empty\n",
    "    if heap:\n",
    "        returnitem = heap[0]\n",
    "        heap[0] = lastelt\n",
    "        _siftup(heap, 0)\n",
    "    else:\n",
    "        returnitem = lastelt\n",
    "    return returnitem\n",
    "\n",
    "def heapreplace(heap, item):\n",
    "    \"\"\"Pop and return the current smallest value, and add the new item.\n",
    "\n",
    "    This is more efficient than heappop() followed by heappush(), and can be\n",
    "    more appropriate when using a fixed-size heap.  Note that the value\n",
    "    returned may be larger than item!  That constrains reasonable uses of\n",
    "    this routine unless written as part of a conditional replacement:\n",
    "\n",
    "        if item > heap[0]:\n",
    "            item = heapreplace(heap, item)\n",
    "    \"\"\"\n",
    "    returnitem = heap[0]    # raises appropriate IndexError if heap is empty\n",
    "    heap[0] = item\n",
    "    _siftup(heap, 0)\n",
    "    return returnitem\n",
    "\n",
    "def heappushpop(heap, item):\n",
    "    \"\"\"Fast version of a heappush followed by a heappop.\"\"\"\n",
    "    if heap and heap[0] < item:\n",
    "        item, heap[0] = heap[0], item\n",
    "        _siftup(heap, 0)\n",
    "    return item\n",
    "\n",
    "def heapify(x):\n",
    "    \"\"\"Transform list into a heap, in-place, in O(len(x)) time.\"\"\"\n",
    "    n = len(x)\n",
    "    # Transform bottom-up.  The largest index there's any point to looking at\n",
    "    # is the largest with a child index in-range, so must have 2*i + 1 < n,\n",
    "    # or i < (n-1)/2.  If n is even = 2*j, this is (2*j-1)/2 = j-1/2 so\n",
    "    # j-1 is the largest, which is n//2 - 1.  If n is odd = 2*j+1, this is\n",
    "    # (2*j+1-1)/2 = j so j-1 is the largest, and that's again n//2-1.\n",
    "    for i in reversed(range(n//2)):\n",
    "        _siftup(x, i)\n",
    "\n",
    "def _heappushpop_max(heap, item):\n",
    "    \"\"\"Maxheap version of a heappush followed by a heappop.\"\"\"\n",
    "    if heap and item < heap[0]:\n",
    "        item, heap[0] = heap[0], item\n",
    "        _siftup_max(heap, 0)\n",
    "    return item\n",
    "\n",
    "def _heapify_max(x):\n",
    "    \"\"\"Transform list into a maxheap, in-place, in O(len(x)) time.\"\"\"\n",
    "    n = len(x)\n",
    "    for i in reversed(range(n//2)):\n",
    "        _siftup_max(x, i)\n",
    "\n",
    "def nlargest(n, iterable):\n",
    "    \"\"\"Find the n largest elements in a dataset.\n",
    "\n",
    "    Equivalent to:  sorted(iterable, reverse=True)[:n]\n",
    "    \"\"\"\n",
    "    if n < 0:\n",
    "        return []\n",
    "    it = iter(iterable)\n",
    "    result = list(islice(it, n))\n",
    "    if not result:\n",
    "        return result\n",
    "    heapify(result)\n",
    "    _heappushpop = heappushpop\n",
    "    for elem in it:\n",
    "        _heappushpop(result, elem)\n",
    "    result.sort(reverse=True)\n",
    "    return result\n",
    "\n",
    "def nsmallest(n, iterable):\n",
    "    \"\"\"Find the n smallest elements in a dataset.\n",
    "\n",
    "    Equivalent to:  sorted(iterable)[:n]\n",
    "    \"\"\"\n",
    "    if n < 0:\n",
    "        return []\n",
    "    it = iter(iterable)\n",
    "    result = list(islice(it, n))\n",
    "    if not result:\n",
    "        return result\n",
    "    _heapify_max(result)\n",
    "    _heappushpop = _heappushpop_max\n",
    "    for elem in it:\n",
    "        _heappushpop(result, elem)\n",
    "    result.sort()\n",
    "    return result\n",
    "\n",
    "# 'heap' is a heap at all indices >= startpos, except possibly for pos.  pos\n",
    "# is the index of a leaf with a possibly out-of-order value.  Restore the\n",
    "# heap invariant.\n",
    "def _siftdown(heap, startpos, pos):\n",
    "    newitem = heap[pos]\n",
    "    # Follow the path to the root, moving parents down until finding a place\n",
    "    # newitem fits.\n",
    "    while pos > startpos:\n",
    "        parentpos = (pos - 1) >> 1\n",
    "        parent = heap[parentpos]\n",
    "        if newitem < parent:\n",
    "            heap[pos] = parent\n",
    "            pos = parentpos\n",
    "            continue\n",
    "        break\n",
    "    heap[pos] = newitem\n",
    "\n",
    "\n",
    "def _siftup(heap, pos):\n",
    "    endpos = len(heap)\n",
    "    startpos = pos\n",
    "    newitem = heap[pos]\n",
    "    # Bubble up the smaller child until hitting a leaf.\n",
    "    childpos = 2*pos + 1    # leftmost child position\n",
    "    while childpos < endpos:\n",
    "        # Set childpos to index of smaller child.\n",
    "        rightpos = childpos + 1\n",
    "        if rightpos < endpos and not heap[childpos] < heap[rightpos]:\n",
    "            childpos = rightpos\n",
    "        # Move the smaller child up.\n",
    "        heap[pos] = heap[childpos]\n",
    "        pos = childpos\n",
    "        childpos = 2*pos + 1\n",
    "    # The leaf at pos is empty now.  Put newitem there, and bubble it up\n",
    "    # to its final resting place (by sifting its parents down).\n",
    "    heap[pos] = newitem\n",
    "    _siftdown(heap, startpos, pos)\n",
    "\n",
    "def _siftdown_max(heap, startpos, pos):\n",
    "    'Maxheap variant of _siftdown'\n",
    "    newitem = heap[pos]\n",
    "    # Follow the path to the root, moving parents down until finding a place\n",
    "    # newitem fits.\n",
    "    while pos > startpos:\n",
    "        parentpos = (pos - 1) >> 1\n",
    "        parent = heap[parentpos]\n",
    "        if parent < newitem:\n",
    "            heap[pos] = parent\n",
    "            pos = parentpos\n",
    "            continue\n",
    "        break\n",
    "    heap[pos] = newitem\n",
    "\n",
    "def _siftup_max(heap, pos):\n",
    "    'Maxheap variant of _siftup'\n",
    "    endpos = len(heap)\n",
    "    startpos = pos\n",
    "    newitem = heap[pos]\n",
    "    # Bubble up the larger child until hitting a leaf.\n",
    "    childpos = 2*pos + 1    # leftmost child position\n",
    "    while childpos < endpos:\n",
    "        # Set childpos to index of larger child.\n",
    "        rightpos = childpos + 1\n",
    "        if rightpos < endpos and not heap[rightpos] < heap[childpos]:\n",
    "            childpos = rightpos\n",
    "        # Move the larger child up.\n",
    "        heap[pos] = heap[childpos]\n",
    "        pos = childpos\n",
    "        childpos = 2*pos + 1\n",
    "    # The leaf at pos is empty now.  Put newitem there, and bubble it up\n",
    "    # to its final resting place (by sifting its parents down).\n",
    "    heap[pos] = newitem\n",
    "    _siftdown_max(heap, startpos, pos)\n",
    "\n",
    "# If available, use C implementation\n",
    "try:\n",
    "    from _heapq import *\n",
    "except ImportError:\n",
    "    pass\n",
    "\n",
    "def merge(*iterables):\n",
    "    '''Merge multiple sorted inputs into a single sorted output.\n",
    "\n",
    "    Similar to sorted(itertools.chain(*iterables)) but returns a generator,\n",
    "    does not pull the data into memory all at once, and assumes that each of\n",
    "    the input streams is already sorted (smallest to largest).\n",
    "\n",
    "    >>> list(merge([1,3,5,7], [0,2,4,8], [5,10,15,20], [], [25]))\n",
    "    [0, 1, 2, 3, 4, 5, 5, 7, 8, 10, 15, 20, 25]\n",
    "\n",
    "    '''\n",
    "    _heappop, _heapreplace, _StopIteration = heappop, heapreplace, StopIteration\n",
    "    _len = len\n",
    "\n",
    "    h = []\n",
    "    h_append = h.append\n",
    "    for itnum, it in enumerate(map(iter, iterables)):\n",
    "        try:\n",
    "            next = it.__next__\n",
    "            h_append([next(), itnum, next])\n",
    "        except _StopIteration:\n",
    "            pass\n",
    "    heapify(h)\n",
    "\n",
    "    while _len(h) > 1:\n",
    "        try:\n",
    "            while True:\n",
    "                v, itnum, next = s = h[0]\n",
    "                yield v\n",
    "                s[0] = next()               # raises StopIteration when exhausted\n",
    "                _heapreplace(h, s)          # restore heap condition\n",
    "        except _StopIteration:\n",
    "            _heappop(h)                     # remove empty iterator\n",
    "    if h:\n",
    "        # fast case when only a single iterator remains\n",
    "        v, itnum, next = h[0]\n",
    "        yield v\n",
    "        yield from next.__self__\n",
    "\n",
    "# Extend the implementations of nsmallest and nlargest to use a key= argument\n",
    "_nsmallest = nsmallest\n",
    "def nsmallest(n, iterable, key=None):\n",
    "    \"\"\"Find the n smallest elements in a dataset.\n",
    "\n",
    "    Equivalent to:  sorted(iterable, key=key)[:n]\n",
    "    \"\"\"\n",
    "    # Short-cut for n==1 is to use min() when len(iterable)>0\n",
    "    if n == 1:\n",
    "        it = iter(iterable)\n",
    "        head = list(islice(it, 1))\n",
    "        if not head:\n",
    "            return []\n",
    "        if key is None:\n",
    "            return [min(chain(head, it))]\n",
    "        return [min(chain(head, it), key=key)]\n",
    "\n",
    "    # When n>=size, it's faster to use sorted()\n",
    "    try:\n",
    "        size = len(iterable)\n",
    "    except (TypeError, AttributeError):\n",
    "        pass\n",
    "    else:\n",
    "        if n >= size:\n",
    "            return sorted(iterable, key=key)[:n]\n",
    "\n",
    "    # When key is none, use simpler decoration\n",
    "    if key is None:\n",
    "        it = zip(iterable, count())                         # decorate\n",
    "        result = _nsmallest(n, it)\n",
    "        return [r[0] for r in result]                       # undecorate\n",
    "\n",
    "    # General case, slowest method\n",
    "    in1, in2 = tee(iterable)\n",
    "    it = zip(map(key, in1), count(), in2)                   # decorate\n",
    "    result = _nsmallest(n, it)\n",
    "    return [r[2] for r in result]                           # undecorate\n",
    "\n",
    "_nlargest = nlargest\n",
    "def nlargest(n, iterable, key=None):\n",
    "    \"\"\"Find the n largest elements in a dataset.\n",
    "\n",
    "    Equivalent to:  sorted(iterable, key=key, reverse=True)[:n]\n",
    "    \"\"\"\n",
    "\n",
    "    # Short-cut for n==1 is to use max() when len(iterable)>0\n",
    "    if n == 1:\n",
    "        it = iter(iterable)\n",
    "        head = list(islice(it, 1))\n",
    "        if not head:\n",
    "            return []\n",
    "        if key is None:\n",
    "            return [max(chain(head, it))]\n",
    "        return [max(chain(head, it), key=key)]\n",
    "\n",
    "    # When n>=size, it's faster to use sorted()\n",
    "    try:\n",
    "        size = len(iterable)\n",
    "    except (TypeError, AttributeError):\n",
    "        pass\n",
    "    else:\n",
    "        if n >= size:\n",
    "            return sorted(iterable, key=key, reverse=True)[:n]\n",
    "\n",
    "    # When key is none, use simpler decoration\n",
    "    if key is None:\n",
    "        it = zip(iterable, count(0,-1))                     # decorate\n",
    "        result = _nlargest(n, it)\n",
    "        return [r[0] for r in result]                       # undecorate\n",
    "\n",
    "    # General case, slowest method\n",
    "    in1, in2 = tee(iterable)\n",
    "    it = zip(map(key, in1), count(0,-1), in2)               # decorate\n",
    "    result = _nlargest(n, it)\n",
    "    return [r[2] for r in result]                           # undecorate\n",
    "\n",
    "\n",
    "# Simple sanity test\n",
    "heap = []\n",
    "data = [1, 3, 5, 7, 9, 2, 4, 6, 8, 0]\n",
    "for item in data:\n",
    "    heappush(heap, item)\n",
    "sort = []\n",
    "while heap:\n",
    "    sort.append(heappop(heap))\n",
    "print(sort)\n",
    "\n",
    "import doctest\n",
    "doctest.testmod()\n"
   ]
  },
  {
   "cell_type": "code",
   "execution_count": 66,
   "metadata": {
    "collapsed": false
   },
   "outputs": [
    {
     "data": {
      "text/plain": [
       "7"
      ]
     },
     "execution_count": 66,
     "metadata": {},
     "output_type": "execute_result"
    }
   ],
   "source": [
    "30 >> 2"
   ]
  },
  {
   "cell_type": "code",
   "execution_count": 105,
   "metadata": {
    "collapsed": false
   },
   "outputs": [],
   "source": [
    "def bit(data, quotients):\n",
    "    if(not data // 2 ):\n",
    "        return \"\".join(map(lambda x:str(x), quotients.reverse()))\n",
    "    quotients.append(data % 2)\n",
    "    bit(data // 2, quotients)"
   ]
  },
  {
   "cell_type": "code",
   "execution_count": 106,
   "metadata": {
    "collapsed": false
   },
   "outputs": [
    {
     "data": {
      "text/plain": [
       "0"
      ]
     },
     "execution_count": 106,
     "metadata": {},
     "output_type": "execute_result"
    }
   ],
   "source": [
    "10 // 2\n",
    "10 % 2"
   ]
  },
  {
   "cell_type": "code",
   "execution_count": 107,
   "metadata": {
    "collapsed": false
   },
   "outputs": [
    {
     "data": {
      "text/plain": [
       "'1234'"
      ]
     },
     "execution_count": 107,
     "metadata": {},
     "output_type": "execute_result"
    }
   ],
   "source": [
    "\"\".join(map(lambda x:str(x), [1,2,3,4]))"
   ]
  },
  {
   "cell_type": "code",
   "execution_count": 108,
   "metadata": {
    "collapsed": false
   },
   "outputs": [
    {
     "ename": "TypeError",
     "evalue": "'NoneType' object is not iterable",
     "output_type": "error",
     "traceback": [
      "\u001b[0;31m---------------------------------------------------------------------------\u001b[0m",
      "\u001b[0;31mTypeError\u001b[0m                                 Traceback (most recent call last)",
      "\u001b[0;32m<ipython-input-108-38bba1b40a55>\u001b[0m in \u001b[0;36m<module>\u001b[0;34m()\u001b[0m\n\u001b[0;32m----> 1\u001b[0;31m \u001b[0mprint\u001b[0m\u001b[0;34m(\u001b[0m\u001b[0mbit\u001b[0m\u001b[0;34m(\u001b[0m\u001b[0;36m30\u001b[0m\u001b[0;34m,\u001b[0m \u001b[0;34m[\u001b[0m\u001b[0;34m]\u001b[0m\u001b[0;34m)\u001b[0m\u001b[0;34m)\u001b[0m\u001b[0;34m\u001b[0m\u001b[0m\n\u001b[0m",
      "\u001b[0;32m<ipython-input-105-e6e027ea4916>\u001b[0m in \u001b[0;36mbit\u001b[0;34m(data, quotients)\u001b[0m\n\u001b[1;32m      3\u001b[0m         \u001b[0;32mreturn\u001b[0m \u001b[0;34m\"\"\u001b[0m\u001b[0;34m.\u001b[0m\u001b[0mjoin\u001b[0m\u001b[0;34m(\u001b[0m\u001b[0mmap\u001b[0m\u001b[0;34m(\u001b[0m\u001b[0;32mlambda\u001b[0m \u001b[0mx\u001b[0m\u001b[0;34m:\u001b[0m\u001b[0mstr\u001b[0m\u001b[0;34m(\u001b[0m\u001b[0mx\u001b[0m\u001b[0;34m)\u001b[0m\u001b[0;34m,\u001b[0m \u001b[0mquotients\u001b[0m\u001b[0;34m.\u001b[0m\u001b[0mreverse\u001b[0m\u001b[0;34m(\u001b[0m\u001b[0;34m)\u001b[0m\u001b[0;34m)\u001b[0m\u001b[0;34m)\u001b[0m\u001b[0;34m\u001b[0m\u001b[0m\n\u001b[1;32m      4\u001b[0m     \u001b[0mquotients\u001b[0m\u001b[0;34m.\u001b[0m\u001b[0mappend\u001b[0m\u001b[0;34m(\u001b[0m\u001b[0mdata\u001b[0m \u001b[0;34m%\u001b[0m \u001b[0;36m2\u001b[0m\u001b[0;34m)\u001b[0m\u001b[0;34m\u001b[0m\u001b[0m\n\u001b[0;32m----> 5\u001b[0;31m     \u001b[0mbit\u001b[0m\u001b[0;34m(\u001b[0m\u001b[0mdata\u001b[0m \u001b[0;34m//\u001b[0m \u001b[0;36m2\u001b[0m\u001b[0;34m,\u001b[0m \u001b[0mquotients\u001b[0m\u001b[0;34m)\u001b[0m\u001b[0;34m\u001b[0m\u001b[0m\n\u001b[0m",
      "\u001b[0;32m<ipython-input-105-e6e027ea4916>\u001b[0m in \u001b[0;36mbit\u001b[0;34m(data, quotients)\u001b[0m\n\u001b[1;32m      3\u001b[0m         \u001b[0;32mreturn\u001b[0m \u001b[0;34m\"\"\u001b[0m\u001b[0;34m.\u001b[0m\u001b[0mjoin\u001b[0m\u001b[0;34m(\u001b[0m\u001b[0mmap\u001b[0m\u001b[0;34m(\u001b[0m\u001b[0;32mlambda\u001b[0m \u001b[0mx\u001b[0m\u001b[0;34m:\u001b[0m\u001b[0mstr\u001b[0m\u001b[0;34m(\u001b[0m\u001b[0mx\u001b[0m\u001b[0;34m)\u001b[0m\u001b[0;34m,\u001b[0m \u001b[0mquotients\u001b[0m\u001b[0;34m.\u001b[0m\u001b[0mreverse\u001b[0m\u001b[0;34m(\u001b[0m\u001b[0;34m)\u001b[0m\u001b[0;34m)\u001b[0m\u001b[0;34m)\u001b[0m\u001b[0;34m\u001b[0m\u001b[0m\n\u001b[1;32m      4\u001b[0m     \u001b[0mquotients\u001b[0m\u001b[0;34m.\u001b[0m\u001b[0mappend\u001b[0m\u001b[0;34m(\u001b[0m\u001b[0mdata\u001b[0m \u001b[0;34m%\u001b[0m \u001b[0;36m2\u001b[0m\u001b[0;34m)\u001b[0m\u001b[0;34m\u001b[0m\u001b[0m\n\u001b[0;32m----> 5\u001b[0;31m     \u001b[0mbit\u001b[0m\u001b[0;34m(\u001b[0m\u001b[0mdata\u001b[0m \u001b[0;34m//\u001b[0m \u001b[0;36m2\u001b[0m\u001b[0;34m,\u001b[0m \u001b[0mquotients\u001b[0m\u001b[0;34m)\u001b[0m\u001b[0;34m\u001b[0m\u001b[0m\n\u001b[0m",
      "\u001b[0;32m<ipython-input-105-e6e027ea4916>\u001b[0m in \u001b[0;36mbit\u001b[0;34m(data, quotients)\u001b[0m\n\u001b[1;32m      3\u001b[0m         \u001b[0;32mreturn\u001b[0m \u001b[0;34m\"\"\u001b[0m\u001b[0;34m.\u001b[0m\u001b[0mjoin\u001b[0m\u001b[0;34m(\u001b[0m\u001b[0mmap\u001b[0m\u001b[0;34m(\u001b[0m\u001b[0;32mlambda\u001b[0m \u001b[0mx\u001b[0m\u001b[0;34m:\u001b[0m\u001b[0mstr\u001b[0m\u001b[0;34m(\u001b[0m\u001b[0mx\u001b[0m\u001b[0;34m)\u001b[0m\u001b[0;34m,\u001b[0m \u001b[0mquotients\u001b[0m\u001b[0;34m.\u001b[0m\u001b[0mreverse\u001b[0m\u001b[0;34m(\u001b[0m\u001b[0;34m)\u001b[0m\u001b[0;34m)\u001b[0m\u001b[0;34m)\u001b[0m\u001b[0;34m\u001b[0m\u001b[0m\n\u001b[1;32m      4\u001b[0m     \u001b[0mquotients\u001b[0m\u001b[0;34m.\u001b[0m\u001b[0mappend\u001b[0m\u001b[0;34m(\u001b[0m\u001b[0mdata\u001b[0m \u001b[0;34m%\u001b[0m \u001b[0;36m2\u001b[0m\u001b[0;34m)\u001b[0m\u001b[0;34m\u001b[0m\u001b[0m\n\u001b[0;32m----> 5\u001b[0;31m     \u001b[0mbit\u001b[0m\u001b[0;34m(\u001b[0m\u001b[0mdata\u001b[0m \u001b[0;34m//\u001b[0m \u001b[0;36m2\u001b[0m\u001b[0;34m,\u001b[0m \u001b[0mquotients\u001b[0m\u001b[0;34m)\u001b[0m\u001b[0;34m\u001b[0m\u001b[0m\n\u001b[0m",
      "\u001b[0;32m<ipython-input-105-e6e027ea4916>\u001b[0m in \u001b[0;36mbit\u001b[0;34m(data, quotients)\u001b[0m\n\u001b[1;32m      3\u001b[0m         \u001b[0;32mreturn\u001b[0m \u001b[0;34m\"\"\u001b[0m\u001b[0;34m.\u001b[0m\u001b[0mjoin\u001b[0m\u001b[0;34m(\u001b[0m\u001b[0mmap\u001b[0m\u001b[0;34m(\u001b[0m\u001b[0;32mlambda\u001b[0m \u001b[0mx\u001b[0m\u001b[0;34m:\u001b[0m\u001b[0mstr\u001b[0m\u001b[0;34m(\u001b[0m\u001b[0mx\u001b[0m\u001b[0;34m)\u001b[0m\u001b[0;34m,\u001b[0m \u001b[0mquotients\u001b[0m\u001b[0;34m.\u001b[0m\u001b[0mreverse\u001b[0m\u001b[0;34m(\u001b[0m\u001b[0;34m)\u001b[0m\u001b[0;34m)\u001b[0m\u001b[0;34m)\u001b[0m\u001b[0;34m\u001b[0m\u001b[0m\n\u001b[1;32m      4\u001b[0m     \u001b[0mquotients\u001b[0m\u001b[0;34m.\u001b[0m\u001b[0mappend\u001b[0m\u001b[0;34m(\u001b[0m\u001b[0mdata\u001b[0m \u001b[0;34m%\u001b[0m \u001b[0;36m2\u001b[0m\u001b[0;34m)\u001b[0m\u001b[0;34m\u001b[0m\u001b[0m\n\u001b[0;32m----> 5\u001b[0;31m     \u001b[0mbit\u001b[0m\u001b[0;34m(\u001b[0m\u001b[0mdata\u001b[0m \u001b[0;34m//\u001b[0m \u001b[0;36m2\u001b[0m\u001b[0;34m,\u001b[0m \u001b[0mquotients\u001b[0m\u001b[0;34m)\u001b[0m\u001b[0;34m\u001b[0m\u001b[0m\n\u001b[0m",
      "\u001b[0;32m<ipython-input-105-e6e027ea4916>\u001b[0m in \u001b[0;36mbit\u001b[0;34m(data, quotients)\u001b[0m\n\u001b[1;32m      1\u001b[0m \u001b[0;32mdef\u001b[0m \u001b[0mbit\u001b[0m\u001b[0;34m(\u001b[0m\u001b[0mdata\u001b[0m\u001b[0;34m,\u001b[0m \u001b[0mquotients\u001b[0m\u001b[0;34m)\u001b[0m\u001b[0;34m:\u001b[0m\u001b[0;34m\u001b[0m\u001b[0m\n\u001b[1;32m      2\u001b[0m     \u001b[0;32mif\u001b[0m\u001b[0;34m(\u001b[0m\u001b[0;32mnot\u001b[0m \u001b[0mdata\u001b[0m \u001b[0;34m//\u001b[0m \u001b[0;36m2\u001b[0m \u001b[0;34m)\u001b[0m\u001b[0;34m:\u001b[0m\u001b[0;34m\u001b[0m\u001b[0m\n\u001b[0;32m----> 3\u001b[0;31m         \u001b[0;32mreturn\u001b[0m \u001b[0;34m\"\"\u001b[0m\u001b[0;34m.\u001b[0m\u001b[0mjoin\u001b[0m\u001b[0;34m(\u001b[0m\u001b[0mmap\u001b[0m\u001b[0;34m(\u001b[0m\u001b[0;32mlambda\u001b[0m \u001b[0mx\u001b[0m\u001b[0;34m:\u001b[0m\u001b[0mstr\u001b[0m\u001b[0;34m(\u001b[0m\u001b[0mx\u001b[0m\u001b[0;34m)\u001b[0m\u001b[0;34m,\u001b[0m \u001b[0mquotients\u001b[0m\u001b[0;34m.\u001b[0m\u001b[0mreverse\u001b[0m\u001b[0;34m(\u001b[0m\u001b[0;34m)\u001b[0m\u001b[0;34m)\u001b[0m\u001b[0;34m)\u001b[0m\u001b[0;34m\u001b[0m\u001b[0m\n\u001b[0m\u001b[1;32m      4\u001b[0m     \u001b[0mquotients\u001b[0m\u001b[0;34m.\u001b[0m\u001b[0mappend\u001b[0m\u001b[0;34m(\u001b[0m\u001b[0mdata\u001b[0m \u001b[0;34m%\u001b[0m \u001b[0;36m2\u001b[0m\u001b[0;34m)\u001b[0m\u001b[0;34m\u001b[0m\u001b[0m\n\u001b[1;32m      5\u001b[0m     \u001b[0mbit\u001b[0m\u001b[0;34m(\u001b[0m\u001b[0mdata\u001b[0m \u001b[0;34m//\u001b[0m \u001b[0;36m2\u001b[0m\u001b[0;34m,\u001b[0m \u001b[0mquotients\u001b[0m\u001b[0;34m)\u001b[0m\u001b[0;34m\u001b[0m\u001b[0m\n",
      "\u001b[0;31mTypeError\u001b[0m: 'NoneType' object is not iterable"
     ]
    }
   ],
   "source": [
    "print(bit(30, []))"
   ]
  },
  {
   "cell_type": "code",
   "execution_count": null,
   "metadata": {
    "collapsed": true
   },
   "outputs": [],
   "source": []
  }
 ],
 "metadata": {
  "anaconda-cloud": {},
  "kernelspec": {
   "display_name": "Python [ipykernel_py3]",
   "language": "python",
   "name": "Python [ipykernel_py3]"
  },
  "language_info": {
   "codemirror_mode": {
    "name": "ipython",
    "version": 3
   },
   "file_extension": ".py",
   "mimetype": "text/x-python",
   "name": "python",
   "nbconvert_exporter": "python",
   "pygments_lexer": "ipython3",
   "version": "3.5.2"
  }
 },
 "nbformat": 4,
 "nbformat_minor": 0
}
