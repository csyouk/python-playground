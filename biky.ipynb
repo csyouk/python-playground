{
 "metadata": {
  "name": "",
  "signature": "sha256:1c3f07f75b912853f9a467f677565030817bb98ef4bf7158f91bd89fb23694a2"
 },
 "nbformat": 3,
 "nbformat_minor": 0,
 "worksheets": [
  {
   "cells": [
    {
     "cell_type": "code",
     "collapsed": false,
     "input": [
      "import json\n",
      "import pymongo  # pip install pymongo\n",
      "from bson import json_util \n",
      "from pymongo import MongoClient# Comes with pymongo\n",
      "conn = pymongo.Connection('mongodb://175.126.74.17:27017')\n",
      "client = MongoClient()\n"
     ],
     "language": "python",
     "metadata": {},
     "outputs": [],
     "prompt_number": 14
    },
    {
     "cell_type": "code",
     "collapsed": false,
     "input": [],
     "language": "python",
     "metadata": {},
     "outputs": [],
     "prompt_number": 13
    },
    {
     "cell_type": "code",
     "collapsed": false,
     "input": [],
     "language": "python",
     "metadata": {},
     "outputs": []
    }
   ],
   "metadata": {}
  }
 ]
}