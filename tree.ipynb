{
 "metadata": {
  "name": "",
  "signature": "sha256:96fcd532a3773e63877e45a85c5bb2715665ea19fb328cf1981d919691981571"
 },
 "nbformat": 3,
 "nbformat_minor": 0,
 "worksheets": [
  {
   "cells": [
    {
     "cell_type": "code",
     "collapsed": false,
     "input": [
      "import dis\n",
      "dis.dis(lambda x,y,z:(x+y)*z)"
     ],
     "language": "python",
     "metadata": {},
     "outputs": [
      {
       "output_type": "stream",
       "stream": "stdout",
       "text": [
        "  2           0 LOAD_FAST                0 (x)\n",
        "              3 LOAD_FAST                1 (y)\n",
        "              6 BINARY_ADD\n",
        "              7 LOAD_FAST                2 (z)\n",
        "             10 BINARY_MULTIPLY\n",
        "             11 RETURN_VALUE\n"
       ]
      }
     ],
     "prompt_number": 1
    },
    {
     "cell_type": "code",
     "collapsed": false,
     "input": [
      "import ast\n",
      "ast.dump(ast.parse(\"1+2\"))"
     ],
     "language": "python",
     "metadata": {},
     "outputs": [
      {
       "metadata": {},
       "output_type": "pyout",
       "prompt_number": 2,
       "text": [
        "'Module(body=[Expr(value=BinOp(left=Num(n=1), op=Add(), right=Num(n=2)))])'"
       ]
      }
     ],
     "prompt_number": 2
    },
    {
     "cell_type": "code",
     "collapsed": false,
     "input": [
      "dir(ast)"
     ],
     "language": "python",
     "metadata": {},
     "outputs": [
      {
       "metadata": {},
       "output_type": "pyout",
       "prompt_number": 3,
       "text": [
        "['AST',\n",
        " 'Add',\n",
        " 'And',\n",
        " 'Assert',\n",
        " 'Assign',\n",
        " 'Attribute',\n",
        " 'AugAssign',\n",
        " 'AugLoad',\n",
        " 'AugStore',\n",
        " 'BinOp',\n",
        " 'BitAnd',\n",
        " 'BitOr',\n",
        " 'BitXor',\n",
        " 'BoolOp',\n",
        " 'Break',\n",
        " 'Bytes',\n",
        " 'Call',\n",
        " 'ClassDef',\n",
        " 'Compare',\n",
        " 'Continue',\n",
        " 'Del',\n",
        " 'Delete',\n",
        " 'Dict',\n",
        " 'DictComp',\n",
        " 'Div',\n",
        " 'Ellipsis',\n",
        " 'Eq',\n",
        " 'ExceptHandler',\n",
        " 'Expr',\n",
        " 'Expression',\n",
        " 'ExtSlice',\n",
        " 'FloorDiv',\n",
        " 'For',\n",
        " 'FunctionDef',\n",
        " 'GeneratorExp',\n",
        " 'Global',\n",
        " 'Gt',\n",
        " 'GtE',\n",
        " 'If',\n",
        " 'IfExp',\n",
        " 'Import',\n",
        " 'ImportFrom',\n",
        " 'In',\n",
        " 'Index',\n",
        " 'Interactive',\n",
        " 'Invert',\n",
        " 'Is',\n",
        " 'IsNot',\n",
        " 'LShift',\n",
        " 'Lambda',\n",
        " 'List',\n",
        " 'ListComp',\n",
        " 'Load',\n",
        " 'Lt',\n",
        " 'LtE',\n",
        " 'Mod',\n",
        " 'Module',\n",
        " 'Mult',\n",
        " 'Name',\n",
        " 'NameConstant',\n",
        " 'NodeTransformer',\n",
        " 'NodeVisitor',\n",
        " 'Nonlocal',\n",
        " 'Not',\n",
        " 'NotEq',\n",
        " 'NotIn',\n",
        " 'Num',\n",
        " 'Or',\n",
        " 'Param',\n",
        " 'Pass',\n",
        " 'Pow',\n",
        " 'PyCF_ONLY_AST',\n",
        " 'RShift',\n",
        " 'Raise',\n",
        " 'Return',\n",
        " 'Set',\n",
        " 'SetComp',\n",
        " 'Slice',\n",
        " 'Starred',\n",
        " 'Store',\n",
        " 'Str',\n",
        " 'Sub',\n",
        " 'Subscript',\n",
        " 'Suite',\n",
        " 'Try',\n",
        " 'Tuple',\n",
        " 'UAdd',\n",
        " 'USub',\n",
        " 'UnaryOp',\n",
        " 'While',\n",
        " 'With',\n",
        " 'Yield',\n",
        " 'YieldFrom',\n",
        " '__builtins__',\n",
        " '__cached__',\n",
        " '__doc__',\n",
        " '__file__',\n",
        " '__loader__',\n",
        " '__name__',\n",
        " '__package__',\n",
        " '__spec__',\n",
        " 'alias',\n",
        " 'arg',\n",
        " 'arguments',\n",
        " 'boolop',\n",
        " 'cmpop',\n",
        " 'comprehension',\n",
        " 'copy_location',\n",
        " 'dump',\n",
        " 'excepthandler',\n",
        " 'expr',\n",
        " 'expr_context',\n",
        " 'fix_missing_locations',\n",
        " 'get_docstring',\n",
        " 'increment_lineno',\n",
        " 'iter_child_nodes',\n",
        " 'iter_fields',\n",
        " 'keyword',\n",
        " 'literal_eval',\n",
        " 'mod',\n",
        " 'operator',\n",
        " 'parse',\n",
        " 'slice',\n",
        " 'stmt',\n",
        " 'unaryop',\n",
        " 'walk',\n",
        " 'withitem']"
       ]
      }
     ],
     "prompt_number": 3
    },
    {
     "cell_type": "code",
     "collapsed": false,
     "input": [],
     "language": "python",
     "metadata": {},
     "outputs": []
    }
   ],
   "metadata": {}
  }
 ]
}