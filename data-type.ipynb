{
 "cells": [
  {
   "cell_type": "code",
   "execution_count": 68,
   "metadata": {
    "collapsed": false
   },
   "outputs": [],
   "source": [
    "class SongType:\n",
    "    def __init__(self, song_type):\n",
    "        self.song_type = song_type\n",
    "    \n",
    "    def set_details(self, data):\n",
    "        self.count = data[\"count\"]\n",
    "        self._id = data[\"_id\"]\n",
    "        self.name = data[\"name\"]"
   ]
  },
  {
   "cell_type": "code",
   "execution_count": 69,
   "metadata": {
    "collapsed": false
   },
   "outputs": [
    {
     "name": "stdout",
     "output_type": "stream",
     "text": [
      "['__class__', '__delattr__', '__dict__', '__dir__', '__doc__', '__eq__', '__format__', '__ge__', '__getattribute__', '__gt__', '__hash__', '__init__', '__le__', '__lt__', '__module__', '__ne__', '__new__', '__reduce__', '__reduce_ex__', '__repr__', '__setattr__', '__sizeof__', '__str__', '__subclasshook__', '__weakref__', '_id', 'count', 'name', 'set_details', 'song_type']\n",
      "4\n",
      "1\n",
      "99형\n"
     ]
    }
   ],
   "source": [
    "song1 = SongType(1)\n",
    "data = {'count':4, '_id':1, 'name':'99형'}\n",
    "song1.set_details(data)"
   ]
  },
  {
   "cell_type": "code",
   "execution_count": 74,
   "metadata": {
    "collapsed": false,
    "scrolled": false
   },
   "outputs": [
    {
     "name": "stdout",
     "output_type": "stream",
     "text": [
      "<__main__.SongType object at 0x103ff8c88>\n",
      "16313\n",
      "16512\n",
      "25870\n",
      "32184\n",
      "47376\n",
      "62236\n",
      "67691\n",
      "68048\n",
      "74631\n",
      "86463\n",
      "92925\n",
      "93110\n",
      "124041\n",
      "127385\n",
      "151784\n",
      "164276\n",
      "167321\n",
      "187152\n",
      "201035\n",
      "222085\n",
      "225664\n",
      "253377\n",
      "256699\n",
      "256839\n",
      "267848\n",
      "269945\n",
      "296707\n",
      "300486\n",
      "305600\n",
      "322511\n",
      "331324\n",
      "331617\n",
      "334299\n",
      "343131\n",
      "343297\n",
      "366483\n",
      "375912\n",
      "378499\n",
      "380807\n",
      "385773\n",
      "393416\n",
      "400044\n",
      "400357\n",
      "403859\n",
      "423184\n",
      "427386\n",
      "430187\n",
      "432492\n",
      "443302\n",
      "445883\n",
      "448749\n",
      "451322\n",
      "473815\n",
      "497766\n",
      "500660\n",
      "507992\n",
      "510030\n",
      "520184\n",
      "522710\n",
      "528868\n",
      "545604\n",
      "560165\n",
      "568345\n",
      "572787\n",
      "591647\n",
      "605189\n",
      "607045\n",
      "611545\n",
      "612741\n",
      "623842\n",
      "625900\n",
      "631421\n",
      "637000\n",
      "659070\n",
      "676801\n",
      "698152\n",
      "701364\n",
      "731349\n",
      "732852\n",
      "760822\n",
      "762247\n",
      "764004\n",
      "781263\n",
      "781561\n",
      "787912\n",
      "809231\n",
      "820252\n",
      "820518\n",
      "827357\n",
      "829257\n",
      "835946\n",
      "840678\n",
      "884271\n",
      "891149\n",
      "952759\n",
      "953808\n",
      "955109\n",
      "991470\n",
      "995188\n",
      "995730\n"
     ]
    }
   ],
   "source": [
    "from random import randint\n",
    "\n",
    "songs = []\n",
    "for i in range(100):\n",
    "    song = SongType(1)\n",
    "    data = {'count':randint(1,1000000), '_id':randint(1,1000000), 'name':'99형'}\n",
    "    song.set_details(data)\n",
    "    songs.append(song)\n",
    "\n",
    "songs\n",
    "\n",
    "a = sorted(songs, key = lambda x: x.count)\n",
    "print(a[0])\n",
    "for i in a:\n",
    "    print(i.count)\n",
    "    "
   ]
  },
  {
   "cell_type": "code",
   "execution_count": 14,
   "metadata": {
    "collapsed": true
   },
   "outputs": [],
   "source": [
    "class Fib:\n",
    "    '''iterator that yields numbers in the Fibonacci sequence'''\n",
    "\n",
    "    def __init__(self, max):\n",
    "        self.max = max\n",
    "\n",
    "    def __iter__(self):\n",
    "        self.a = 0\n",
    "        self.b = 1\n",
    "        return self\n",
    "\n",
    "    def __next__(self):\n",
    "        fib = self.a\n",
    "        if fib > self.max:\n",
    "            raise StopIteration\n",
    "        self.a, self.b = self.b, self.a + self.b\n",
    "        return fib\n"
   ]
  },
  {
   "cell_type": "code",
   "execution_count": 12,
   "metadata": {
    "collapsed": false
   },
   "outputs": [
    {
     "data": {
      "text/plain": [
       "['__class__',\n",
       " '__delattr__',\n",
       " '__dict__',\n",
       " '__dir__',\n",
       " '__doc__',\n",
       " '__eq__',\n",
       " '__format__',\n",
       " '__ge__',\n",
       " '__getattribute__',\n",
       " '__gt__',\n",
       " '__hash__',\n",
       " '__init__',\n",
       " '__iter__',\n",
       " '__le__',\n",
       " '__lt__',\n",
       " '__module__',\n",
       " '__ne__',\n",
       " '__new__',\n",
       " '__next__',\n",
       " '__reduce__',\n",
       " '__reduce_ex__',\n",
       " '__repr__',\n",
       " '__setattr__',\n",
       " '__sizeof__',\n",
       " '__str__',\n",
       " '__subclasshook__',\n",
       " '__weakref__',\n",
       " 'max']"
      ]
     },
     "execution_count": 12,
     "metadata": {},
     "output_type": "execute_result"
    }
   ],
   "source": [
    "fib = Fib(10)\n",
    "dir(fib)"
   ]
  },
  {
   "cell_type": "code",
   "execution_count": 10,
   "metadata": {
    "collapsed": false
   },
   "outputs": [
    {
     "ename": "StopIteration",
     "evalue": "",
     "output_type": "error",
     "traceback": [
      "\u001b[0;31m---------------------------------------------------------------------------\u001b[0m",
      "\u001b[0;31mStopIteration\u001b[0m                             Traceback (most recent call last)",
      "\u001b[0;32m<ipython-input-10-4b3f4c402675>\u001b[0m in \u001b[0;36m<module>\u001b[0;34m()\u001b[0m\n\u001b[0;32m----> 1\u001b[0;31m \u001b[0mnext\u001b[0m\u001b[0;34m(\u001b[0m\u001b[0mfib\u001b[0m\u001b[0;34m)\u001b[0m\u001b[0;34m\u001b[0m\u001b[0m\n\u001b[0m",
      "\u001b[0;32m<ipython-input-2-4fb08e0ba77e>\u001b[0m in \u001b[0;36m__next__\u001b[0;34m(self)\u001b[0m\n\u001b[1;32m     13\u001b[0m         \u001b[0mfib\u001b[0m \u001b[0;34m=\u001b[0m \u001b[0mself\u001b[0m\u001b[0;34m.\u001b[0m\u001b[0ma\u001b[0m\u001b[0;34m\u001b[0m\u001b[0m\n\u001b[1;32m     14\u001b[0m         \u001b[0;32mif\u001b[0m \u001b[0mfib\u001b[0m \u001b[0;34m>\u001b[0m \u001b[0mself\u001b[0m\u001b[0;34m.\u001b[0m\u001b[0mmax\u001b[0m\u001b[0;34m:\u001b[0m\u001b[0;34m\u001b[0m\u001b[0m\n\u001b[0;32m---> 15\u001b[0;31m             \u001b[0;32mraise\u001b[0m \u001b[0mStopIteration\u001b[0m\u001b[0;34m\u001b[0m\u001b[0m\n\u001b[0m\u001b[1;32m     16\u001b[0m         \u001b[0mself\u001b[0m\u001b[0;34m.\u001b[0m\u001b[0ma\u001b[0m\u001b[0;34m,\u001b[0m \u001b[0mself\u001b[0m\u001b[0;34m.\u001b[0m\u001b[0mb\u001b[0m \u001b[0;34m=\u001b[0m \u001b[0mself\u001b[0m\u001b[0;34m.\u001b[0m\u001b[0mb\u001b[0m\u001b[0;34m,\u001b[0m \u001b[0mself\u001b[0m\u001b[0;34m.\u001b[0m\u001b[0ma\u001b[0m \u001b[0;34m+\u001b[0m \u001b[0mself\u001b[0m\u001b[0;34m.\u001b[0m\u001b[0mb\u001b[0m\u001b[0;34m\u001b[0m\u001b[0m\n\u001b[1;32m     17\u001b[0m         \u001b[0;32mreturn\u001b[0m \u001b[0mfib\u001b[0m\u001b[0;34m\u001b[0m\u001b[0m\n",
      "\u001b[0;31mStopIteration\u001b[0m: "
     ]
    }
   ],
   "source": [
    "next(fib)"
   ]
  },
  {
   "cell_type": "code",
   "execution_count": null,
   "metadata": {
    "collapsed": true
   },
   "outputs": [],
   "source": []
  }
 ],
 "metadata": {
  "kernelspec": {
   "display_name": "Python 3",
   "language": "python",
   "name": "python3"
  },
  "language_info": {
   "codemirror_mode": {
    "name": "ipython",
    "version": 3
   },
   "file_extension": ".py",
   "mimetype": "text/x-python",
   "name": "python",
   "nbconvert_exporter": "python",
   "pygments_lexer": "ipython3",
   "version": "3.4.1"
  }
 },
 "nbformat": 4,
 "nbformat_minor": 0
}
