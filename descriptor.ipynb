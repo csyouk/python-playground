{
 "cells": [
  {
   "cell_type": "code",
   "execution_count": 20,
   "metadata": {
    "collapsed": false
   },
   "outputs": [],
   "source": [
    "class Descriptor:\n",
    "    def __init__(self): return\n",
    "    def __get__(self, instance, owner): \n",
    "        print(\"[get] instance: {0} // owner: {1} \".format(instance, owner))\n",
    "        return\n",
    "    def __set__(self, instance, value): \n",
    "        print(\"[set] instance: {0} // value: {1} \".format(instance, value))        \n",
    "        return\n",
    "    def __delete__(self, instance): \n",
    "        print(\"[delete] instance: {0} \".format(instance))        \n",
    "        return"
   ]
  },
  {
   "cell_type": "code",
   "execution_count": 21,
   "metadata": {
    "collapsed": true
   },
   "outputs": [],
   "source": [
    "class Person():\n",
    "    name = Descriptor()"
   ]
  },
  {
   "cell_type": "code",
   "execution_count": 22,
   "metadata": {
    "collapsed": false
   },
   "outputs": [
    {
     "name": "stdout",
     "output_type": "stream",
     "text": [
      "[set] instance: <__main__.Person object at 0x103ec9cc0> // value: Dahl \n"
     ]
    }
   ],
   "source": [
    "user = Person()\n",
    "user.name = \"Dahl\""
   ]
  },
  {
   "cell_type": "code",
   "execution_count": 24,
   "metadata": {
    "collapsed": false
   },
   "outputs": [
    {
     "name": "stdout",
     "output_type": "stream",
     "text": [
      "[get] instance: <__main__.Person object at 0x103ec9cc0> // owner: <class '__main__.Person'> \n"
     ]
    }
   ],
   "source": [
    "user.name"
   ]
  },
  {
   "cell_type": "code",
   "execution_count": 27,
   "metadata": {
    "collapsed": false
   },
   "outputs": [
    {
     "name": "stdout",
     "output_type": "stream",
     "text": [
      "[init]  _name\n"
     ]
    }
   ],
   "source": [
    "class Descriptor2:\n",
    "    def __init__(self): \n",
    "        self.name = '_name'\n",
    "        print(\"[init] \", self.name)\n",
    "\n",
    "    def __get__(self, instance, owner): \n",
    "        print(\"[get] instance: {0} // owner: {1} \".format(instance, owner))\n",
    "        return instance.__dict__['_name']\n",
    "    \n",
    "    def __set__(self, instance, value): \n",
    "        print(\"[set] instance: {0} // value: {1} \".format(instance, value))        \n",
    "        instance.__dict__['_name'] = value\n",
    "    \n",
    "    def __delete__(self, instance): \n",
    "        print(\"[delete] instance: {0} \".format(instance))        \n",
    "        del instance.__dict__['_name']\n",
    "\n",
    "\n",
    "class Person2():\n",
    "    name = Descriptor2()"
   ]
  },
  {
   "cell_type": "code",
   "execution_count": 32,
   "metadata": {
    "collapsed": false
   },
   "outputs": [
    {
     "name": "stdout",
     "output_type": "stream",
     "text": [
      "['__class__', '__delattr__', '__dict__', '__dir__', '__doc__', '__eq__', '__format__', '__ge__', '__getattribute__', '__gt__', '__hash__', '__init__', '__le__', '__lt__', '__module__', '__ne__', '__new__', '__reduce__', '__reduce_ex__', '__repr__', '__setattr__', '__sizeof__', '__str__', '__subclasshook__', '__weakref__', 'name']\n",
      "before set value  {}\n",
      "[set] instance: <__main__.Person2 object at 0x103ed0da0> // value: Dahl2 \n",
      "after set value  {'_name': 'Dahl2'}\n"
     ]
    }
   ],
   "source": [
    "user2 = Person2()\n",
    "print(dir(user2))\n",
    "print(\"before set value \", user2.__dict__)\n",
    "user2.name = \"Dahl2\"\n",
    "print(\"after set value \", user2.__dict__) # 출력해보면 알겠지만, 인스턴스 변수와 내부 관리 변수의 이름을 다르게 관리하는 것이 가능하다."
   ]
  },
  {
   "cell_type": "code",
   "execution_count": 33,
   "metadata": {
    "collapsed": false
   },
   "outputs": [
    {
     "name": "stdout",
     "output_type": "stream",
     "text": [
      "=====d=====\n",
      "{'x': 1}\n",
      "1\n",
      "direct call  1\n",
      "Class binding call  1\n",
      "instance binding  1\n",
      "=====d=====\n",
      "=====d1=====\n",
      "{'x': 2}\n",
      "2\n"
     ]
    },
    {
     "ename": "AttributeError",
     "evalue": "'D1' object has no attribute '__get__'",
     "output_type": "error",
     "traceback": [
      "\u001b[0;31m---------------------------------------------------------------------------\u001b[0m",
      "\u001b[0;31mAttributeError\u001b[0m                            Traceback (most recent call last)",
      "\u001b[0;32m<ipython-input-33-a0da89f1c1da>\u001b[0m in \u001b[0;36m<module>\u001b[0;34m()\u001b[0m\n\u001b[1;32m     23\u001b[0m \u001b[0mprint\u001b[0m\u001b[0;34m(\u001b[0m\u001b[0md1\u001b[0m\u001b[0;34m.\u001b[0m\u001b[0m__dict__\u001b[0m\u001b[0;34m)\u001b[0m\u001b[0;34m\u001b[0m\u001b[0m\n\u001b[1;32m     24\u001b[0m \u001b[0mprint\u001b[0m\u001b[0;34m(\u001b[0m\u001b[0md1\u001b[0m\u001b[0;34m.\u001b[0m\u001b[0mx\u001b[0m\u001b[0;34m)\u001b[0m\u001b[0;34m\u001b[0m\u001b[0m\n\u001b[0;32m---> 25\u001b[0;31m \u001b[0mprint\u001b[0m\u001b[0;34m(\u001b[0m\u001b[0;34m\"direct call \"\u001b[0m\u001b[0;34m,\u001b[0m \u001b[0md1\u001b[0m\u001b[0;34m.\u001b[0m\u001b[0m__get__\u001b[0m\u001b[0;34m(\u001b[0m\u001b[0;34m)\u001b[0m\u001b[0;34m)\u001b[0m\u001b[0;34m\u001b[0m\u001b[0m\n\u001b[0m\u001b[1;32m     26\u001b[0m \u001b[0mprint\u001b[0m\u001b[0;34m(\u001b[0m\u001b[0;34m\"Class binding call \"\u001b[0m\u001b[0;34m,\u001b[0m \u001b[0mD1\u001b[0m\u001b[0;34m.\u001b[0m\u001b[0m__get__\u001b[0m\u001b[0;34m(\u001b[0m\u001b[0md1\u001b[0m\u001b[0;34m,\u001b[0m\u001b[0md1\u001b[0m\u001b[0;34m)\u001b[0m\u001b[0;34m)\u001b[0m\u001b[0;34m\u001b[0m\u001b[0m\n\u001b[1;32m     27\u001b[0m \u001b[0mprint\u001b[0m\u001b[0;34m(\u001b[0m\u001b[0;34m\"instance binding \"\u001b[0m\u001b[0;34m,\u001b[0m \u001b[0mtype\u001b[0m\u001b[0;34m(\u001b[0m\u001b[0md1\u001b[0m\u001b[0;34m)\u001b[0m\u001b[0;34m.\u001b[0m\u001b[0m__get__\u001b[0m\u001b[0;34m(\u001b[0m\u001b[0md1\u001b[0m\u001b[0;34m,\u001b[0m\u001b[0md1\u001b[0m\u001b[0;34m)\u001b[0m\u001b[0;34m)\u001b[0m\u001b[0;34m\u001b[0m\u001b[0m\n",
      "\u001b[0;31mAttributeError\u001b[0m: 'D1' object has no attribute '__get__'"
     ]
    }
   ],
   "source": [
    "class D(object):\n",
    "    def __init__(self, x):\n",
    "        self.x = x\n",
    "    \n",
    "    def __get__(self, instance=None, cls = None):\n",
    "        return self.x\n",
    "    \n",
    "class D1(object):\n",
    "    def __init__(self, x):\n",
    "        D.__init__(self, x)\n",
    "        \n",
    "d = D(1)\n",
    "print(\"=====d=====\")\n",
    "print(d.__dict__)\n",
    "print(d.x)\n",
    "print(\"direct call \", d.__get__())\n",
    "print(\"Class binding call \", D.__get__(d,d))\n",
    "print(\"instance binding \", type(d).__get__(d,d))\n",
    "print(\"=====d=====\")\n",
    "\n",
    "d1 = D1(2)\n",
    "print(\"=====d1=====\")\n",
    "print(d1.__dict__)\n",
    "print(d1.x)\n",
    "print(\"direct call \", d1.__get__())\n",
    "print(\"Class binding call \", D1.__get__(d1,d1))\n",
    "print(\"instance binding \", type(d1).__get__(d1,d1))\n",
    "print(D1.mro())\n",
    "print(\"super binding \", super(D1, d1).__get__(d1, d1))\n",
    "print(\"=====d1=====\")\n"
   ]
  },
  {
   "cell_type": "code",
   "execution_count": null,
   "metadata": {
    "collapsed": true
   },
   "outputs": [],
   "source": []
  }
 ],
 "metadata": {
  "kernelspec": {
   "display_name": "Python 3",
   "language": "python",
   "name": "python3"
  },
  "language_info": {
   "codemirror_mode": {
    "name": "ipython",
    "version": 3
   },
   "file_extension": ".py",
   "mimetype": "text/x-python",
   "name": "python",
   "nbconvert_exporter": "python",
   "pygments_lexer": "ipython3",
   "version": "3.4.1"
  }
 },
 "nbformat": 4,
 "nbformat_minor": 0
}
