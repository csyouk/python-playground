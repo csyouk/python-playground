{
 "cells": [
  {
   "cell_type": "code",
   "execution_count": 6,
   "metadata": {
    "collapsed": false
   },
   "outputs": [],
   "source": [
    "class A():\n",
    "    constant = 333\n",
    "    _constant = 2323\n",
    "    \n",
    "    \n",
    "    \n",
    "    def a(self):\n",
    "        return \"a\"\n",
    "    def b(self):\n",
    "        return \"b\"\n",
    "    \n",
    "class B():\n",
    "    \n",
    "    constant = 22234\n",
    "    \n",
    "    def c(self):\n",
    "        return \"c\"\n",
    "    def d(self):\n",
    "        return \"d\"\n",
    "    \n",
    "class C():\n",
    "    @classmethod\n",
    "    def e(cls):\n",
    "        return \"e\"\n",
    "    \n"
   ]
  },
  {
   "cell_type": "code",
   "execution_count": 4,
   "metadata": {
    "collapsed": false
   },
   "outputs": [
    {
     "name": "stdout",
     "output_type": "stream",
     "text": [
      "333\n",
      "a\n",
      "b\n"
     ]
    }
   ],
   "source": [
    "test = A()\n",
    "# dir(test)\n",
    "print(test.constant)\n",
    "print(test.a())\n",
    "print(test.b())"
   ]
  },
  {
   "cell_type": "code",
   "execution_count": 8,
   "metadata": {
    "collapsed": false
   },
   "outputs": [
    {
     "name": "stdout",
     "output_type": "stream",
     "text": [
      "e\n"
     ]
    }
   ],
   "source": [
    "test2 = C.e()\n",
    "print(test2)"
   ]
  },
  {
   "cell_type": "code",
   "execution_count": 21,
   "metadata": {
    "collapsed": false
   },
   "outputs": [],
   "source": [
    "class Game(object):\n",
    "    def __init__(self):\n",
    "        self._turn_index = 0\n",
    "    \n",
    "    @property\n",
    "    def turn_index(self):\n",
    "        return self._turn_index\n",
    "    \n",
    "    @turn_index.setter\n",
    "    def turn_index(self, value):\n",
    "        self._turn_index = value\n",
    "    \n",
    "        "
   ]
  },
  {
   "cell_type": "code",
   "execution_count": 22,
   "metadata": {
    "collapsed": false
   },
   "outputs": [
    {
     "data": {
      "text/plain": [
       "0"
      ]
     },
     "execution_count": 22,
     "metadata": {},
     "output_type": "execute_result"
    }
   ],
   "source": [
    "g = Game()\n",
    "g.turn_index"
   ]
  },
  {
   "cell_type": "code",
   "execution_count": 23,
   "metadata": {
    "collapsed": true
   },
   "outputs": [],
   "source": [
    "g.turn_index = 30"
   ]
  },
  {
   "cell_type": "code",
   "execution_count": 24,
   "metadata": {
    "collapsed": false
   },
   "outputs": [
    {
     "data": {
      "text/plain": [
       "30"
      ]
     },
     "execution_count": 24,
     "metadata": {},
     "output_type": "execute_result"
    }
   ],
   "source": [
    "g.turn_index"
   ]
  },
  {
   "cell_type": "code",
   "execution_count": 26,
   "metadata": {
    "collapsed": false
   },
   "outputs": [
    {
     "name": "stdout",
     "output_type": "stream",
     "text": [
      "not none\n"
     ]
    }
   ],
   "source": [
    "if g is not None:\n",
    "    print(\"not none\")"
   ]
  },
  {
   "cell_type": "code",
   "execution_count": 27,
   "metadata": {
    "collapsed": false
   },
   "outputs": [
    {
     "name": "stdout",
     "output_type": "stream",
     "text": [
      "not none\n"
     ]
    }
   ],
   "source": [
    "if not g is None:\n",
    "    print(\"not none\")"
   ]
  },
  {
   "cell_type": "code",
   "execution_count": null,
   "metadata": {
    "collapsed": true
   },
   "outputs": [],
   "source": []
  }
 ],
 "metadata": {
  "kernelspec": {
   "display_name": "Python 3",
   "language": "python",
   "name": "python3"
  },
  "language_info": {
   "codemirror_mode": {
    "name": "ipython",
    "version": 3
   },
   "file_extension": ".py",
   "mimetype": "text/x-python",
   "name": "python",
   "nbconvert_exporter": "python",
   "pygments_lexer": "ipython3",
   "version": "3.4.1"
  }
 },
 "nbformat": 4,
 "nbformat_minor": 0
}
