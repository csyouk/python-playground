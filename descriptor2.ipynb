{
 "cells": [
  {
   "cell_type": "code",
   "execution_count": 8,
   "metadata": {
    "collapsed": true
   },
   "outputs": [],
   "source": [
    "class Descriptor(object):\n",
    "    def __init__(self):\n",
    "        self.name = '_name'\n",
    "        print(\"init \" + self.name)\n",
    "        \n",
    "    def __get__(self, instance, owner):\n",
    "        print(\"getter : instance {0} // owner {1}\".format(instance, owner))\n",
    "        return instance.__dict__['_name']\n",
    "    \n",
    "    def __set__(self, instance, value):\n",
    "        print(\"setter : instance {0} // value {1}\".format(instance, value))        \n",
    "        instance.__dict__['_name'] = value\n",
    "        \n",
    "    def __del__(self):\n",
    "        print(\"delete\" + instance.__dict__['_name'])\n",
    "        del instance.__dict__['_name']"
   ]
  },
  {
   "cell_type": "code",
   "execution_count": 9,
   "metadata": {
    "collapsed": false
   },
   "outputs": [
    {
     "name": "stdout",
     "output_type": "stream",
     "text": [
      "init _name\n"
     ]
    }
   ],
   "source": [
    "class Person():\n",
    "    name = Descriptor()"
   ]
  },
  {
   "cell_type": "code",
   "execution_count": 17,
   "metadata": {
    "collapsed": false
   },
   "outputs": [
    {
     "name": "stdout",
     "output_type": "stream",
     "text": [
      "0x103dc3978\n"
     ]
    }
   ],
   "source": [
    "user = Person()\n",
    "print(hex(id(user)))"
   ]
  },
  {
   "cell_type": "code",
   "execution_count": 18,
   "metadata": {
    "collapsed": false
   },
   "outputs": [
    {
     "name": "stdout",
     "output_type": "stream",
     "text": [
      "setter : instance <__main__.Person object at 0x103dc3978> // value cs\n"
     ]
    }
   ],
   "source": [
    "user.name = \"cs\""
   ]
  },
  {
   "cell_type": "code",
   "execution_count": null,
   "metadata": {
    "collapsed": true
   },
   "outputs": [],
   "source": []
  }
 ],
 "metadata": {
  "kernelspec": {
   "display_name": "Python 3",
   "language": "python",
   "name": "python3"
  },
  "language_info": {
   "codemirror_mode": {
    "name": "ipython",
    "version": 3
   },
   "file_extension": ".py",
   "mimetype": "text/x-python",
   "name": "python",
   "nbconvert_exporter": "python",
   "pygments_lexer": "ipython3",
   "version": "3.4.1"
  }
 },
 "nbformat": 4,
 "nbformat_minor": 0
}
