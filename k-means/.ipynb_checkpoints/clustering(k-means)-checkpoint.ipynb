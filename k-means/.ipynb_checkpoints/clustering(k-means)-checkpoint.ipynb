{
 "metadata": {
  "name": "",
  "signature": "sha256:60d8855735ff2a2bb2a0a2bb15e7d4b2112d210c5313f2276665c331c284206c"
 },
 "nbformat": 3,
 "nbformat_minor": 0,
 "worksheets": [
  {
   "cells": [
    {
     "cell_type": "code",
     "collapsed": false,
     "input": [
      "import feedparser\n",
      "import re\n",
      "\n",
      "def getwordcounts(url):\n",
      "    d=feedparser.parse(url)\n",
      "    wc = {}\n",
      "    \n",
      "    for e in d.entries:\n",
      "        if 'summary' in e:\n",
      "            summary=e.summary\n",
      "        else:\n",
      "            summary=e.description\n",
      "        words=getwords(e.title+ ' '+summary)\n",
      "        for word in words:\n",
      "            wc.setdefault(word, 0)\n",
      "            wc[word] += 1\n",
      "    return d.feed.title, wc\n",
      "\n",
      "def getwords(html):\n",
      "    txt = re.compile(r'<[^>]+>').sub('',html)\n",
      "    words=re.compile(r'[^A-Z^a-z]+').split(txt)\n",
      "    return [word.lower() for word in words if word!='']"
     ],
     "language": "python",
     "metadata": {},
     "outputs": [],
     "prompt_number": 3
    },
    {
     "cell_type": "code",
     "collapsed": false,
     "input": [
      "apcount = {}\n",
      "wordcounts = {}\n",
      "feedlist=[]\n",
      "for feedurl in file('feedlist.txt'):\n",
      "    feedlist.append(feedurl)\n",
      "    title, WC=getwordcounts(feedurl)\n",
      "    wordcounts[title]=wc\n",
      "    for word, count in wc.items():\n",
      "        apcount.setdefault(word, 0)\n",
      "        if count>1:\n",
      "            apcount[word] += 1"
     ],
     "language": "python",
     "metadata": {},
     "outputs": [
      {
       "ename": "NameError",
       "evalue": "name 'file' is not defined",
       "output_type": "pyerr",
       "traceback": [
        "\u001b[0;31m---------------------------------------------------------------------------\u001b[0m\n\u001b[0;31mNameError\u001b[0m                                 Traceback (most recent call last)",
        "\u001b[0;32m<ipython-input-4-58cfe67250b1>\u001b[0m in \u001b[0;36m<module>\u001b[0;34m()\u001b[0m\n\u001b[1;32m      2\u001b[0m \u001b[0mwordcounts\u001b[0m \u001b[0;34m=\u001b[0m \u001b[0;34m{\u001b[0m\u001b[0;34m}\u001b[0m\u001b[0;34m\u001b[0m\u001b[0m\n\u001b[1;32m      3\u001b[0m \u001b[0mfeedlist\u001b[0m\u001b[0;34m=\u001b[0m\u001b[0;34m[\u001b[0m\u001b[0;34m]\u001b[0m\u001b[0;34m\u001b[0m\u001b[0m\n\u001b[0;32m----> 4\u001b[0;31m \u001b[0;32mfor\u001b[0m \u001b[0mfeedurl\u001b[0m \u001b[0;32min\u001b[0m \u001b[0mfile\u001b[0m\u001b[0;34m(\u001b[0m\u001b[0;34m'feedlist.txt'\u001b[0m\u001b[0;34m)\u001b[0m\u001b[0;34m:\u001b[0m\u001b[0;34m\u001b[0m\u001b[0m\n\u001b[0m\u001b[1;32m      5\u001b[0m     \u001b[0mfeedlist\u001b[0m\u001b[0;34m.\u001b[0m\u001b[0mappend\u001b[0m\u001b[0;34m(\u001b[0m\u001b[0mfeedurl\u001b[0m\u001b[0;34m)\u001b[0m\u001b[0;34m\u001b[0m\u001b[0m\n\u001b[1;32m      6\u001b[0m     \u001b[0mtitle\u001b[0m\u001b[0;34m,\u001b[0m \u001b[0mWC\u001b[0m\u001b[0;34m=\u001b[0m\u001b[0mgetwordcounts\u001b[0m\u001b[0;34m(\u001b[0m\u001b[0mfeedurl\u001b[0m\u001b[0;34m)\u001b[0m\u001b[0;34m\u001b[0m\u001b[0m\n",
        "\u001b[0;31mNameError\u001b[0m: name 'file' is not defined"
       ]
      }
     ],
     "prompt_number": 4
    },
    {
     "cell_type": "code",
     "collapsed": false,
     "input": [
      "\u00b5"
     ],
     "language": "python",
     "metadata": {},
     "outputs": []
    }
   ],
   "metadata": {}
  }
 ]
}