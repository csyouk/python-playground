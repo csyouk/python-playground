{
 "metadata": {
  "name": "",
  "signature": "sha256:914988bb39c358af94c970b24eb585fa943b058847ab85bea1feaad602a4971f"
 },
 "nbformat": 3,
 "nbformat_minor": 0,
 "worksheets": [
  {
   "cells": [
    {
     "cell_type": "code",
     "collapsed": false,
     "input": [
      "# https://datasciencelab.wordpress.com/2013/12/12/clustering-with-k-means-in-python/"
     ],
     "language": "python",
     "metadata": {},
     "outputs": []
    },
    {
     "cell_type": "code",
     "collapsed": false,
     "input": [
      "import numpy as np\n",
      "from random import random\n",
      "\n",
      "def cluster_points(X, mu):\n",
      "    clusters = {}\n",
      "    for x in X:\n",
      "        bestmukey = min([(i[0], np.linalg.norm(x-mu[i[0]])) for i in enumerate(mu)], key=lambda t:t[1])[0]\n",
      "        try:\n",
      "            clusters[bestmukey].append(x)\n",
      "        except KeyError:\n",
      "            clusters[bestmukey] = [x]\n",
      "    return clusters\n",
      "\n",
      "def reevaluate_centers(mu, clusters):\n",
      "    newmu = []\n",
      "    keys = sorted(clusters.keys())\n",
      "    for k in keys:\n",
      "        newmu.append(np.mean(clusters[k], axis=0))\n",
      "    return newmu\n",
      "\n",
      "def has_converged(mu, oldmu):\n",
      "    return (set([tuple(a) for a in mu])) == set([tuple(a) for a in oldmu])\n",
      "\n",
      "def find_centers(X,K):\n",
      "    oldmu = random.sample(X,K)\n",
      "    mu = random.sample(X,K)\n",
      "    while not has_converged(mu, oldmu):\n",
      "        oldmu = mu\n",
      "        clusters = cluster_points(X, mu)\n",
      "        mu = reevaluate_centers(oldmu, clusters)\n",
      "    return(mu, clusters)"
     ],
     "language": "python",
     "metadata": {},
     "outputs": [],
     "prompt_number": 14
    },
    {
     "cell_type": "code",
     "collapsed": false,
     "input": [
      "import random\n",
      "\n",
      "def init_board(N):\n",
      "    X = np.array([(random.uniform(-1,1), random.uniform(-1,1)) for i in range(N)])\n",
      "    return X"
     ],
     "language": "python",
     "metadata": {},
     "outputs": [],
     "prompt_number": 15
    },
    {
     "cell_type": "code",
     "collapsed": false,
     "input": [
      "def init_board_gauss(N, k):\n",
      "    n = float(N)/k\n",
      "    X = []\n",
      "    for i in range(k):\n",
      "        c = (random.uniform(-1, 1), random.uniform(-1, 1))\n",
      "        s = random.uniform(0.05,0.5)\n",
      "        x = []\n",
      "        while len(x) < n:\n",
      "            a, b = np.array([np.random.normal(c[0], s), np.random.normal(c[1], s)])\n",
      "            # Continue drawing points from the distribution in the range [-1,1]\n",
      "            if abs(a) < 1 and abs(b) < 1:\n",
      "                x.append([a,b])\n",
      "        X.extend(x)\n",
      "    X = np.array(X)[:N]\n",
      "    return X"
     ],
     "language": "python",
     "metadata": {},
     "outputs": [],
     "prompt_number": 16
    },
    {
     "cell_type": "code",
     "collapsed": false,
     "input": [
      "%matplotlib inline\n",
      "\n",
      "x = random.sample([i for i in range(1000)],300)\n",
      "y = random.sample([i for i in range(1000)],300)\n",
      "\n",
      "import matplotlib.pyplot\n",
      "import pylab\n",
      "\n",
      "matplotlib.pyplot.scatter(x,y)\n",
      "matplotlib.pyplot.show()\n"
     ],
     "language": "python",
     "metadata": {},
     "outputs": [
      {
       "metadata": {},
       "output_type": "display_data",
       "png": "[encoded data removed]",
       "text": [
        "<matplotlib.figure.Figure at 0x10692b550>"
       ]
      }
     ],
     "prompt_number": 50
    },
    {
     "cell_type": "code",
     "collapsed": false,
     "input": [
      "    "
     ],
     "language": "python",
     "metadata": {},
     "outputs": [],
     "prompt_number": 48
    },
    {
     "cell_type": "code",
     "collapsed": false,
     "input": [],
     "language": "python",
     "metadata": {},
     "outputs": [],
     "prompt_number": 44
    },
    {
     "cell_type": "code",
     "collapsed": false,
     "input": [],
     "language": "python",
     "metadata": {},
     "outputs": []
    }
   ],
   "metadata": {}
  }
 ]
}