{
 "metadata": {
  "name": "",
  "signature": "sha256:78eaf346a565597af88271cc0a733ca3dc442f948f754df0dbd74bb9b1f9665a"
 },
 "nbformat": 3,
 "nbformat_minor": 0,
 "worksheets": [
  {
   "cells": [
    {
     "cell_type": "code",
     "collapsed": false,
     "input": [
      "import urllib\n",
      "page = urllib.request.urlopen('http://www.google.com')\n",
      "html = page.read()\n",
      "print(html)"
     ],
     "language": "python",
     "metadata": {},
     "outputs": [
      {
       "output_type": "stream",
       "stream": "stdout",
       "text": [
        "b'<!doctype html><html itemscope=\"\" itemtype=\"http://schema.org/WebPage\" lang=\"ko\"><head><meta content=\"/images/google_favicon_128.png\" itemprop=\"image\"><title>Google</title><script>(function(){window.google={kEI:\\'rQG3VdWqF-W8mgWXz7j4Aw\\',kEXPI:\\'18168,3700291,3700372,4029815,4031109,4032235,4032500,4032678,4033307,4033344,4034882,4036195,4036527,4036669,4036848,4037333,4037457,4037531,4037908,4038012,4038400,4039134,4039248,4039387,4039462,4039487,4039879,4039896,4039937,4040020,4040028,4040061,4040112,4040135,4040412,4040849,4040862,4041078,4041440,4041835,4042103,8300096,8300188,8300200,8300202,8500394,8501294,8501406,8501489,10200083,10201251,16200005,16200009,16200010\\',authuser:0,kscs:\\'c9c918f0_10\\'};google.kHL=\\'ko\\';})();(function(){google.lc=[];google.li=0;google.getEI=function(a){for(var b;a&&(!a.getAttribute||!(b=a.getAttribute(\"eid\")));)a=a.parentNode;return b||google.kEI};google.getLEI=function(a){for(var b=null;a&&(!a.getAttribute||!(b=a.getAttribute(\"leid\")));)a=a.parentNode;return b};google.https=function(){return\"https:\"==window.location.protocol};google.ml=function(){return null};google.time=function(){return(new Date).getTime()};google.log=function(a,b,d,e,g){a=google.logUrl(a,b,d,e,g);if(\"\"!=a){b=new Image;var c=google.lc,f=google.li;c[f]=b;b.onerror=b.onload=b.onabort=function(){delete c[f]};window.google&&window.google.vel&&window.google.vel.lu&&window.google.vel.lu(a);b.src=a;google.li=f+1}};google.logUrl=function(a,b,d,e,g){var c=\"\",f=google.ls||\"\";if(!d&&-1==b.search(\"&ei=\")){var h=google.getEI(e),c=\"&ei=\"+h;-1==b.search(\"&lei=\")&&((e=google.getLEI(e))?c+=\"&lei=\"+e:h!=google.kEI&&(c+=\"&lei=\"+google.kEI))}a=d||\"/\"+(g||\"gen_204\")+\"?atyp=i&ct=\"+a+\"&cad=\"+b+c+f+\"&zx=\"+google.time();/^http:/i.test(a)&&google.https()&&(google.ml(Error(\"a\"),!1,{src:a,glmm:1}),a=\"\");return a};google.y={};google.x=function(a,b){google.y[a.id]=[a,b];return!1};google.load=function(a,b,d){google.x({id:a+k++},function(){google.load(a,b,d)})};var k=0;})();google.kCSI={};var _gjwl=location;function _gjuc(){var a=_gjwl.href.indexOf(\"#\");if(0<=a&&(a=_gjwl.href.substring(a),0<a.indexOf(\"&q=\")||0<=a.indexOf(\"#q=\"))&&(a=a.substring(1),-1==a.indexOf(\"#\"))){for(var d=0;d<a.length;){var b=d;\"&\"==a.charAt(b)&&++b;var c=a.indexOf(\"&\",b);-1==c&&(c=a.length);b=a.substring(b,c);if(0==b.indexOf(\"fp=\"))a=a.substring(0,d)+a.substring(c,a.length),c=d;else if(\"cad=h\"==b)return 0;d=c}_gjwl.href=\"/search?\"+a+\"&cad=h\";return 1}return 0}\\nfunction _gjh(){!_gjuc()&&window.google&&google.x&&google.x({id:\"GJH\"},function(){google.nav&&google.nav.gjh&&google.nav.gjh()})};window._gjh&&_gjh();</script><style>#gbar,#guser{font-size:13px;padding-top:1px !important;}#gbar{height:22px}#guser{padding-bottom:7px !important;text-align:right}.gbh,.gbd{border-top:1px solid #c9d7f1;font-size:1px}.gbh{height:0;position:absolute;top:24px;width:100%}@media all{.gb1{height:22px;margin-right:.5em;vertical-align:top}#gbar{float:left}}a.gb1,a.gb4{text-decoration:underline !important}a.gb1,a.gb4{color:#00c !important}.gbi .gb4{color:#dd8e27 !important}.gbf .gb4{color:#900 !important}\\n</style><style>body,td,a,p,.h{font-family:\\xb1\\xbc\\xb8\\xb2,\\xb5\\xb8\\xbf\\xf2,arial,sans-serif}.ko{font-size:9pt}body{margin:0;overflow-y:scroll}#gog{padding:3px 8px 0}td{line-height:.8em}.gac_m td{line-height:17px}form{margin-bottom:20px}.h{color:#36c}.q{color:#00c}.ts td{padding:0}.ts{border-collapse:collapse}em{font-weight:bold;font-style:normal}.lst{height:25px;width:496px}.gsfi,.lst{font:18px arial,sans-serif}.gsfs{font:17px arial,sans-serif}.ds{display:inline-box;display:inline-block;margin:3px 0 4px;margin-left:4px}input{font-family:inherit}a.gb1,a.gb2,a.gb3,a.gb4{color:#11c !important}body{background:#fff;color:black}a{color:#11c;text-decoration:none}a:hover,a:active{text-decoration:underline}.fl a{color:#36c}a:visited{color:#551a8b}a.gb1,a.gb4{text-decoration:underline}a.gb3:hover{text-decoration:none}#ghead a.gb2:hover{color:#fff !important}.sblc{padding-top:5px}.sblc a{display:block;margin:2px 0;margin-left:13px;font-size:11px}.lsbb{background:#eee;border:solid 1px;border-color:#ccc #999 #999 #ccc;height:30px}.lsbb{display:block}.ftl,#fll a{display:inline-block;margin:0 12px}.lsb{background:url(/images/srpr/nav_logo80.png) 0 -258px repeat-x;border:none;color:#000;cursor:pointer;height:30px;margin:0;outline:0;font:15px arial,sans-serif;vertical-align:top}.lsb:active{background:#ccc}.lst:focus{outline:none}.tiah{width:458px}</style><script></script></head><body bgcolor=\"#fff\"><script>(function(){var src=\\'/images/nav_logo199.png\\';var iesg=false;document.body.onload = function(){window.n && window.n();if (document.images){new Image().src=src;}\\nif (!iesg){document.f&&document.f.q.focus();document.gbqf&&document.gbqf.q.focus();}\\n}\\n})();</script><div id=\"mngb\">    <div id=gbar><nobr><b class=gb1>\\xb0\\xcb\\xbb\\xf6</b> <a class=gb1 href=\"http://www.google.co.kr/imghp?hl=ko&tab=wi\">\\xc0\\xcc\\xb9\\xcc\\xc1\\xf6</a> <a class=gb1 href=\"http://maps.google.co.kr/maps?hl=ko&tab=wl\">\\xc1\\xf6\\xb5\\xb5</a> <a class=gb1 href=\"https://play.google.com/?hl=ko&tab=w8\">Play</a> <a class=gb1 href=\"http://www.youtube.com/?gl=KR&tab=w1\">YouTube</a> <a class=gb1 href=\"http://news.google.co.kr/nwshp?hl=ko&tab=wn\">\\xb4\\xba\\xbd\\xba</a> <a class=gb1 href=\"https://mail.google.com/mail/?tab=wm\">Gmail</a> <a class=gb1 href=\"https://drive.google.com/?tab=wo\">\\xb5\\xe5\\xb6\\xf3\\xc0\\xcc\\xba\\xea</a> <a class=gb1 style=\"text-decoration:none\" href=\"http://www.google.co.kr/intl/ko/options/\"><u>\\xb4\\xf5\\xba\\xb8\\xb1\\xe2</u> &raquo;</a></nobr></div><div id=guser width=100%><nobr><span id=gbn class=gbi></span><span id=gbf class=gbf></span><span id=gbe></span><a href=\"http://www.google.co.kr/history/optout?hl=ko\" class=gb4>\\xc0\\xa5 \\xb1\\xe2\\xb7\\xcf</a> | <a  href=\"/preferences?hl=ko\" class=gb4>\\xbc\\xb3\\xc1\\xa4</a> | <a target=_top id=gb_70 href=\"https://accounts.google.com/ServiceLogin?hl=ko&continue=http://www.google.co.kr/%3Fgfe_rd%3Dcr%26ei%3DrQG3VajlDYyAmwXt4KTgAw\" class=gb4>\\xb7\\xce\\xb1\\xd7\\xc0\\xce</a></nobr></div><div class=gbh style=left:0></div><div class=gbh style=right:0></div>    </div><center><span id=\"prt\" style=\"display:block\"> <div><style>.pmoabs{background-color:#fff;border:1px solid #E5E5E5;color:#666;font-size:13px;padding-bottom:20px;position:absolute;right:2px;top:3px;z-index:986}#pmolnk{border-radius:2px;-moz-border-radius:2px;-webkit-border-radius:2px}.kd-button-submit{border:1px solid #3079ed;background-color:#4d90fe;background-image:-webkit-gradient(linear,left top,left bottom,from(#4d90fe),to(#4787ed));background-image:-webkit-linear-gradient(top,#4d90fe,#4787ed);background-image:-moz-linear-gradient(top,#4d90fe,#4787ed);background-image:-ms-linear-gradient(top,#4d90fe,#4787ed);background-image:-o-linear-gradient(top,#4d90fe,#4787ed);background-image:linear-gradient(top,#4d90fe,#4787ed);filter:progid:DXImageTransform.Microsoft.gradient(startColorStr=\\'#4d90fe\\',EndColorStr=\\'#4787ed\\')}.kd-button-submit:hover{border:1px solid #2f5bb7;background-color:#357ae8;background-image:-webkit-gradient(linear,left top,left bottom,from(#4d90fe),to(#357ae8));background-image:-webkit-linear-gradient(top,#4d90fe,#357ae8);background-image:-moz-linear-gradient(top,#4d90fe,#357ae8);background-image:-ms-linear-gradient(top,#4d90fe,#357ae8);background-image:-o-linear-gradient(top,#4d90fe,#357ae8);background-image:linear-gradient(top,#4d90fe,#357ae8);filter:progid:DXImageTransform.Microsoft.gradient(startColorStr=\\'#4d90fe\\',EndColorStr=\\'#357ae8\\')}.kd-button-submit:active{-webkit-box-shadow:inset 0 1px 2px rgba(0,0,0,0.3);-moz-box-shadow:inset 0 1px 2px rgba(0,0,0,0.3);box-shadow:inset 0 1px 2px rgba(0,0,0,0.3)}#pmolnk a{color:#fff;display:inline-block;font-weight:bold;padding:5px 20px;text-decoration:none;white-space:nowrap}.xbtn{color:#999;cursor:pointer;font-size:23px;line-height:5px;padding-top:5px}.padi{padding:0 8px 0 10px}.padt{padding:5px 20px 0 0;color:#444}.pads{text-align:left;max-width:200px}</style> <div class=\"pmoabs\" id=\"pmocntr2\" style=\"behavior:url(#default#userdata);display:none\"> <table border=\"0\"> <tr> <td colspan=\"2\"> <div class=\"xbtn\" onclick=\"google.promos&&google.promos.toast&& google.promos.toast.cpc()\" style=\"float:right\">&times;</div> </td> </tr> <tr> <td class=\"padi\" rowspan=\"2\"> <img src=\"/images/icons/product/chrome-48.png\"> </td> <td class=\"pads\">\\xc0\\xce\\xc5\\xcd\\xb3\\xdd\\xc0\\xbb \\xb4\\xf5\\xbf\\xed \\xba\\xfc\\xb8\\xa3\\xb0\\xd4 \\xbb\\xe7\\xbf\\xeb\\xc7\\xcf\\xb4\\xc2 \\xb9\\xe6\\xb9\\xfd</td> </tr> <tr> <td class=\"padt\"> <div class=\"kd-button-submit\" id=\"pmolnk\"> <a href=\"/chrome/index.html?hl=ko&amp;brand=CHNG&amp;utm_source=ko-hpp&amp;utm_medium=hpp&amp;utm_campaign=ko\" onclick=\"google.promos&&google.promos.toast&& google.promos.toast.cl()\">Chrome \\xb4\\xd9\\xbf\\xee\\xb7\\xce\\xb5\\xe5</a> </div> </td> </tr> </table> </div> <script type=\"text/javascript\">(function(){var a={v:{}};a.v.wa=50;a.v.ta=10;a.v.ba=\"body\";a.v.Sa=!0;a.v.Va=function(b,c){var d=a.v.Ia();a.v.Ka(d,b,c);a.v.Wa(d);a.v.Sa&&a.v.Ta(d)};a.v.Wa=function(b){(b=a.v.da(b))&&0<b.forms.length&&b.forms[0].submit()};a.v.Ia=function(){var b=document.createElement(\"iframe\");b.height=0;b.width=0;b.style.overflow=\"hidden\";b.style.top=b.style.left=\"-100px\";b.style.position=\"absolute\";document.body.appendChild(b);return b};a.v.da=function(b){return b.contentDocument||b.contentWindow.document};a.v.Ka=function(b,c,d){b=a.v.da(b);b.open();d=[\"<\",a.v.ba,\\'><form method=POST action=\"\\',d,\\'\">\\'];for(var e in c)c.hasOwnProperty(e)&&d.push(\\'<textarea name=\"\\',e,\\'\">\\',c[e],\"</textarea>\");d.push(\"</form></\",a.v.ba,\">\");b.write(d.join(\"\"));b.close()};a.v.fa=function(b,c){c>a.v.ta?google&&google.ml&&google.ml(Error(\"ogcdr\"),!1,{cause:\"timeout\"}):b.contentWindow?a.v.Ua(b):window.setTimeout(function(){a.v.fa(b,c+1)},a.v.wa)};a.v.Ua=function(b){document.body.removeChild(b)};a.v.Ta=function(b){a.v.Ga(b,\"load\",function(){a.v.fa(b,0)})};a.v.Ga=function(b,c,d){b.addEventListener?b.addEventListener(c,d,!1):b.attachEvent&&b.attachEvent(\"on\"+c,d)};var m={Za:0,H:1,I:2,N:5};a.s={};a.s.P={oa:\"i\",M:\"d\",qa:\"l\"};a.s.D={R:\"0\",J:\"1\"};a.s.S={O:1,M:2,L:3};a.s.B={ia:\"a\",ma:\"g\",G:\"c\",Ca:\"u\",Ba:\"t\",R:\"p\",va:\"pid\",ka:\"eid\",Da:\"at\"};a.s.pa=window.location.protocol+\"//www.google.com/_/og/promos/\";a.s.la=\"g\";a.s.Ea=\"z\";a.s.W=function(b,c,d,e){var f=null;switch(c){case m.H:f=window.gbar.up.gpd(b,d,!0);break;case m.N:f=window.gbar.up.gcc(e)}return null==f?0:parseInt(f,10)};a.s.Oa=function(b,c,d){return c==m.H?null!=window.gbar.up.gpd(b,d,!0):!1};a.s.T=function(b,c,d,e,f,h,k,l){var g={};g[a.s.B.R]=b;g[a.s.B.ma]=c;g[a.s.B.ia]=d;g[a.s.B.Da]=e;g[a.s.B.ka]=f;g[a.s.B.va]=1;k&&(g[a.s.B.G]=k);l&&(g[a.s.B.Ca]=l);if(h)g[a.s.B.Ba]=h;else return google.ml(Error(\"knu\"),!1,{cause:\"Token is not found\"}),null;return g};a.s.Z=function(b,c,d){if(b){var e=c?a.s.la:a.s.Ea;c&&d&&(e+=\"?authuser=\"+d);a.v.Va(b,a.s.pa+e)}};a.s.Ja=function(b,c,d,e,f,h,k){b=a.s.T(c,b,a.s.P.M,a.s.S.M,d,f,null,e);a.s.Z(b,h,k)};a.s.Ma=function(b,c,d,e,f,h,k){b=a.s.T(c,b,a.s.P.oa,a.s.S.O,d,f,e,null);a.s.Z(b,h,k)};a.s.Ra=function(b,c,d,e,f,h,k,l,g,n){switch(c){case m.N:window.gbar.up.dpc(e,f);break;case m.H:window.gbar.up.spd(b,d,1,!0);break;case m.I:g=g||!1,l=l||\"\",h=h||0,k=k||a.s.D.J,n=n||0,a.s.Ja(e,h,k,f,l,g,n)}};a.s.Pa=function(b,c,d,e,f){return c==m.H?0<d&&a.s.W(b,c,e,f)>=d:!1};a.s.La=function(b,c,d,e,f,h,k,l,g,n){switch(c){case m.N:window.gbar.up.iic(e,f);break;case m.H:c=a.s.W(b,c,d,e)+1;window.gbar.up.spd(b,d,c.toString(),!0);break;case m.I:g=g||!1,l=l||\"\",h=h||0,k=k||a.s.D.R,n=n||0,a.s.Ma(e,h,k,1,l,g,n)}};a.s.Qa=function(b,c,d,e,f,h){b=a.s.T(c,b,a.s.P.qa,a.s.S.L,d,e,null,null);a.s.Z(b,f,h)};var p={Xa:\"a\",$a:\"l\",Ya:\"c\",ja:\"d\",L:\"h\",O:\"i\",kb:\"n\",J:\"x\",hb:\"ma\",ib:\"mc\",jb:\"mi\",ab:\"pa\",bb:\"pc\",eb:\"pi\",gb:\"pn\",fb:\"px\",cb:\"pd\",lb:\"gpa\",nb:\"gpi\",ob:\"gpn\",pb:\"gpx\",mb:\"gpd\"};a.o={};a.o.A={ra:\"hplogo\",Aa:\"pmocntr2\"};a.o.D={za:\"0\",J:\"1\",ha:\"2\"};a.o.w=document.getElementById(a.o.A.Aa);a.o.na=16;a.o.xa=2;a.o.ya=20;google.promos=google.promos||{};google.promos.toast=google.promos.toast||{};a.o.K=function(b){a.o.w&&(a.o.w.style.display=b?\"\":\"none\",a.o.w.parentNode&&(a.o.w.parentNode.style.position=b?\"relative\":\"\"))};a.o.ga=function(b){try{if(a.o.w&&b&&b.es&&b.es.m){var c=window.gbar.rtl(document.body)?\"left\":\"right\";a.o.w.style[c]=b.es.m-a.o.na+a.o.xa+\"px\";a.o.w.style.top=a.o.ya+\"px\"}}catch(d){google.ml(d,!1,{cause:a.o.C+\"_PT\"})}};google.promos.toast.cl=function(){try{a.o.U==m.I&&a.s.Qa(a.o.X,a.o.F,a.o.D.ha,a.o.aa,a.o.Y,a.o.$),window.gbar.up.sl(a.o.F,a.o.C,p.L,a.o.V(),1)}catch(b){google.ml(b,!1,{cause:a.o.C+\"_CL\"})}};google.promos.toast.cpc=function(){try{a.o.w&&(a.o.K(!1),a.s.Ra(a.o.w,a.o.U,a.o.A.ca,a.o.X,a.o.Ha,a.o.F,a.o.D.J,a.o.aa,a.o.Y,a.o.$),window.gbar.up.sl(a.o.F,a.o.C,p.ja,a.o.V(),1))}catch(b){google.ml(b,!1,{cause:a.o.C+\"_CPC\"})}};a.o.ea=function(){try{if(a.o.w){var b=276,c=document.getElementById(a.o.A.ra);c&&(b=Math.max(b,c.offsetWidth));var d=parseInt(a.o.w.style.right,10)||0;a.o.w.style.visibility=2*(a.o.w.offsetWidth+d)+b>document.body.clientWidth?\"hidden\":\"\"}}catch(e){google.ml(e,!1,{cause:a.o.C+\"_HOSW\"})}};a.o.Fa=function(){var b=[\"gpd\",\"spd\",\"aeh\",\"sl\"];if(!window.gbar||!window.gbar.up)return!1;for(var c=0,d;d=b[c];c++)if(!(d in window.gbar.up))return!1;return!0};a.o.Na=function(){return a.o.w.currentStyle&&\"absolute\"!=a.o.w.currentStyle.position};google.promos.toast.init=function(b,c,d,e,f,h,k,l,g,n,q,r){try{if(!a.o.Fa())google.ml(Error(\"apa\"),!1,{cause:a.o.C+\"_INIT\"});else if(a.o.w)if(e==m.I&&!l==!g)google.ml(Error(\"tku\"),!1,{cause:\"zwieback: \"+g+\", gaia: \"+l}),a.o.K(!1);else if(a.o.A.G=\"toast_count_\"+c+(q?\"_\"+q:\"\"),a.o.A.ca=\"toast_dp_\"+c+(r?\"_\"+r:\"\"),a.o.C=d,a.o.F=b,a.o.U=e,a.o.X=c,a.o.Ha=f,a.o.aa=l?l:g,a.o.Y=!!l,a.o.$=k,a.s.Oa(a.o.w,e,a.o.A.ca,c)||a.s.Pa(a.o.w,e,h,a.o.A.G,c)||a.o.Na())a.o.K(!1);else{a.s.La(a.o.w,e,a.o.A.G,c,f,a.o.F,a.o.D.za,a.o.aa,a.o.Y,a.o.$);if(!n){try{window.gbar.up.aeh(window,\"resize\",a.o.ea)}catch(u){}window.lol=a.o.ea;window.gbar.elr&&a.o.ga(window.gbar.elr());window.gbar.elc&&window.gbar.elc(a.o.ga);a.o.K(!0)}window.gbar.up.sl(a.o.F,a.o.C,p.O,a.o.V())}}catch(t){google.ml(t,!1,{cause:a.o.C+\"_INIT\"})}};a.o.V=function(){var b=a.s.W(a.o.w,a.o.U,a.o.A.G,a.o.X);return\"ic=\"+b};})();</script> <script type=\"text/javascript\">(function(){var sourceWebappPromoID=291003;var sourceWebappGroupID=5;var payloadType=5;var cookieMaxAgeSec=2592000;var dismissalType=5;var impressionCap=25;var gaiaXsrfToken=\\'\\';var zwbkXsrfToken=\\'\\';var kansasDismissalEnabled=false;var sessionIndex=0;var invisible=false;window.gbar&&gbar.up&&gbar.up.r&&gbar.up.r(payloadType,function(show){if (show){google.promos.toast.init(sourceWebappPromoID,sourceWebappGroupID,payloadType,dismissalType,cookieMaxAgeSec,impressionCap,sessionIndex,gaiaXsrfToken,zwbkXsrfToken,invisible,\\'0612\\');}\\n});})();</script> </div> </span><br clear=\"all\" id=\"lgpd\"><div id=\"lga\"><div style=\"padding:28px 0 3px\"><div style=\"height:110px;width:276px;background:url(/images/srpr/logo9w.png) no-repeat\" title=\"Google\" align=\"left\" id=\"hplogo\" onload=\"window.lol&&lol()\"><div style=\"color:#777;font-size:16px;font-weight:bold;position:relative;top:70px;left:218px\" nowrap=\"\">\\xc7\\xd1\\xb1\\xb9\\r\\n</div></div></div><br></div><form action=\"/search\" name=\"f\"><table cellpadding=\"0\" cellspacing=\"0\"><tr valign=\"top\"><td width=\"25%\">&nbsp;</td><td align=\"center\" nowrap=\"\"><input name=\"ie\" value=\"EUC-KR\" type=\"hidden\"><input value=\"ko\" name=\"hl\" type=\"hidden\"><input name=\"source\" type=\"hidden\" value=\"hp\"><input name=\"biw\" type=\"hidden\"><input name=\"bih\" type=\"hidden\"><div class=\"ds\" style=\"height:32px;margin:4px 0\"><div style=\"position:relative;zoom:1\"><input style=\"color:#000;margin:0;padding:5px 8px 0 6px;vertical-align:top;padding-right:38px\" autocomplete=\"off\" class=\"lst tiah\" value=\"\" title=\"Google \\xb0\\xcb\\xbb\\xf6\" maxlength=\"2048\" name=\"q\" size=\"57\"><img src=\"/textinputassistant/tia.png\" style=\"position:absolute;cursor:pointer;right:5px;top:4px;z-index:300\" onclick=\"(function(){var src=\\'/textinputassistant/11/ko_tia.js\\';var s=document.createElement(\\'script\\');s.src=src;google.dom.append(s);})();\" alt=\"\" height=\"23\" width=\"27\"></div></div><br style=\"line-height:0\"><span class=\"ds\"><span class=\"lsbb\"><input class=\"lsb\" value=\"Google \\xb0\\xcb\\xbb\\xf6\" name=\"btnG\" type=\"submit\"></span></span><span class=\"ds\"><span class=\"lsbb\"><input class=\"lsb\" value=\"I\\xa1\\xafm Feeling Lucky\" name=\"btnI\" onclick=\"if(this.form.q.value)this.checked=1; else top.location=\\'/doodles/\\'\" type=\"submit\"></span></span></td><td class=\"fl sblc\" align=\"left\" nowrap=\"\" width=\"25%\"><a href=\"/advanced_search?hl=ko&amp;authuser=0\">\\xb0\\xed\\xb1\\xde\\xb0\\xcb\\xbb\\xf6</a><a href=\"/language_tools?hl=ko&amp;authuser=0\">\\xbe\\xf0\\xbe\\xee\\xb5\\xb5\\xb1\\xb8</a></td></tr></table><input id=\"gbv\" name=\"gbv\" type=\"hidden\" value=\"1\"></form><div id=\"gac_scont\"></div><div style=\"font-size:83%;min-height:3.5em\"><br></div><span id=\"footer\"><div style=\"font-size:10pt\"><div style=\"margin:19px auto;text-align:center\" id=\"fll\"><a href=\"/intl/ko/ads/\">\\xb1\\xa4\\xb0\\xed \\xc7\\xc1\\xb7\\xce\\xb1\\xd7\\xb7\\xa5</a><a href=\"http://www.google.co.kr/intl/ko/services/\">\\xba\\xf1\\xc1\\xee\\xb4\\xcf\\xbd\\xba \\xbc\\xd6\\xb7\\xe7\\xbc\\xc7</a><a href=\"https://plus.google.com/102197601262446632410\" rel=\"publisher\">+Google</a><a href=\"/intl/ko/about.html\">Google \\xc1\\xa4\\xba\\xb8</a><a href=\"http://www.google.co.kr/setprefdomain?prefdom=US&amp;sig=__ST945ILgGL9y1uQJUmkDnMPkBo8%3D\" id=\"fehl\">Google.com</a></div></div><p style=\"color:#767676;font-size:8pt\">&copy; 2015 - <a href=\"/intl/ko/policies/privacy/\">\\xb0\\xb3\\xc0\\xce\\xc1\\xa4\\xba\\xb8\\xc3\\xeb\\xb1\\xde\\xb9\\xe6\\xc4\\xa7</a> - <a href=\"/intl/ko/policies/terms/\">\\xbe\\xe0\\xb0\\xfc</a></p></span></center><script>(function(){window.google.cdo={height:0,width:0};(function(){var a=window.innerWidth,b=window.innerHeight;if(!a||!b)var c=window.document,d=\"CSS1Compat\"==c.compatMode?c.documentElement:c.body,a=d.clientWidth,b=d.clientHeight;a&&b&&(a!=google.cdo.width||b!=google.cdo.height)&&google.log(\"\",\"\",\"/client_204?&atyp=i&biw=\"+a+\"&bih=\"+b+\"&ei=\"+google.kEI);})();})();</script><div id=\"xjsd\"></div><div id=\"xjsi\" data-jiis=\"bp\"><script>(function(){function c(b){window.setTimeout(function(){var a=document.createElement(\"script\");a.src=b;document.getElementById(\"xjsd\").appendChild(a)},0)}google.dljp=function(b,a){google.xjsu=b;c(a)};google.dlj=c;})();(function(){window.google.xjsrm=[];})();if(google.y)google.y.first=[];if(!google.xjs){window._=window._||{};window._._DumpException=function(e){throw e};if(google.timers&&google.timers.load.t){google.timers.load.t.xjsls=new Date().getTime();}google.dljp(\\'/xjs/_/js/k\\\\x3dxjs.hp.en_US.tpXeRTQjmSA.O/m\\\\x3dsb_he,d/rt\\\\x3dj/d\\\\x3d1/t\\\\x3dzcms/rs\\\\x3dACT90oGq_-VfCA6W_zy-X5i-4Exo9v8hDA\\',\\'/xjs/_/js/k\\\\x3dxjs.hp.en_US.tpXeRTQjmSA.O/m\\\\x3dsb_he,d/rt\\\\x3dj/d\\\\x3d1/t\\\\x3dzcms/rs\\\\x3dACT90oGq_-VfCA6W_zy-X5i-4Exo9v8hDA\\');google.xjs=1;}google.pmc={\"sb_he\":{\"agen\":true,\"cgen\":true,\"client\":\"heirloom-hp\",\"dh\":true,\"ds\":\"\",\"fl\":true,\"host\":\"google.co.kr\",\"jam\":0,\"jsonp\":true,\"msgs\":{\"cibl\":\"\\xb0\\xcb\\xbb\\xf6\\xbe\\xee \\xc1\\xf6\\xbf\\xec\\xb1\\xe2\",\"dym\":\"\\xc0\\xcc\\xb0\\xcd\\xc0\\xbb \\xc3\\xa3\\xc0\\xb8\\xbc\\xcc\\xb3\\xaa\\xbf\\xe4?\",\"lcky\":\"I\\xa1\\xafm Feeling Lucky\",\"lml\":\"\\xc0\\xda\\xbc\\xbc\\xc8\\xf7 \\xbe\\xcb\\xbe\\xc6\\xba\\xb8\\xb1\\xe2\",\"oskt\":\"\\xc0\\xd4\\xb7\\xc2 \\xb5\\xb5\\xb1\\xb8\",\"psrc\":\"\\xb0\\xcb\\xbb\\xf6\\xbe\\xee\\xb0\\xa1 \\\\u003Ca href=\\\\\"/history\\\\\"\\\\u003E\\xc0\\xa5 \\xb1\\xe2\\xb7\\xcf\\\\u003C/a\\\\u003E\\xbf\\xa1\\xbc\\xad \\xbb\\xe8\\xc1\\xa6\\xb5\\xc7\\xbe\\xfa\\xbd\\xc0\\xb4\\xcf\\xb4\\xd9.\",\"psrl\":\"\\xbb\\xe8\\xc1\\xa6\",\"sbit\":\"\\xc0\\xcc\\xb9\\xcc\\xc1\\xf6\\xb7\\xce \\xb0\\xcb\\xbb\\xf6\",\"srch\":\"Google \\xb0\\xcb\\xbb\\xf6\"},\"ovr\":{},\"pq\":\"\",\"refoq\":true,\"refpd\":true,\"refspre\":true,\"rfs\":[],\"scd\":10,\"sce\":5,\"stok\":\"q5MlZAn6qx8fZn-bT-nOFuLV81A\"},\"d\":{}};google.y.first.push(function(){if(google.med){google.med(\\'init\\');google.initHistory();google.med(\\'history\\');}});if(google.j&&google.j.en&&google.j.xi){window.setTimeout(google.j.xi,0);}\\n</script></div></body></html>'\n"
       ]
      }
     ],
     "prompt_number": 6
    },
    {
     "cell_type": "code",
     "collapsed": false,
     "input": [
      "class YStock:\n",
      "    \"\"\"\n",
      "    Class that downloads and stores data from Yahoo Finance\n",
      "    Examples:\n",
      "    >>> google = YStock('GOOG')\n",
      "    >>> current = google.current()\n",
      "    >>> price = current['price']\n",
      "    >>> market_cap = current['market_cap']\n",
      "    >>> h = google.historical()\n",
      "    >>> last_adjusted_close = h[-1]['adjusted_close']\n",
      "    >>> last_log_return = h[-1]['log_return']\n",
      "    \"\"\"\n",
      "    URL_CURRENT = 'http://finance.yahoo.com/d/quotes.csv?s=%(symbol)s&f=%(columns)s'\n",
      "    URL_HISTORICAL = 'http://ichart.yahoo.com/table.csv?s=%(s)s&a=%(a)s&b=%(b)s&c=%(c)s&d=%(d)s&e=%(e)s&f=%(f)s'\n",
      "    def __init__(self,symbol):\n",
      "        self.symbol = symbol.upper()\n",
      "\n",
      "    def current(self):\n",
      "        import urllib\n",
      "        FIELDS = (('price', 'l1'),\n",
      "                  ('change', 'c1'),\n",
      "                  ('volume', 'v'),\n",
      "                  ('average_daily_volume', 'a2'),\n",
      "                  ('stock_exchange', 'x'),\n",
      "                  ('market_cap', 'j1'),\n",
      "                  ('book_value', 'b4'),\n",
      "                  ('ebitda', 'j4'),\n",
      "                  ('dividend_per_share', 'd'),\n",
      "                  ('dividend_yield', 'y'),\n",
      "                  ('earnings_per_share', 'e'),\n",
      "                  ('52_week_high', 'k'),\n",
      "                  ('52_week_low', 'j'),\n",
      "                  ('50_days_moving_average', 'm3'),\n",
      "                  ('200_days_moving_average', 'm4'),\n",
      "                  ('price_earnings_ratio', 'r'),\n",
      "                  ('price_earnings_growth_ratio', 'r5'),\n",
      "                  ('price_sales_ratio', 'p5'),\n",
      "                  ('price_book_ratio', 'p6'),\n",
      "                  ('short_ratio', 's7'))\n",
      "        columns = ''.join([row[1] for row in FIELDS])\n",
      "        url = self.URL_CURRENT % dict(symbol=self.symbol, columns=columns)\n",
      "        raw_data = urllib.urlopen(url).read().strip().strip('\"').split(',')\n",
      "        current = dict()\n",
      "        for i,row in enumerate(FIELDS):\n",
      "            try:\n",
      "                current[row[0]] = float(raw_data[i])\n",
      "            except:\n",
      "                current[row[0]] = raw_data[i]\n",
      "        return current\n",
      "\n",
      "    def historical(self,start=None, stop=None):\n",
      "        import datetime, time, urllib, math\n",
      "        start =  start or datetime.date(1900,1,1)\n",
      "        stop = stop or datetime.date.today()\n",
      "        url = self.URL_HISTORICAL % dict(\n",
      "            s=self.symbol,\n",
      "            a=start.month-1,b=start.day,c=start.year,\n",
      "            d=stop.month-1,e=stop.day,f=stop.year)\n",
      "        # Date,Open,High,Low,Close,Volume,Adj Close\n",
      "        lines = urllib.urlopen(url).readlines()\n",
      "        raw_data = [row.split(',') for row in lines[1:] if row.count(',')==6]\n",
      "        previous_adjusted_close = 0\n",
      "        series = []\n",
      "        raw_data.reverse()\n",
      "        for row in raw_data:\n",
      "            open, high, low = float(row[1]), float(row[2]), float(row[3])\n",
      "            close, vol = float(row[4]), float(row[5])\n",
      "            adjusted_close = float(row[6])\n",
      "            adjustment = adjusted_close/close\n",
      "            if previous_adjusted_close:\n",
      "                arithmetic_return = adjusted_close/previous_adjusted_close-1.0\n",
      "\n",
      "                log_return = math.log(adjusted_close/previous_adjusted_close)\n",
      "            else:\n",
      "                arithmetic_return = log_return = None\n",
      "            previous_adjusted_close = adjusted_close\n",
      "            series.append(dict(\n",
      "               date = datetime.datetime.strptime(row[0],'%Y-%m-%d'),\n",
      "               open = open,\n",
      "               high = high,\n",
      "               low = low,\n",
      "               close = close,\n",
      "               volume = vol,\n",
      "               adjusted_close = adjusted_close,\n",
      "               adjusted_open = open*adjustment,\n",
      "               adjusted_high = high*adjustment,\n",
      "               adjusted_low = low*adjustment,\n",
      "               adjusted_vol = vol/adjustment,\n",
      "               arithmetic_return = arithmetic_return,\n",
      "               log_return = log_return))\n",
      "        return series\n",
      "\n",
      "    @staticmethod\n",
      "    def download(symbol='goog',what='adjusted_close',start=None,stop=None):\n",
      "        return [d[what] for d in YStock(symbol).historical(start,stop)]\n"
     ],
     "language": "python",
     "metadata": {},
     "outputs": [],
     "prompt_number": 7
    },
    {
     "cell_type": "code",
     "collapsed": false,
     "input": [
      "from ocl import Compiler\n",
      "c99 = Compiler()\n",
      "@c99.define(n='int')\n",
      "def factorial(n):\n",
      "    output =1\n",
      "    for k in range(1,n+1):\n",
      "        output = output*k\n",
      "    return output\n",
      "compiled = c99.compile()\n",
      "print(compiled.factorial(10))"
     ],
     "language": "python",
     "metadata": {},
     "outputs": [
      {
       "ename": "ImportError",
       "evalue": "No module named 'meta'",
       "output_type": "pyerr",
       "traceback": [
        "\u001b[0;31m---------------------------------------------------------------------------\u001b[0m\n\u001b[0;31mImportError\u001b[0m                               Traceback (most recent call last)",
        "\u001b[0;32m<ipython-input-9-19485e6a6a00>\u001b[0m in \u001b[0;36m<module>\u001b[0;34m()\u001b[0m\n\u001b[0;32m----> 1\u001b[0;31m \u001b[0;32mfrom\u001b[0m \u001b[0mocl\u001b[0m \u001b[0;32mimport\u001b[0m \u001b[0mCompiler\u001b[0m\u001b[0;34m\u001b[0m\u001b[0m\n\u001b[0m\u001b[1;32m      2\u001b[0m \u001b[0mc99\u001b[0m \u001b[0;34m=\u001b[0m \u001b[0mCompiler\u001b[0m\u001b[0;34m(\u001b[0m\u001b[0;34m)\u001b[0m\u001b[0;34m\u001b[0m\u001b[0m\n\u001b[1;32m      3\u001b[0m \u001b[0;34m@\u001b[0m\u001b[0mc99\u001b[0m\u001b[0;34m.\u001b[0m\u001b[0mdefine\u001b[0m\u001b[0;34m(\u001b[0m\u001b[0mn\u001b[0m\u001b[0;34m=\u001b[0m\u001b[0;34m'int'\u001b[0m\u001b[0;34m)\u001b[0m\u001b[0;34m\u001b[0m\u001b[0m\n\u001b[1;32m      4\u001b[0m \u001b[0;32mdef\u001b[0m \u001b[0mfactorial\u001b[0m\u001b[0;34m(\u001b[0m\u001b[0mn\u001b[0m\u001b[0;34m)\u001b[0m\u001b[0;34m:\u001b[0m\u001b[0;34m\u001b[0m\u001b[0m\n\u001b[1;32m      5\u001b[0m     \u001b[0moutput\u001b[0m \u001b[0;34m=\u001b[0m\u001b[0;36m1\u001b[0m\u001b[0;34m\u001b[0m\u001b[0m\n",
        "\u001b[0;32m/Library/Frameworks/Python.framework/Versions/3.4/lib/python3.4/site-packages/ocl.py\u001b[0m in \u001b[0;36m<module>\u001b[0;34m()\u001b[0m\n\u001b[1;32m     12\u001b[0m \u001b[0;32mimport\u001b[0m \u001b[0mtempfile\u001b[0m\u001b[0;34m\u001b[0m\u001b[0m\n\u001b[1;32m     13\u001b[0m \u001b[0;32mimport\u001b[0m \u001b[0mshutil\u001b[0m\u001b[0;34m\u001b[0m\u001b[0m\n\u001b[0;32m---> 14\u001b[0;31m \u001b[0;32mfrom\u001b[0m \u001b[0mmeta\u001b[0m\u001b[0;34m.\u001b[0m\u001b[0mdecompiler\u001b[0m \u001b[0;32mimport\u001b[0m \u001b[0mdecompile_func\u001b[0m\u001b[0;34m\u001b[0m\u001b[0m\n\u001b[0m\u001b[1;32m     15\u001b[0m \u001b[0;34m\u001b[0m\u001b[0m\n\u001b[1;32m     16\u001b[0m \u001b[0;32mtry\u001b[0m\u001b[0;34m:\u001b[0m\u001b[0;34m\u001b[0m\u001b[0m\n",
        "\u001b[0;31mImportError\u001b[0m: No module named 'meta'"
       ]
      }
     ],
     "prompt_number": 9
    },
    {
     "cell_type": "code",
     "collapsed": false,
     "input": [
      "dir(ocl)"
     ],
     "language": "python",
     "metadata": {},
     "outputs": [
      {
       "ename": "NameError",
       "evalue": "name 'ocl' is not defined",
       "output_type": "pyerr",
       "traceback": [
        "\u001b[0;31m---------------------------------------------------------------------------\u001b[0m\n\u001b[0;31mNameError\u001b[0m                                 Traceback (most recent call last)",
        "\u001b[0;32m<ipython-input-10-84ec2aab2f46>\u001b[0m in \u001b[0;36m<module>\u001b[0;34m()\u001b[0m\n\u001b[0;32m----> 1\u001b[0;31m \u001b[0mdir\u001b[0m\u001b[0;34m(\u001b[0m\u001b[0mocl\u001b[0m\u001b[0;34m)\u001b[0m\u001b[0;34m\u001b[0m\u001b[0m\n\u001b[0m",
        "\u001b[0;31mNameError\u001b[0m: name 'ocl' is not defined"
       ]
      }
     ],
     "prompt_number": 10
    },
    {
     "cell_type": "code",
     "collapsed": false,
     "input": [],
     "language": "python",
     "metadata": {},
     "outputs": []
    }
   ],
   "metadata": {}
  }
 ]
}